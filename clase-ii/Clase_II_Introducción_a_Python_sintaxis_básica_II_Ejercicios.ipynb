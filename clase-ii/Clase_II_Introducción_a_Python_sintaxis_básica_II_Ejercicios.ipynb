{
  "nbformat": 4,
  "nbformat_minor": 0,
  "metadata": {
    "colab": {
      "name": "Clase II - Introducción a Python: sintaxis básica II - Ejercicios",
      "provenance": []
    },
    "kernelspec": {
      "name": "python3",
      "display_name": "Python 3"
    }
  },
  "cells": [
    {
      "cell_type": "markdown",
      "metadata": {
        "id": "tp5kkYVrPceT"
      },
      "source": [
        "## **Python - Sintaxis básica II**"
      ]
    },
    {
      "cell_type": "markdown",
      "metadata": {
        "id": "pWxnNVbaPrsW"
      },
      "source": [
        "#### **Bucles y Condicionales**"
      ]
    },
    {
      "cell_type": "markdown",
      "metadata": {
        "id": "MaeiQqUwPzmT"
      },
      "source": [
        "1- Crea una lista de nombres con la primera letra en minúscula."
      ]
    },
    {
      "cell_type": "code",
      "metadata": {
        "id": "aeiukjgM6FB0"
      },
      "source": [
        "#Escribí código acá. "
      ],
      "execution_count": null,
      "outputs": []
    },
    {
      "cell_type": "markdown",
      "metadata": {
        "id": "Yy60GPOKP5Bi"
      },
      "source": [
        "2- Hace un bucle que imprima por pantalla los nombres."
      ]
    },
    {
      "cell_type": "code",
      "metadata": {
        "id": "lgNpdlTdQAHC"
      },
      "source": [
        "#Escribí código acá. "
      ],
      "execution_count": null,
      "outputs": []
    },
    {
      "cell_type": "markdown",
      "metadata": {
        "id": "XZURUW3mQCQo"
      },
      "source": [
        "3- Crea un bucle que imprima los nombres por pantalla con la primera letra en mayúsucula."
      ]
    },
    {
      "cell_type": "code",
      "metadata": {
        "id": "q1h-dcNGQO_4"
      },
      "source": [
        "#Escribí código acá. "
      ],
      "execution_count": null,
      "outputs": []
    },
    {
      "cell_type": "markdown",
      "metadata": {
        "id": "KYvEe2OMQQaK"
      },
      "source": [
        "4- Crea una lista numérica de 1 valor."
      ]
    },
    {
      "cell_type": "code",
      "metadata": {
        "id": "jpsV8TtSQYIy"
      },
      "source": [
        "#Escribí código acá. "
      ],
      "execution_count": null,
      "outputs": []
    },
    {
      "cell_type": "markdown",
      "metadata": {
        "id": "9R2goHrhQZ1z"
      },
      "source": [
        "5- Crea un bucle condicional que realice una operación matemática hasta que se cumpla la condición expuesta."
      ]
    },
    {
      "cell_type": "code",
      "metadata": {
        "id": "bq9AgQMhQuCW"
      },
      "source": [
        "#Escribí código acá. "
      ],
      "execution_count": null,
      "outputs": []
    },
    {
      "cell_type": "markdown",
      "metadata": {
        "id": "biRCF3GuQu7U"
      },
      "source": [
        "6- Crea una estructura condicional que evalúe una condición numérica aleatoria.\n",
        "\n",
        "*Hint*: if - else."
      ]
    },
    {
      "cell_type": "code",
      "metadata": {
        "id": "MiamCs2lREG4"
      },
      "source": [
        "#Escribí código acá. "
      ],
      "execution_count": null,
      "outputs": []
    },
    {
      "cell_type": "markdown",
      "metadata": {
        "id": "BqHS7yk2RLU3"
      },
      "source": [
        "7- Sobre la misma estructura condicional anterior, agregale una segunda condición.\n",
        "\n",
        "*Hint*: if-elif-else"
      ]
    },
    {
      "cell_type": "code",
      "metadata": {
        "id": "R3N6j-LPRRdk"
      },
      "source": [
        "#Escribí código acá. "
      ],
      "execution_count": null,
      "outputs": []
    },
    {
      "cell_type": "markdown",
      "metadata": {
        "id": "WxKQ8Jc8RTgL"
      },
      "source": [
        "8- Crea una función propia que emule la estructura condicional anterior.\n",
        "\n",
        "*Hint*: la función necesitará dos argumentos para trabajar internamente."
      ]
    },
    {
      "cell_type": "code",
      "metadata": {
        "id": "boAToxJ9UX2H"
      },
      "source": [
        "#Escribí código acá. "
      ],
      "execution_count": null,
      "outputs": []
    },
    {
      "cell_type": "markdown",
      "metadata": {
        "id": "NJ3frjhpUY43"
      },
      "source": [
        "9- Crea dos variables numéricas de un valor para utilizar tu función anterior."
      ]
    },
    {
      "cell_type": "code",
      "metadata": {
        "id": "eRz2stWEUoHf"
      },
      "source": [
        "#Escribí código acá. "
      ],
      "execution_count": null,
      "outputs": []
    }
  ]
}