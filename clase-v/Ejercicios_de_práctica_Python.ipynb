{
  "nbformat": 4,
  "nbformat_minor": 0,
  "metadata": {
    "colab": {
      "name": "Ejercicios de práctica Python",
      "provenance": [],
      "collapsed_sections": []
    },
    "kernelspec": {
      "name": "python3",
      "display_name": "Python 3"
    }
  },
  "cells": [
    {
      "cell_type": "markdown",
      "metadata": {
        "id": "hcgNn-6rQ7rA"
      },
      "source": [
        "## **Ejercicios de práctica en Python.**\n"
      ]
    },
    {
      "cell_type": "markdown",
      "metadata": {
        "id": "mw_1c0yvRQSs"
      },
      "source": [
        "1- Creá una variable que sea una lista de números."
      ]
    },
    {
      "cell_type": "code",
      "metadata": {
        "id": "O3DexUfVQ3mF"
      },
      "source": [
        "#Escribí código acá."
      ],
      "execution_count": null,
      "outputs": []
    },
    {
      "cell_type": "markdown",
      "metadata": {
        "id": "pTdQHejSRgPJ"
      },
      "source": [
        "2- A cada elemento de la lista, sumale un 2.\n",
        "\n",
        "\n",
        "**Hint*: Podés usar un loop."
      ]
    },
    {
      "cell_type": "code",
      "metadata": {
        "id": "bXriefWsRXdm"
      },
      "source": [
        "#Escribí código acá."
      ],
      "execution_count": null,
      "outputs": []
    },
    {
      "cell_type": "markdown",
      "metadata": {
        "id": "b78Uf5VURp_X"
      },
      "source": [
        "3- Ahora, agregá una condición que sólo le sume un 2 si es par."
      ]
    },
    {
      "cell_type": "code",
      "metadata": {
        "id": "i26XceBvRYyR"
      },
      "source": [
        "#Escribí código acá."
      ],
      "execution_count": null,
      "outputs": []
    },
    {
      "cell_type": "markdown",
      "metadata": {
        "id": "9YOrvyERR8hC"
      },
      "source": [
        "4- Ahora agregá una segunda condición, que si no es par, lo multiplique por 3."
      ]
    },
    {
      "cell_type": "code",
      "metadata": {
        "id": "Om4lHeppR51I"
      },
      "source": [
        "#Escribí código acá."
      ],
      "execution_count": null,
      "outputs": []
    },
    {
      "cell_type": "markdown",
      "metadata": {
        "id": "catN3AhBSVRV"
      },
      "source": [
        "5- A tu lista de números inicial, agregale un objeto nuevo que sea una *string*. \n",
        "\n",
        "\n",
        "*Hint*: método .append()"
      ]
    },
    {
      "cell_type": "code",
      "metadata": {
        "id": "dafZ0nbHSUd2"
      },
      "source": [
        "#Escribí código acá."
      ],
      "execution_count": null,
      "outputs": []
    },
    {
      "cell_type": "markdown",
      "metadata": {
        "id": "cLVtzCqyThi4"
      },
      "source": [
        "6- Intentá ejecutar el mismo loop que creaste en el 4 con métodos numéricos. "
      ]
    },
    {
      "cell_type": "code",
      "metadata": {
        "id": "Y0r_VrW_SLm9"
      },
      "source": [
        "#Escribí código acá."
      ],
      "execution_count": null,
      "outputs": []
    },
    {
      "cell_type": "markdown",
      "metadata": {
        "id": "05hgngonTydf"
      },
      "source": [
        "7- ¿Qué tipo de error tenemos?\n"
      ]
    },
    {
      "cell_type": "markdown",
      "metadata": {
        "id": "qm4gRcjAT32u"
      },
      "source": [
        "8- Ahora agregá una excepción que ejecute por pantalla el texto *no es un número* cuando el código no pueda ejecutarse.\n",
        "\n",
        "\n",
        "*Hint*: try - except."
      ]
    },
    {
      "cell_type": "code",
      "metadata": {
        "id": "i2hIrUxjTwHs"
      },
      "source": [
        "#Escribí código acá."
      ],
      "execution_count": null,
      "outputs": []
    },
    {
      "cell_type": "markdown",
      "metadata": {
        "id": "hZCJ1RwhUcWT"
      },
      "source": [
        "9- Ahora todo el código *enpaquetalo* en una función con el nombre clasificador_numérico.\n",
        "\n",
        "*Hint*: def - no olvides hacer genérica los argumentos de la función. "
      ]
    },
    {
      "cell_type": "code",
      "metadata": {
        "id": "xaGVGLB7UYPh"
      },
      "source": [
        "#Escribí código acá."
      ],
      "execution_count": null,
      "outputs": []
    },
    {
      "cell_type": "markdown",
      "metadata": {
        "id": "Edipl5ZVVFJI"
      },
      "source": [
        "10- Por último, genera una nueva lista de objetos y testea tu función."
      ]
    },
    {
      "cell_type": "code",
      "metadata": {
        "id": "x0uIPZS2UsUp"
      },
      "source": [
        "#Escribí código acá."
      ],
      "execution_count": null,
      "outputs": []
    },
    {
      "cell_type": "markdown",
      "metadata": {
        "id": "A21lZKLrWgI5"
      },
      "source": [
        "11- Generá una lista de nombres en formato string."
      ]
    },
    {
      "cell_type": "code",
      "metadata": {
        "id": "1Up5k3llVVyd"
      },
      "source": [
        "#Escribí código acá."
      ],
      "execution_count": null,
      "outputs": []
    },
    {
      "cell_type": "markdown",
      "metadata": {
        "id": "O_iD7IcKW93V"
      },
      "source": [
        "12- Ahora hacé un loop en donde reconozca el nombre si es masculino y/o femenino, y sólo devuelva si es femenino.\n",
        "\n",
        "*Hint*: En su mayoría, los nombres femeninos terminan con \"a\", pueden hacer slicing sobre el último elemento para reconocerlo.. (hint*2: [-1])"
      ]
    },
    {
      "cell_type": "code",
      "metadata": {
        "id": "2hkkHYPuWtAN"
      },
      "source": [
        "#Escribí código acá."
      ],
      "execution_count": null,
      "outputs": []
    },
    {
      "cell_type": "markdown",
      "metadata": {
        "id": "J3qG5qRkXYbs"
      },
      "source": [
        "13- Ahora, agregarle una condición alternativa que lo imprima diciendo que es masculino.\n",
        "\n",
        "*Hint*: elif - else"
      ]
    },
    {
      "cell_type": "code",
      "metadata": {
        "id": "_d9AtUTIW1fZ"
      },
      "source": [
        "#Escribí código acá."
      ],
      "execution_count": null,
      "outputs": []
    },
    {
      "cell_type": "markdown",
      "metadata": {
        "id": "Odz5X24DYbbR"
      },
      "source": [
        "14- Nuevamente, agregale un elemento a la lista, pero esta vez numérico entero."
      ]
    },
    {
      "cell_type": "code",
      "metadata": {
        "id": "mO7PdUZmXxB7"
      },
      "source": [
        "#Escribí código acá."
      ],
      "execution_count": null,
      "outputs": []
    },
    {
      "cell_type": "markdown",
      "metadata": {
        "id": "ykDXfSlcYh6g"
      },
      "source": [
        "15- Agregale una excepción que imprima por pantalla el elemento."
      ]
    },
    {
      "cell_type": "code",
      "metadata": {
        "id": "h2FxTGvdYWmP"
      },
      "source": [
        "#Escribí código acá."
      ],
      "execution_count": null,
      "outputs": []
    },
    {
      "cell_type": "markdown",
      "metadata": {
        "id": "d01cu2dFZLZ3"
      },
      "source": [
        "16- Dentro de tu excepción, agregale dos condiciones: Una que reconozca si el número es entero o decimal:\n",
        "\n",
        "*Hint*: if - else"
      ]
    },
    {
      "cell_type": "code",
      "metadata": {
        "id": "RI60FameYqdQ"
      },
      "source": [
        "#Escribí código acá."
      ],
      "execution_count": null,
      "outputs": []
    },
    {
      "cell_type": "markdown",
      "metadata": {
        "id": "pPjDgQRgZfaL"
      },
      "source": [
        "17- Ahora, paquetiza la función con el nombre clasificador_nombres(), y agregale una ejecución final a tu loop de try que anuncie que el código terminó.\n",
        "\n",
        "\n",
        "*Hint*: No olvides hacerla genérica."
      ]
    },
    {
      "cell_type": "code",
      "metadata": {
        "id": "vueMnKL7ZiCm"
      },
      "source": [
        "#Escribí código acá."
      ],
      "execution_count": null,
      "outputs": []
    },
    {
      "cell_type": "markdown",
      "metadata": {
        "id": "eeo9FquGaPW-"
      },
      "source": [
        "18- Testeá tu función con una lista de nuevos nombres y agregale algún elemento numérico."
      ]
    },
    {
      "cell_type": "code",
      "metadata": {
        "id": "7-xOb2w6aBdb"
      },
      "source": [
        "#Escribí código acá."
      ],
      "execution_count": null,
      "outputs": []
    },
    {
      "cell_type": "markdown",
      "metadata": {
        "id": "0JkkIyisarVD"
      },
      "source": [
        "19- Corregí el siguiente código."
      ]
    },
    {
      "cell_type": "code",
      "metadata": {
        "id": "1qbfQ8KuaeF1"
      },
      "source": [
        "numero_3 = [1,2,3,4,5,6,7,8,]\n",
        "\n",
        "for numero in numero_3:\n",
        "    print(numero*4"
      ],
      "execution_count": null,
      "outputs": []
    },
    {
      "cell_type": "markdown",
      "metadata": {
        "id": "V8NmuBZda7l6"
      },
      "source": [
        "20- Corregí el siguiente diccionario: "
      ]
    },
    {
      "cell_type": "code",
      "metadata": {
        "id": "ItoXK5AIa1zR"
      },
      "source": [
        "diccionario_1 = {persona:[\"Juan\",\"Diego\"],\n",
        "                 edad:[22,34],\n",
        "                 hijos:[Mariana,\"Juana\",\"Robertina\"]}"
      ],
      "execution_count": null,
      "outputs": []
    },
    {
      "cell_type": "markdown",
      "metadata": {
        "id": "8RrhpApQbOQd"
      },
      "source": [
        "21- Corregí la siguiente función. ¿Por qué pincha?\n",
        "\n",
        "\n",
        "*Hint*: A veces en las discusiones, faltan argumentos.."
      ]
    },
    {
      "cell_type": "code",
      "metadata": {
        "id": "dbiUL32MbMhu"
      },
      "source": [
        "numero = [1,2,3,4,5,6,7,8,98,20,123,213,144,14,16,176]\n",
        "\n",
        "def matematica ():\n",
        "    for numero in lista:\n",
        "        if numero < 10:\n",
        "            print((numero+10)*2.5)\n",
        "        elif 10 < numero < 20:\n",
        "            print((numero+5)*1.5)\n",
        "        else:\n",
        "            print((numero+1)*0.5)\n",
        "\n",
        "matematica(numero)"
      ],
      "execution_count": null,
      "outputs": []
    },
    {
      "cell_type": "markdown",
      "metadata": {
        "id": "Z-rXomoXcBWp"
      },
      "source": [
        "22- Ahora, en el mismo código, hay otro error. Esta vez de sintaxis."
      ]
    },
    {
      "cell_type": "code",
      "metadata": {
        "id": "Z0SCD8qVbrE_"
      },
      "source": [
        "numero = [1,2,3,4,5,6,7,8,98,20,123,213,144,14,,176]\n",
        "\n",
        "def matematica ():\n",
        "    for numero in lista:\n",
        "        if numero < 10:\n",
        "            print((numero+10)*2.5)\n",
        "        elif 10 < numero < 20:\n",
        "            print((numero+5)*1.5)\n",
        "        else:\n",
        "            print((numero+1)*0.5)\n",
        "\n",
        "matematica(numero)"
      ],
      "execution_count": null,
      "outputs": []
    },
    {
      "cell_type": "markdown",
      "metadata": {
        "id": "9fYatm35cLN5"
      },
      "source": [
        "23- Corregí el siguiente error:\n",
        "\n",
        "*Hint*: Hay dos formas de solucionarlo, sacando o agregando creativamente."
      ]
    },
    {
      "cell_type": "code",
      "metadata": {
        "id": "KQncLGPQcJcK"
      },
      "source": [
        "def operacion_suma(x,y,z):\n",
        "    print((x+2)*y)\n",
        "\n",
        "operacion_suma(23,22)"
      ],
      "execution_count": null,
      "outputs": []
    },
    {
      "cell_type": "markdown",
      "metadata": {
        "id": "98FBzA8BdDSh"
      },
      "source": [
        "24- Acá hay varios errores, a corregirlos."
      ]
    },
    {
      "cell_type": "code",
      "metadata": {
        "id": "aQ_mXetCcc9Z"
      },
      "source": [
        "def categorias(base):\n",
        "  for columna in base:\n",
        "    if base[columna].dtypes == \"float64\":\n",
        "      pass\n",
        "    elif base[columna].dtypes == \"int\": \n",
        "      pass\n",
        "    else:\n",
        "       print(\"Muestra de categorías de la columna\",base[olumna].name.upper(),base[columna].uniqe().tolist()[0:5]\"\\n\")\n",
        "       \n",
        "  print(\"De cada columna, muestra hasta 5 categorías de la variable\")\n",
        "\n",
        "categorias(data)"
      ],
      "execution_count": null,
      "outputs": []
    },
    {
      "cell_type": "markdown",
      "metadata": {
        "id": "znQ0LIEodGc8"
      },
      "source": [
        "25- Importá la librería pandas."
      ]
    },
    {
      "cell_type": "code",
      "metadata": {
        "id": "BzMxIr-IdCFZ"
      },
      "source": [
        "#Escribí código acá."
      ],
      "execution_count": null,
      "outputs": []
    },
    {
      "cell_type": "markdown",
      "metadata": {
        "id": "8eW-ql8ndRFD"
      },
      "source": [
        "26- Traé los datos de la siguiente base de datos. \n",
        "\n",
        "*Listado de Universidades de la Ciudad* --> https://data.buenosaires.gob.ar/dataset/universidades"
      ]
    },
    {
      "cell_type": "code",
      "metadata": {
        "id": "pe6HEis7dgtP"
      },
      "source": [
        "#Escribí código acá."
      ],
      "execution_count": null,
      "outputs": []
    },
    {
      "cell_type": "markdown",
      "metadata": {
        "id": "-UyBy3PvdhaE"
      },
      "source": [
        "27- ¿Qué forma tiene la tabla?"
      ]
    },
    {
      "cell_type": "code",
      "metadata": {
        "id": "JJR-UM67djYw"
      },
      "source": [
        "#Escribí código acá."
      ],
      "execution_count": null,
      "outputs": []
    },
    {
      "cell_type": "markdown",
      "metadata": {
        "id": "QA4nPiJ6dj9a"
      },
      "source": [
        "28-¿Cuántas columnas tiene?"
      ]
    },
    {
      "cell_type": "code",
      "metadata": {
        "id": "wosyETqVdmjm"
      },
      "source": [
        "#Escribí código acá."
      ],
      "execution_count": null,
      "outputs": []
    },
    {
      "cell_type": "markdown",
      "metadata": {
        "id": "4oGrzM0udnI_"
      },
      "source": [
        "29-¿Cuántas categorías hay por columna?\n",
        "\n",
        "Por lo pronto, de las nominales."
      ]
    },
    {
      "cell_type": "code",
      "metadata": {
        "id": "dhgByclLdqJG"
      },
      "source": [
        "#Escribí código acá."
      ],
      "execution_count": null,
      "outputs": []
    },
    {
      "cell_type": "markdown",
      "metadata": {
        "id": "47E6X8pPdxNQ"
      },
      "source": [
        "30 - La columna de nombre de universidades tiene un error. ¿Podés renombrarla correctamente?"
      ]
    },
    {
      "cell_type": "code",
      "metadata": {
        "id": "To958D28eFDZ"
      },
      "source": [
        "#Escribí código acá."
      ],
      "execution_count": null,
      "outputs": []
    },
    {
      "cell_type": "markdown",
      "metadata": {
        "id": "B3pfRB8UeFi7"
      },
      "source": [
        "31-¿Podés generar una tabla que sólo tenga las universidades que pertenencen al barrio de Palermo?\n"
      ]
    },
    {
      "cell_type": "code",
      "metadata": {
        "id": "5A-T8xJ1eOAP"
      },
      "source": [
        "#Escribí código acá."
      ],
      "execution_count": null,
      "outputs": []
    },
    {
      "cell_type": "markdown",
      "metadata": {
        "id": "jNzXd69qeObZ"
      },
      "source": [
        "32- ¿Qué universidad aparece con mayor frecuencia?"
      ]
    },
    {
      "cell_type": "code",
      "metadata": {
        "id": "E0f6o3lReR1p"
      },
      "source": [
        "#Escribí código acá."
      ],
      "execution_count": null,
      "outputs": []
    },
    {
      "cell_type": "markdown",
      "metadata": {
        "id": "M6-RUFCseRgx"
      },
      "source": [
        "33- ¿Cuántas universidades tienen sede en la ciudad?"
      ]
    },
    {
      "cell_type": "code",
      "metadata": {
        "id": "GXf94EFCenNp"
      },
      "source": [
        "#Escribí código acá."
      ],
      "execution_count": null,
      "outputs": []
    },
    {
      "cell_type": "markdown",
      "metadata": {
        "id": "RDDvhWh9e43_"
      },
      "source": [
        "34- ¿Cuántas universidades públicas y privadas hay?"
      ]
    },
    {
      "cell_type": "code",
      "metadata": {
        "id": "YVs8oqIYfDm8"
      },
      "source": [
        "#Escribí código acá."
      ],
      "execution_count": null,
      "outputs": []
    },
    {
      "cell_type": "markdown",
      "metadata": {
        "id": "Es6oQ-93e8sh"
      },
      "source": [
        "35-Generá dos listas que filtren por la condición pública o privada."
      ]
    },
    {
      "cell_type": "code",
      "metadata": {
        "id": "zpkcrMfMerUo"
      },
      "source": [
        "#Escribí código acá."
      ],
      "execution_count": null,
      "outputs": []
    },
    {
      "cell_type": "markdown",
      "metadata": {
        "id": "bU56FvgdflrU"
      },
      "source": [
        "36- Por último, genera un loop que imprima el nombre de la univesidad chequeando si es pública o privada.\n",
        "\n",
        "*Hint*: for, if, == (mucho de lo que venimos aplicando hasta ahora)."
      ]
    },
    {
      "cell_type": "code",
      "metadata": {
        "id": "vz6oxiJ4fxxK"
      },
      "source": [
        "#Escribí código acá."
      ],
      "execution_count": null,
      "outputs": []
    }
  ]
}