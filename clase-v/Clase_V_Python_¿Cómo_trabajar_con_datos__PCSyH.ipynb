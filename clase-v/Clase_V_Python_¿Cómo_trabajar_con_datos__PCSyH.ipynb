{
  "nbformat": 4,
  "nbformat_minor": 0,
  "metadata": {
    "colab": {
      "name": "Clase V - Python: ¿Cómo trabajar con datos? - PCSyH",
      "provenance": [],
      "collapsed_sections": [
        "4G6m6wwn5grq",
        "OnYf1loIAE1O",
        "vW3PYRojTdmu",
        "JPh5X4i5gPcg",
        "H5GkM4Mee-rK",
        "BZFqwmwagaiS",
        "FZlXH_E_gycj"
      ],
      "toc_visible": true
    },
    "kernelspec": {
      "name": "python3",
      "display_name": "Python 3"
    }
  },
  "cells": [
    {
      "cell_type": "markdown",
      "metadata": {
        "id": "TRBiouAduF2j"
      },
      "source": [
        "# **BA Data | Parque Automotor de la Ciudad.**"
      ]
    },
    {
      "cell_type": "markdown",
      "metadata": {
        "id": "gM26NHFw5CFf"
      },
      "source": [
        "Vamos a estructurar y *jugar* con la base de datos del registro vehicular de la Ciudad de Autónoma de Buenos Aires. El dataset pertenece al Portal de Datos Abiertos del Gobierno de la Ciudad. \n",
        "\n",
        "Se pueden consultar más recursos en --> https://data.buenosaires.gob.ar/"
      ]
    },
    {
      "cell_type": "markdown",
      "metadata": {
        "id": "4G6m6wwn5grq"
      },
      "source": [
        "### **Importamos las librerías y obtenemos la tabla.**"
      ]
    },
    {
      "cell_type": "code",
      "metadata": {
        "id": "JccPqsFVuCBr"
      },
      "source": [
        "# Tal como vimos en la clase anterior, las herramientas de partida serán casi siempre Numpy & Pandas.\n",
        "\n",
        "import pandas as pd\n",
        "import numpy as np"
      ],
      "execution_count": null,
      "outputs": []
    },
    {
      "cell_type": "markdown",
      "metadata": {
        "id": "kbXMbcY96C2z"
      },
      "source": [
        "A modo de prueba, en este caso vamos a trabajar con un dataset sin cargarlo localmente, sino desde la plataforma online donde se encuentra. De esta forma no estamos obligados a descargar un recurso para utilizarlo sino que lo vamos a buscar directo en donde se encuentra localizado.\n",
        "\n",
        "\n",
        "*Nota 1* | Esto implica que cada vez que ese recurso sea actualizado - como en este caso se trata de un dataset de actualización mensual - cada vez que hagamos correr nuestra celda de código, traerá automáticamente la última versión cargada.\n",
        "\n",
        "*Nota 2* | La locación del recurso se encuentra en el siguiente link --> \n",
        "https://data.buenosaires.gob.ar/dataset/parque-automotor\n"
      ]
    },
    {
      "cell_type": "code",
      "metadata": {
        "id": "dQKuhLM4uL9s"
      },
      "source": [
        "# Variable string que vamos a utilizar como argumento a la hora de extraer nuestro dataset. \n",
        "\n",
        "parque_automotor = \"https://cdn.buenosaires.gob.ar/datosabiertos/datasets/direccion-general-de-estadisticas-y-censos/parque-automotor/historico_parque_automotor.csv\""
      ],
      "execution_count": null,
      "outputs": []
    },
    {
      "cell_type": "markdown",
      "metadata": {
        "id": "33bNJNOu6jbA"
      },
      "source": [
        "Ahora procedemos a leer la tabla con el método *read_csv()*."
      ]
    },
    {
      "cell_type": "code",
      "metadata": {
        "id": "aNbGV-r9INxR"
      },
      "source": [
        "# En este caso, sabemos que se trata de un CSV por la terminacióón del hipervínculo que cargamos. \n",
        "# Le pasamos como argumento al método nuestra variable detallada anteriormente. \n",
        "\n",
        "# Guardamos nuestra información en una variable. \n",
        "# Por convención, solemos utilizar la palabra data a la hora de nomenclar la tabla cruda.\n",
        "\n",
        "data = pd.read_csv(parque_automotor)"
      ],
      "execution_count": null,
      "outputs": []
    },
    {
      "cell_type": "markdown",
      "metadata": {
        "id": "OnYf1loIAE1O"
      },
      "source": [
        "### **Primer vistazo a la** *data*."
      ]
    },
    {
      "cell_type": "code",
      "metadata": {
        "id": "_f4KdGVzIS6P",
        "outputId": "dc128fb8-4f37-41ff-8a34-9096556f8eed",
        "colab": {
          "base_uri": "https://localhost:8080/",
          "height": 424
        }
      },
      "source": [
        "#Si escribimos el nombre de nuestra variable, vamos a observar nuestro 1° Dataframe. \n",
        "data"
      ],
      "execution_count": null,
      "outputs": [
        {
          "output_type": "execute_result",
          "data": {
            "text/html": [
              "<div>\n",
              "<style scoped>\n",
              "    .dataframe tbody tr th:only-of-type {\n",
              "        vertical-align: middle;\n",
              "    }\n",
              "\n",
              "    .dataframe tbody tr th {\n",
              "        vertical-align: top;\n",
              "    }\n",
              "\n",
              "    .dataframe thead th {\n",
              "        text-align: right;\n",
              "    }\n",
              "</style>\n",
              "<table border=\"1\" class=\"dataframe\">\n",
              "  <thead>\n",
              "    <tr style=\"text-align: right;\">\n",
              "      <th></th>\n",
              "      <th>año</th>\n",
              "      <th>mes</th>\n",
              "      <th>administración</th>\n",
              "      <th>cantidad_vehículos</th>\n",
              "    </tr>\n",
              "  </thead>\n",
              "  <tbody>\n",
              "    <tr>\n",
              "      <th>0</th>\n",
              "      <td>2010</td>\n",
              "      <td>Enero</td>\n",
              "      <td>Ciudad de Buenos Aires</td>\n",
              "      <td>1094202.0</td>\n",
              "    </tr>\n",
              "    <tr>\n",
              "      <th>1</th>\n",
              "      <td>2010</td>\n",
              "      <td>Febrero</td>\n",
              "      <td>Ciudad de Buenos Aires</td>\n",
              "      <td>1106044.0</td>\n",
              "    </tr>\n",
              "    <tr>\n",
              "      <th>2</th>\n",
              "      <td>2010</td>\n",
              "      <td>Marzo</td>\n",
              "      <td>Ciudad de Buenos Aires</td>\n",
              "      <td>1113739.0</td>\n",
              "    </tr>\n",
              "    <tr>\n",
              "      <th>3</th>\n",
              "      <td>2010</td>\n",
              "      <td>Abril</td>\n",
              "      <td>Ciudad de Buenos Aires</td>\n",
              "      <td>1123774.0</td>\n",
              "    </tr>\n",
              "    <tr>\n",
              "      <th>4</th>\n",
              "      <td>2010</td>\n",
              "      <td>Mayo</td>\n",
              "      <td>Ciudad de Buenos Aires</td>\n",
              "      <td>1132885.0</td>\n",
              "    </tr>\n",
              "    <tr>\n",
              "      <th>...</th>\n",
              "      <td>...</td>\n",
              "      <td>...</td>\n",
              "      <td>...</td>\n",
              "      <td>...</td>\n",
              "    </tr>\n",
              "    <tr>\n",
              "      <th>259</th>\n",
              "      <td>2020</td>\n",
              "      <td>Agosto</td>\n",
              "      <td>Argentina</td>\n",
              "      <td>NaN</td>\n",
              "    </tr>\n",
              "    <tr>\n",
              "      <th>260</th>\n",
              "      <td>2020</td>\n",
              "      <td>Septiembre</td>\n",
              "      <td>Argentina</td>\n",
              "      <td>NaN</td>\n",
              "    </tr>\n",
              "    <tr>\n",
              "      <th>261</th>\n",
              "      <td>2020</td>\n",
              "      <td>Octubre</td>\n",
              "      <td>Argentina</td>\n",
              "      <td>NaN</td>\n",
              "    </tr>\n",
              "    <tr>\n",
              "      <th>262</th>\n",
              "      <td>2020</td>\n",
              "      <td>Noviembre</td>\n",
              "      <td>Argentina</td>\n",
              "      <td>NaN</td>\n",
              "    </tr>\n",
              "    <tr>\n",
              "      <th>263</th>\n",
              "      <td>2020</td>\n",
              "      <td>Diciembre</td>\n",
              "      <td>Argentina</td>\n",
              "      <td>NaN</td>\n",
              "    </tr>\n",
              "  </tbody>\n",
              "</table>\n",
              "<p>264 rows × 4 columns</p>\n",
              "</div>"
            ],
            "text/plain": [
              "      año         mes          administración  cantidad_vehículos\n",
              "0    2010       Enero  Ciudad de Buenos Aires           1094202.0\n",
              "1    2010     Febrero  Ciudad de Buenos Aires           1106044.0\n",
              "2    2010       Marzo  Ciudad de Buenos Aires           1113739.0\n",
              "3    2010       Abril  Ciudad de Buenos Aires           1123774.0\n",
              "4    2010        Mayo  Ciudad de Buenos Aires           1132885.0\n",
              "..    ...         ...                     ...                 ...\n",
              "259  2020      Agosto               Argentina                 NaN\n",
              "260  2020  Septiembre               Argentina                 NaN\n",
              "261  2020     Octubre               Argentina                 NaN\n",
              "262  2020   Noviembre               Argentina                 NaN\n",
              "263  2020   Diciembre               Argentina                 NaN\n",
              "\n",
              "[264 rows x 4 columns]"
            ]
          },
          "metadata": {
            "tags": []
          },
          "execution_count": 371
        }
      ]
    },
    {
      "cell_type": "markdown",
      "metadata": {
        "id": "tsI5Ya4s7xx5"
      },
      "source": [
        "Arriba observamos que nos imprime las *primeras 5* filas y las *últimas 5 filas* con los ejemplos de las columnas. Como en este caso son pocas columnas, vamos a obtener la totalidad de ellas al momento de imprimirlas por pantalla.\n",
        "\n",
        "\n",
        "*Nota 3* | Si prestamos atención vamos a ver que ya tenemos una fila con valores nulos en una columna. *NaN* --> *Not a number* "
      ]
    },
    {
      "cell_type": "code",
      "metadata": {
        "id": "XRPKxSCZIhUP",
        "outputId": "11d933c2-fe05-4696-931d-4547d45807a9",
        "colab": {
          "base_uri": "https://localhost:8080/"
        }
      },
      "source": [
        "# Si queremos tener información general de la tabla, podemos consultar la cantidad de filas y columnas que tienen con el método \".shape\"\n",
        "data.shape"
      ],
      "execution_count": null,
      "outputs": [
        {
          "output_type": "execute_result",
          "data": {
            "text/plain": [
              "(264, 4)"
            ]
          },
          "metadata": {
            "tags": []
          },
          "execution_count": 372
        }
      ]
    },
    {
      "cell_type": "markdown",
      "metadata": {
        "id": "z352QjSf9Erv"
      },
      "source": [
        "El primer elemento de la *tupla* es la cantidad de filas, mientras que el segundo corresponde a la cantidad de columnas."
      ]
    },
    {
      "cell_type": "code",
      "metadata": {
        "id": "dQuWlG309A5n",
        "outputId": "bc0ec9b7-05e8-4541-bbe5-ebcacfa78fdc",
        "colab": {
          "base_uri": "https://localhost:8080/"
        }
      },
      "source": [
        "# Lo podemos hacer más \"legible\".\n",
        "print(\"La base tiene\",data.shape[0],\"filas\")\n",
        "print(\"La base tiene\",data.shape[1],\"columnas\")\n",
        "\n",
        "# Si miramos la sintaxis, vemos que para cada print imprimimos un elemento localizado por posición específica de la tupla."
      ],
      "execution_count": null,
      "outputs": [
        {
          "output_type": "stream",
          "text": [
            "La base tiene 264 filas\n",
            "La base tiene 4 columnas\n"
          ],
          "name": "stdout"
        }
      ]
    },
    {
      "cell_type": "code",
      "metadata": {
        "id": "gjuz_YI7IWqm",
        "outputId": "e087b3b1-bad4-4347-a799-f38ca4fd5735",
        "colab": {
          "base_uri": "https://localhost:8080/"
        }
      },
      "source": [
        "# Podemos listas las columnas del dataframe con el método columns\n",
        "data.columns.tolist()"
      ],
      "execution_count": null,
      "outputs": [
        {
          "output_type": "execute_result",
          "data": {
            "text/plain": [
              "['año', 'mes', 'administración', 'cantidad_vehículos']"
            ]
          },
          "metadata": {
            "tags": []
          },
          "execution_count": 377
        }
      ]
    },
    {
      "cell_type": "code",
      "metadata": {
        "id": "EKQbhhJ1IZUh",
        "outputId": "78763aac-592c-4244-caf8-0057ad2a4fa7",
        "colab": {
          "base_uri": "https://localhost:8080/",
          "height": 363
        }
      },
      "source": [
        "# El método \".head\" nos permite ver los primeros n registros que le pasemos como parámetro a la lista.\n",
        "# La cantidad que le pasemos como parámetros es lo que imprimirá por pantalla. \n",
        "\n",
        "data.head(10)"
      ],
      "execution_count": null,
      "outputs": [
        {
          "output_type": "execute_result",
          "data": {
            "text/html": [
              "<div>\n",
              "<style scoped>\n",
              "    .dataframe tbody tr th:only-of-type {\n",
              "        vertical-align: middle;\n",
              "    }\n",
              "\n",
              "    .dataframe tbody tr th {\n",
              "        vertical-align: top;\n",
              "    }\n",
              "\n",
              "    .dataframe thead th {\n",
              "        text-align: right;\n",
              "    }\n",
              "</style>\n",
              "<table border=\"1\" class=\"dataframe\">\n",
              "  <thead>\n",
              "    <tr style=\"text-align: right;\">\n",
              "      <th></th>\n",
              "      <th>año</th>\n",
              "      <th>mes</th>\n",
              "      <th>administración</th>\n",
              "      <th>cantidad_vehículos</th>\n",
              "    </tr>\n",
              "  </thead>\n",
              "  <tbody>\n",
              "    <tr>\n",
              "      <th>0</th>\n",
              "      <td>2010</td>\n",
              "      <td>Enero</td>\n",
              "      <td>Ciudad de Buenos Aires</td>\n",
              "      <td>1094202.0</td>\n",
              "    </tr>\n",
              "    <tr>\n",
              "      <th>1</th>\n",
              "      <td>2010</td>\n",
              "      <td>Febrero</td>\n",
              "      <td>Ciudad de Buenos Aires</td>\n",
              "      <td>1106044.0</td>\n",
              "    </tr>\n",
              "    <tr>\n",
              "      <th>2</th>\n",
              "      <td>2010</td>\n",
              "      <td>Marzo</td>\n",
              "      <td>Ciudad de Buenos Aires</td>\n",
              "      <td>1113739.0</td>\n",
              "    </tr>\n",
              "    <tr>\n",
              "      <th>3</th>\n",
              "      <td>2010</td>\n",
              "      <td>Abril</td>\n",
              "      <td>Ciudad de Buenos Aires</td>\n",
              "      <td>1123774.0</td>\n",
              "    </tr>\n",
              "    <tr>\n",
              "      <th>4</th>\n",
              "      <td>2010</td>\n",
              "      <td>Mayo</td>\n",
              "      <td>Ciudad de Buenos Aires</td>\n",
              "      <td>1132885.0</td>\n",
              "    </tr>\n",
              "    <tr>\n",
              "      <th>5</th>\n",
              "      <td>2010</td>\n",
              "      <td>Junio</td>\n",
              "      <td>Ciudad de Buenos Aires</td>\n",
              "      <td>1142124.0</td>\n",
              "    </tr>\n",
              "    <tr>\n",
              "      <th>6</th>\n",
              "      <td>2010</td>\n",
              "      <td>Julio</td>\n",
              "      <td>Ciudad de Buenos Aires</td>\n",
              "      <td>1152177.0</td>\n",
              "    </tr>\n",
              "    <tr>\n",
              "      <th>7</th>\n",
              "      <td>2010</td>\n",
              "      <td>Agosto</td>\n",
              "      <td>Ciudad de Buenos Aires</td>\n",
              "      <td>1162110.0</td>\n",
              "    </tr>\n",
              "    <tr>\n",
              "      <th>8</th>\n",
              "      <td>2010</td>\n",
              "      <td>Septiembre</td>\n",
              "      <td>Ciudad de Buenos Aires</td>\n",
              "      <td>1172083.0</td>\n",
              "    </tr>\n",
              "    <tr>\n",
              "      <th>9</th>\n",
              "      <td>2010</td>\n",
              "      <td>Octubre</td>\n",
              "      <td>Ciudad de Buenos Aires</td>\n",
              "      <td>1183037.0</td>\n",
              "    </tr>\n",
              "  </tbody>\n",
              "</table>\n",
              "</div>"
            ],
            "text/plain": [
              "    año         mes          administración  cantidad_vehículos\n",
              "0  2010       Enero  Ciudad de Buenos Aires           1094202.0\n",
              "1  2010     Febrero  Ciudad de Buenos Aires           1106044.0\n",
              "2  2010       Marzo  Ciudad de Buenos Aires           1113739.0\n",
              "3  2010       Abril  Ciudad de Buenos Aires           1123774.0\n",
              "4  2010        Mayo  Ciudad de Buenos Aires           1132885.0\n",
              "5  2010       Junio  Ciudad de Buenos Aires           1142124.0\n",
              "6  2010       Julio  Ciudad de Buenos Aires           1152177.0\n",
              "7  2010      Agosto  Ciudad de Buenos Aires           1162110.0\n",
              "8  2010  Septiembre  Ciudad de Buenos Aires           1172083.0\n",
              "9  2010     Octubre  Ciudad de Buenos Aires           1183037.0"
            ]
          },
          "metadata": {
            "tags": []
          },
          "execution_count": 378
        }
      ]
    },
    {
      "cell_type": "code",
      "metadata": {
        "id": "EQI_feH_IbWq",
        "outputId": "04a3be61-639f-4fb4-8b98-93b8ef4ffc31",
        "colab": {
          "base_uri": "https://localhost:8080/",
          "height": 206
        }
      },
      "source": [
        "#Lo mismo sucede con este método pero con los últimos elementos de la lista.\n",
        "\n",
        "data.tail(5)"
      ],
      "execution_count": null,
      "outputs": [
        {
          "output_type": "execute_result",
          "data": {
            "text/html": [
              "<div>\n",
              "<style scoped>\n",
              "    .dataframe tbody tr th:only-of-type {\n",
              "        vertical-align: middle;\n",
              "    }\n",
              "\n",
              "    .dataframe tbody tr th {\n",
              "        vertical-align: top;\n",
              "    }\n",
              "\n",
              "    .dataframe thead th {\n",
              "        text-align: right;\n",
              "    }\n",
              "</style>\n",
              "<table border=\"1\" class=\"dataframe\">\n",
              "  <thead>\n",
              "    <tr style=\"text-align: right;\">\n",
              "      <th></th>\n",
              "      <th>año</th>\n",
              "      <th>mes</th>\n",
              "      <th>administración</th>\n",
              "      <th>cantidad_vehículos</th>\n",
              "    </tr>\n",
              "  </thead>\n",
              "  <tbody>\n",
              "    <tr>\n",
              "      <th>259</th>\n",
              "      <td>2020</td>\n",
              "      <td>Agosto</td>\n",
              "      <td>Argentina</td>\n",
              "      <td>NaN</td>\n",
              "    </tr>\n",
              "    <tr>\n",
              "      <th>260</th>\n",
              "      <td>2020</td>\n",
              "      <td>Septiembre</td>\n",
              "      <td>Argentina</td>\n",
              "      <td>NaN</td>\n",
              "    </tr>\n",
              "    <tr>\n",
              "      <th>261</th>\n",
              "      <td>2020</td>\n",
              "      <td>Octubre</td>\n",
              "      <td>Argentina</td>\n",
              "      <td>NaN</td>\n",
              "    </tr>\n",
              "    <tr>\n",
              "      <th>262</th>\n",
              "      <td>2020</td>\n",
              "      <td>Noviembre</td>\n",
              "      <td>Argentina</td>\n",
              "      <td>NaN</td>\n",
              "    </tr>\n",
              "    <tr>\n",
              "      <th>263</th>\n",
              "      <td>2020</td>\n",
              "      <td>Diciembre</td>\n",
              "      <td>Argentina</td>\n",
              "      <td>NaN</td>\n",
              "    </tr>\n",
              "  </tbody>\n",
              "</table>\n",
              "</div>"
            ],
            "text/plain": [
              "      año         mes administración  cantidad_vehículos\n",
              "259  2020      Agosto      Argentina                 NaN\n",
              "260  2020  Septiembre      Argentina                 NaN\n",
              "261  2020     Octubre      Argentina                 NaN\n",
              "262  2020   Noviembre      Argentina                 NaN\n",
              "263  2020   Diciembre      Argentina                 NaN"
            ]
          },
          "metadata": {
            "tags": []
          },
          "execution_count": 380
        }
      ]
    },
    {
      "cell_type": "markdown",
      "metadata": {
        "id": "34Tb9i9L-0wt"
      },
      "source": [
        "A la hora de analizar inicialmente una tabla, hay ciertos aspectos que queremos y *debemos* saber:\n",
        "\n",
        "- Cantidad de columnas.\n",
        "- Cantidad de filas. \n",
        "- Tipo de valores por columna.\n",
        "- Cantidad de valores nulos. \n",
        "\n",
        "Esta información resulta elemental para poder aproximarnos a una *depuración y preparación exitosa de nuestra información*."
      ]
    },
    {
      "cell_type": "code",
      "metadata": {
        "id": "otkZtiMKIdke",
        "outputId": "929f1878-eb93-4bcd-9064-527aa3c48b89",
        "colab": {
          "base_uri": "https://localhost:8080/"
        }
      },
      "source": [
        "# También podemos acceder a información más integral de la tabla con el método \".info()\"\n",
        "\n",
        "data.info()"
      ],
      "execution_count": null,
      "outputs": [
        {
          "output_type": "stream",
          "text": [
            "<class 'pandas.core.frame.DataFrame'>\n",
            "RangeIndex: 264 entries, 0 to 263\n",
            "Data columns (total 4 columns):\n",
            " #   Column              Non-Null Count  Dtype  \n",
            "---  ------              --------------  -----  \n",
            " 0   año                 264 non-null    int64  \n",
            " 1   mes                 264 non-null    object \n",
            " 2   administración      264 non-null    object \n",
            " 3   cantidad_vehículos  252 non-null    float64\n",
            "dtypes: float64(1), int64(1), object(2)\n",
            "memory usage: 8.4+ KB\n"
          ],
          "name": "stdout"
        }
      ]
    },
    {
      "cell_type": "markdown",
      "metadata": {
        "id": "npkZNOeJ_VeW"
      },
      "source": [
        "Con este método vamos a poder acceder a información general por columna, obteniendo su nombre, la cantidad de valores que tiene - descontando nulos - y el tipo de valor asociado."
      ]
    },
    {
      "cell_type": "markdown",
      "metadata": {
        "id": "FpNlYveg_5a4"
      },
      "source": [
        "### **La lupa en los datos.**"
      ]
    },
    {
      "cell_type": "markdown",
      "metadata": {
        "id": "w_NSsZ6TAgYO"
      },
      "source": [
        "Queremos empezar a extraer información un poco más específica, ver qué tipo de datos tenemos, con qué frecuencia, qué valores tiene asociado."
      ]
    },
    {
      "cell_type": "code",
      "metadata": {
        "id": "wqCO1YckIf2m",
        "outputId": "53e68c11-8afc-419a-ed22-200534131d8d",
        "colab": {
          "base_uri": "https://localhost:8080/"
        }
      },
      "source": [
        "#Podemos consultar una columna filtrando de la siguiente forma\n",
        "data[\"año\"]"
      ],
      "execution_count": null,
      "outputs": [
        {
          "output_type": "execute_result",
          "data": {
            "text/plain": [
              "0      2010\n",
              "1      2010\n",
              "2      2010\n",
              "3      2010\n",
              "4      2010\n",
              "       ... \n",
              "259    2020\n",
              "260    2020\n",
              "261    2020\n",
              "262    2020\n",
              "263    2020\n",
              "Name: año, Length: 264, dtype: int64"
            ]
          },
          "metadata": {
            "tags": []
          },
          "execution_count": 382
        }
      ]
    },
    {
      "cell_type": "code",
      "metadata": {
        "id": "UcSSP8DhA0uS",
        "outputId": "1c23a10b-51ff-4b1c-caee-c854b95a65d6",
        "colab": {
          "base_uri": "https://localhost:8080/",
          "height": 424
        }
      },
      "source": [
        "# También podemos filtrar especificando dos columnas - o más -. \n",
        "\n",
        "data[[\"mes\",\"año\"]]\n",
        "\n",
        "# Y así sucesivamente.."
      ],
      "execution_count": null,
      "outputs": [
        {
          "output_type": "execute_result",
          "data": {
            "text/html": [
              "<div>\n",
              "<style scoped>\n",
              "    .dataframe tbody tr th:only-of-type {\n",
              "        vertical-align: middle;\n",
              "    }\n",
              "\n",
              "    .dataframe tbody tr th {\n",
              "        vertical-align: top;\n",
              "    }\n",
              "\n",
              "    .dataframe thead th {\n",
              "        text-align: right;\n",
              "    }\n",
              "</style>\n",
              "<table border=\"1\" class=\"dataframe\">\n",
              "  <thead>\n",
              "    <tr style=\"text-align: right;\">\n",
              "      <th></th>\n",
              "      <th>mes</th>\n",
              "      <th>año</th>\n",
              "    </tr>\n",
              "  </thead>\n",
              "  <tbody>\n",
              "    <tr>\n",
              "      <th>0</th>\n",
              "      <td>Enero</td>\n",
              "      <td>2010</td>\n",
              "    </tr>\n",
              "    <tr>\n",
              "      <th>1</th>\n",
              "      <td>Febrero</td>\n",
              "      <td>2010</td>\n",
              "    </tr>\n",
              "    <tr>\n",
              "      <th>2</th>\n",
              "      <td>Marzo</td>\n",
              "      <td>2010</td>\n",
              "    </tr>\n",
              "    <tr>\n",
              "      <th>3</th>\n",
              "      <td>Abril</td>\n",
              "      <td>2010</td>\n",
              "    </tr>\n",
              "    <tr>\n",
              "      <th>4</th>\n",
              "      <td>Mayo</td>\n",
              "      <td>2010</td>\n",
              "    </tr>\n",
              "    <tr>\n",
              "      <th>...</th>\n",
              "      <td>...</td>\n",
              "      <td>...</td>\n",
              "    </tr>\n",
              "    <tr>\n",
              "      <th>259</th>\n",
              "      <td>Agosto</td>\n",
              "      <td>2020</td>\n",
              "    </tr>\n",
              "    <tr>\n",
              "      <th>260</th>\n",
              "      <td>Septiembre</td>\n",
              "      <td>2020</td>\n",
              "    </tr>\n",
              "    <tr>\n",
              "      <th>261</th>\n",
              "      <td>Octubre</td>\n",
              "      <td>2020</td>\n",
              "    </tr>\n",
              "    <tr>\n",
              "      <th>262</th>\n",
              "      <td>Noviembre</td>\n",
              "      <td>2020</td>\n",
              "    </tr>\n",
              "    <tr>\n",
              "      <th>263</th>\n",
              "      <td>Diciembre</td>\n",
              "      <td>2020</td>\n",
              "    </tr>\n",
              "  </tbody>\n",
              "</table>\n",
              "<p>264 rows × 2 columns</p>\n",
              "</div>"
            ],
            "text/plain": [
              "            mes   año\n",
              "0         Enero  2010\n",
              "1       Febrero  2010\n",
              "2         Marzo  2010\n",
              "3         Abril  2010\n",
              "4          Mayo  2010\n",
              "..          ...   ...\n",
              "259      Agosto  2020\n",
              "260  Septiembre  2020\n",
              "261     Octubre  2020\n",
              "262   Noviembre  2020\n",
              "263   Diciembre  2020\n",
              "\n",
              "[264 rows x 2 columns]"
            ]
          },
          "metadata": {
            "tags": []
          },
          "execution_count": 385
        }
      ]
    },
    {
      "cell_type": "code",
      "metadata": {
        "id": "CU5l7BSfBCSP",
        "outputId": "d657fcd2-7d77-4d0d-d87f-84d28814aea8",
        "colab": {
          "base_uri": "https://localhost:8080/",
          "height": 573
        }
      },
      "source": [
        "#Supongamos que queremos más información, en este caso, la frecuencia de cuánto aparece cada categoría.\n",
        "\n",
        "data[\"administracion\"].value_counts()"
      ],
      "execution_count": null,
      "outputs": [
        {
          "output_type": "error",
          "ename": "KeyError",
          "evalue": "ignored",
          "traceback": [
            "\u001b[0;31m---------------------------------------------------------------------------\u001b[0m",
            "\u001b[0;31mKeyError\u001b[0m                                  Traceback (most recent call last)",
            "\u001b[0;32m/usr/local/lib/python3.6/dist-packages/pandas/core/indexes/base.py\u001b[0m in \u001b[0;36mget_loc\u001b[0;34m(self, key, method, tolerance)\u001b[0m\n\u001b[1;32m   2890\u001b[0m             \u001b[0;32mtry\u001b[0m\u001b[0;34m:\u001b[0m\u001b[0;34m\u001b[0m\u001b[0;34m\u001b[0m\u001b[0m\n\u001b[0;32m-> 2891\u001b[0;31m                 \u001b[0;32mreturn\u001b[0m \u001b[0mself\u001b[0m\u001b[0;34m.\u001b[0m\u001b[0m_engine\u001b[0m\u001b[0;34m.\u001b[0m\u001b[0mget_loc\u001b[0m\u001b[0;34m(\u001b[0m\u001b[0mcasted_key\u001b[0m\u001b[0;34m)\u001b[0m\u001b[0;34m\u001b[0m\u001b[0;34m\u001b[0m\u001b[0m\n\u001b[0m\u001b[1;32m   2892\u001b[0m             \u001b[0;32mexcept\u001b[0m \u001b[0mKeyError\u001b[0m \u001b[0;32mas\u001b[0m \u001b[0merr\u001b[0m\u001b[0;34m:\u001b[0m\u001b[0;34m\u001b[0m\u001b[0;34m\u001b[0m\u001b[0m\n",
            "\u001b[0;32mpandas/_libs/index.pyx\u001b[0m in \u001b[0;36mpandas._libs.index.IndexEngine.get_loc\u001b[0;34m()\u001b[0m\n",
            "\u001b[0;32mpandas/_libs/index.pyx\u001b[0m in \u001b[0;36mpandas._libs.index.IndexEngine.get_loc\u001b[0;34m()\u001b[0m\n",
            "\u001b[0;32mpandas/_libs/hashtable_class_helper.pxi\u001b[0m in \u001b[0;36mpandas._libs.hashtable.PyObjectHashTable.get_item\u001b[0;34m()\u001b[0m\n",
            "\u001b[0;32mpandas/_libs/hashtable_class_helper.pxi\u001b[0m in \u001b[0;36mpandas._libs.hashtable.PyObjectHashTable.get_item\u001b[0;34m()\u001b[0m\n",
            "\u001b[0;31mKeyError\u001b[0m: 'administracion'",
            "\nThe above exception was the direct cause of the following exception:\n",
            "\u001b[0;31mKeyError\u001b[0m                                  Traceback (most recent call last)",
            "\u001b[0;32m<ipython-input-386-6f13a036db84>\u001b[0m in \u001b[0;36m<module>\u001b[0;34m()\u001b[0m\n\u001b[1;32m      1\u001b[0m \u001b[0;31m#Supongamos que queremos más información, en este caso, la frecuencia de cuánto aparece cada categoría.\u001b[0m\u001b[0;34m\u001b[0m\u001b[0;34m\u001b[0m\u001b[0;34m\u001b[0m\u001b[0m\n\u001b[1;32m      2\u001b[0m \u001b[0;34m\u001b[0m\u001b[0m\n\u001b[0;32m----> 3\u001b[0;31m \u001b[0mdata\u001b[0m\u001b[0;34m[\u001b[0m\u001b[0;34m\"administracion\"\u001b[0m\u001b[0;34m]\u001b[0m\u001b[0;34m.\u001b[0m\u001b[0mvalue_counts\u001b[0m\u001b[0;34m(\u001b[0m\u001b[0;34m)\u001b[0m\u001b[0;34m\u001b[0m\u001b[0;34m\u001b[0m\u001b[0m\n\u001b[0m",
            "\u001b[0;32m/usr/local/lib/python3.6/dist-packages/pandas/core/frame.py\u001b[0m in \u001b[0;36m__getitem__\u001b[0;34m(self, key)\u001b[0m\n\u001b[1;32m   2900\u001b[0m             \u001b[0;32mif\u001b[0m \u001b[0mself\u001b[0m\u001b[0;34m.\u001b[0m\u001b[0mcolumns\u001b[0m\u001b[0;34m.\u001b[0m\u001b[0mnlevels\u001b[0m \u001b[0;34m>\u001b[0m \u001b[0;36m1\u001b[0m\u001b[0;34m:\u001b[0m\u001b[0;34m\u001b[0m\u001b[0;34m\u001b[0m\u001b[0m\n\u001b[1;32m   2901\u001b[0m                 \u001b[0;32mreturn\u001b[0m \u001b[0mself\u001b[0m\u001b[0;34m.\u001b[0m\u001b[0m_getitem_multilevel\u001b[0m\u001b[0;34m(\u001b[0m\u001b[0mkey\u001b[0m\u001b[0;34m)\u001b[0m\u001b[0;34m\u001b[0m\u001b[0;34m\u001b[0m\u001b[0m\n\u001b[0;32m-> 2902\u001b[0;31m             \u001b[0mindexer\u001b[0m \u001b[0;34m=\u001b[0m \u001b[0mself\u001b[0m\u001b[0;34m.\u001b[0m\u001b[0mcolumns\u001b[0m\u001b[0;34m.\u001b[0m\u001b[0mget_loc\u001b[0m\u001b[0;34m(\u001b[0m\u001b[0mkey\u001b[0m\u001b[0;34m)\u001b[0m\u001b[0;34m\u001b[0m\u001b[0;34m\u001b[0m\u001b[0m\n\u001b[0m\u001b[1;32m   2903\u001b[0m             \u001b[0;32mif\u001b[0m \u001b[0mis_integer\u001b[0m\u001b[0;34m(\u001b[0m\u001b[0mindexer\u001b[0m\u001b[0;34m)\u001b[0m\u001b[0;34m:\u001b[0m\u001b[0;34m\u001b[0m\u001b[0;34m\u001b[0m\u001b[0m\n\u001b[1;32m   2904\u001b[0m                 \u001b[0mindexer\u001b[0m \u001b[0;34m=\u001b[0m \u001b[0;34m[\u001b[0m\u001b[0mindexer\u001b[0m\u001b[0;34m]\u001b[0m\u001b[0;34m\u001b[0m\u001b[0;34m\u001b[0m\u001b[0m\n",
            "\u001b[0;32m/usr/local/lib/python3.6/dist-packages/pandas/core/indexes/base.py\u001b[0m in \u001b[0;36mget_loc\u001b[0;34m(self, key, method, tolerance)\u001b[0m\n\u001b[1;32m   2891\u001b[0m                 \u001b[0;32mreturn\u001b[0m \u001b[0mself\u001b[0m\u001b[0;34m.\u001b[0m\u001b[0m_engine\u001b[0m\u001b[0;34m.\u001b[0m\u001b[0mget_loc\u001b[0m\u001b[0;34m(\u001b[0m\u001b[0mcasted_key\u001b[0m\u001b[0;34m)\u001b[0m\u001b[0;34m\u001b[0m\u001b[0;34m\u001b[0m\u001b[0m\n\u001b[1;32m   2892\u001b[0m             \u001b[0;32mexcept\u001b[0m \u001b[0mKeyError\u001b[0m \u001b[0;32mas\u001b[0m \u001b[0merr\u001b[0m\u001b[0;34m:\u001b[0m\u001b[0;34m\u001b[0m\u001b[0;34m\u001b[0m\u001b[0m\n\u001b[0;32m-> 2893\u001b[0;31m                 \u001b[0;32mraise\u001b[0m \u001b[0mKeyError\u001b[0m\u001b[0;34m(\u001b[0m\u001b[0mkey\u001b[0m\u001b[0;34m)\u001b[0m \u001b[0;32mfrom\u001b[0m \u001b[0merr\u001b[0m\u001b[0;34m\u001b[0m\u001b[0;34m\u001b[0m\u001b[0m\n\u001b[0m\u001b[1;32m   2894\u001b[0m \u001b[0;34m\u001b[0m\u001b[0m\n\u001b[1;32m   2895\u001b[0m         \u001b[0;32mif\u001b[0m \u001b[0mtolerance\u001b[0m \u001b[0;32mis\u001b[0m \u001b[0;32mnot\u001b[0m \u001b[0;32mNone\u001b[0m\u001b[0;34m:\u001b[0m\u001b[0;34m\u001b[0m\u001b[0;34m\u001b[0m\u001b[0m\n",
            "\u001b[0;31mKeyError\u001b[0m: 'administracion'"
          ]
        }
      ]
    },
    {
      "cell_type": "code",
      "metadata": {
        "id": "hgNZi6wdIrdL",
        "outputId": "54db24a7-5884-4f82-db8e-adc8e9089b8d",
        "colab": {
          "base_uri": "https://localhost:8080/"
        }
      },
      "source": [
        "# Sí, nos faltó una tilde y pinchó. \n",
        "# En este caso, utilizamos el método \"value_counts()\" que nos permite contabilizar la frecuencia por categoría. \n",
        "# Parece que los registros son iguales.\n",
        "\n",
        "data[\"administración\"].value_counts()"
      ],
      "execution_count": null,
      "outputs": [
        {
          "output_type": "execute_result",
          "data": {
            "text/plain": [
              "Argentina                 132\n",
              "Ciudad de Buenos Aires    132\n",
              "Name: administración, dtype: int64"
            ]
          },
          "metadata": {
            "tags": []
          },
          "execution_count": 387
        }
      ]
    },
    {
      "cell_type": "code",
      "metadata": {
        "id": "wCGS77kZI3BI",
        "outputId": "9a393c2b-a694-4679-9a41-0d60e22906fe",
        "colab": {
          "base_uri": "https://localhost:8080/"
        }
      },
      "source": [
        "# Si miramos un poco los números, ya nos empiezan a indicar algo.\n",
        "# En la operación anterior, nos muestra los números de la Ciudad y Argentina por igual.\n",
        "# Acá, que la cantidad de años es 24, dividida por 2, 12..Una fila, una observación por período mensual, para cada administración.\n",
        "\n",
        "data[\"año\"].value_counts()\n",
        "\n",
        "# La información parece estar bastante limpia."
      ],
      "execution_count": null,
      "outputs": [
        {
          "output_type": "execute_result",
          "data": {
            "text/plain": [
              "2020    24\n",
              "2019    24\n",
              "2018    24\n",
              "2017    24\n",
              "2016    24\n",
              "2015    24\n",
              "2014    24\n",
              "2013    24\n",
              "2012    24\n",
              "2011    24\n",
              "2010    24\n",
              "Name: año, dtype: int64"
            ]
          },
          "metadata": {
            "tags": []
          },
          "execution_count": 388
        }
      ]
    },
    {
      "cell_type": "code",
      "metadata": {
        "id": "N9FKIqHtCd3o",
        "outputId": "d114fad9-4d4c-4e38-96d5-2dbf3f1f824c",
        "colab": {
          "base_uri": "https://localhost:8080/",
          "height": 112
        }
      },
      "source": [
        "# Miremos una vez más el registro de información que tenemos.\n",
        "\n",
        "data.head(2)"
      ],
      "execution_count": null,
      "outputs": [
        {
          "output_type": "execute_result",
          "data": {
            "text/html": [
              "<div>\n",
              "<style scoped>\n",
              "    .dataframe tbody tr th:only-of-type {\n",
              "        vertical-align: middle;\n",
              "    }\n",
              "\n",
              "    .dataframe tbody tr th {\n",
              "        vertical-align: top;\n",
              "    }\n",
              "\n",
              "    .dataframe thead th {\n",
              "        text-align: right;\n",
              "    }\n",
              "</style>\n",
              "<table border=\"1\" class=\"dataframe\">\n",
              "  <thead>\n",
              "    <tr style=\"text-align: right;\">\n",
              "      <th></th>\n",
              "      <th>año</th>\n",
              "      <th>mes</th>\n",
              "      <th>administración</th>\n",
              "      <th>cantidad_vehículos</th>\n",
              "    </tr>\n",
              "  </thead>\n",
              "  <tbody>\n",
              "    <tr>\n",
              "      <th>0</th>\n",
              "      <td>2010</td>\n",
              "      <td>Enero</td>\n",
              "      <td>Ciudad de Buenos Aires</td>\n",
              "      <td>1094202.0</td>\n",
              "    </tr>\n",
              "    <tr>\n",
              "      <th>1</th>\n",
              "      <td>2010</td>\n",
              "      <td>Febrero</td>\n",
              "      <td>Ciudad de Buenos Aires</td>\n",
              "      <td>1106044.0</td>\n",
              "    </tr>\n",
              "  </tbody>\n",
              "</table>\n",
              "</div>"
            ],
            "text/plain": [
              "    año      mes          administración  cantidad_vehículos\n",
              "0  2010    Enero  Ciudad de Buenos Aires           1094202.0\n",
              "1  2010  Febrero  Ciudad de Buenos Aires           1106044.0"
            ]
          },
          "metadata": {
            "tags": []
          },
          "execution_count": 389
        }
      ]
    },
    {
      "cell_type": "code",
      "metadata": {
        "id": "llT1iaR6EcFb",
        "outputId": "6d001bf4-943a-404e-a971-a839a8e17953",
        "colab": {
          "base_uri": "https://localhost:8080/"
        }
      },
      "source": [
        "#Quiero ver las categorías de las columnas de las tablas.\n",
        "\n",
        "for columna in data:\n",
        "  print(data[columna].unique().tolist())\n",
        "\n",
        "# Como estoy trabajando con el método \"unique()\" el cual me permite ver los valores únicos que tiene una columna, con los valores numéricos, no tiene mucho sentido."
      ],
      "execution_count": null,
      "outputs": [
        {
          "output_type": "stream",
          "text": [
            "[2010, 2011, 2012, 2013, 2014, 2015, 2016, 2017, 2018, 2019, 2020]\n",
            "['Enero', 'Febrero', 'Marzo', 'Abril', 'Mayo', 'Junio', 'Julio', 'Agosto', 'Septiembre', 'Octubre', 'Noviembre', 'Diciembre']\n",
            "['Ciudad de Buenos Aires', 'Argentina']\n",
            "[1094202.0, 1106044.0, 1113739.0, 1123774.0, 1132885.0, 1142124.0, 1152177.0, 1162110.0, 1172083.0, 1183037.0, 1192963.0, 1203331.0, 9395122.0, 9473131.0, 9517429.0, 9574218.0, 9624870.0, 9675173.0, 9729662.0, 9786588.0, 9843488.0, 9906979.0, 9960306.0, 10014003.0, 1212025.0, 1227727.0, 1237515.0, 1247406.0, 1249089.0, 1253790.0, 1254920.0, 1256247.0, 1268274.0, 1271934.0, 1271912.0, 1275281.0, 10052466.0, 10155707.0, 10215510.0, 10275961.0, 10340890.0, 10416509.0, 10485859.0, 10562283.0, 10646440.0, 10716169.0, 10778448.0, 10815732.0, 1280523.0, 1283110.0, 1290021.0, 1294911.0, 1297425.0, 1302085.0, 1308588.0, 1308994.0, 1306801.0, 1295956.0, 1256416.0, 1323365.0, 10925332.0, 10981140.0, 11061167.0, 11119740.0, 11192226.0, 11260309.0, 11331453.0, 11401784.0, 11458876.0, 11510729.0, 11506021.0, 11626894.0, 1336083.0, 1340352.0, 1354485.0, 1353569.0, 1359665.0, 1366084.0, 1372111.0, 1377668.0, 1383457.0, 1390134.0, 1395329.0, 1398595.0, 11737809.0, 11798875.0, 11923536.0, 11944444.0, 12032139.0, 12104381.0, 12188209.0, 12266187.0, 12347197.0, 12431758.0, 12493333.0, 12539370.0, 1407799.0, 1410778.0, 1411976.0, 1413894.0, 1416946.0, 1416348.0, 1420693.0, 1419210.0, 1424973.0, 1426559.0, 1426505.0, 1424156.0, 12645458.0, 12700645.0, 12747867.0, 12796785.0, 12849203.0, 12895625.0, 12954025.0, 13004091.0, 13061961.0, 13111761.0, 13146854.0, 13171695.0, 1427721.0, 1425983.0, 1430445.0, 1426285.0, 1433127.0, 1435353.0, 1437597.0, 1438778.0, 1441777.0, 1443020.0, 1444001.0, 1439423.0, 13235691.0, 13273305.0, 13321967.0, 13365722.0, 13414538.0, 13468869.0, 13526210.0, 13580831.0, 13643691.0, 13700591.0, 13748740.0, 13773058.0, 1444729.0, 1445976.0, 1395670.0, 1451010.0, 1454620.0, 1457134.0, 1460848.0, 1463602.0, 1467397.0, 1470486.0, 1472647.0, 1468109.0, 13828470.0, 13872441.0, 13871293.0, 13979357.0, 14034319.0, 14085201.0, 14143254.0, 14211037.0, 14276847.0, 14336239.0, 14390998.0, 14419277.0, 1477276.0, 1480036.0, 1479322.0, 1486062.0, 1488954.0, 1492301.0, 1495238.0, 1498617.0, 1501117.0, 1503881.0, 1506572.0, 1506692.0, 14512469.0, 14572017.0, 14641990.0, 14704686.0, 14776762.0, 14849553.0, 14924996.0, 15006829.0, 15049675.0, 15154662.0, 15222174.0, 15264625.0, 1512568.0, 1515272.0, 1519960.0, 1524526.0, 1529132.0, 1530145.0, 1532421.0, 1535016.0, 1536298.0, 1538203.0, 1539573.0, 1539809.0, 15367777.0, 15444629.0, 15524672.0, 15597001.0, 15675004.0, 15732545.0, 15807006.0, 15865376.0, 15911770.0, 15953891.0, 15987106.0, 16010642.0, 1542986.0, 1529004.0, 1534804.0, 1543731.0, 1543117.0, 1543388.0, 1545364.0, 1545277.0, 1545332.0, 1544318.0, 1543793.0, 1544215.0, 16065648.0, 16083174.0, 16122449.0, 16163453.0, 16193186.0, 16223558.0, 16267613.0, 16304424.0, 16334125.0, 16360196.0, 16379997.0, 16391495.0, 1545709.0, 1544593.0, 1545574.0, 1544191.0, 1544747.0, 1548383.0, nan, 16434149.0, 16455272.0, 16470519.0, 16472735.0, 16489716.0, 16523616.0]\n"
          ],
          "name": "stdout"
        }
      ]
    },
    {
      "cell_type": "code",
      "metadata": {
        "id": "_xF55Kt2atLK",
        "outputId": "a763497d-a84d-4433-b1eb-5c5f02bfd0bd",
        "colab": {
          "base_uri": "https://localhost:8080/"
        }
      },
      "source": [
        "# La cantidad de vehículos parecería ser una variable numérica. Por lo pronto, queremos mirar las variables categóricas para frecuencia. \n",
        "\n",
        "data[\"cantidad_vehículos\"].dtypes"
      ],
      "execution_count": null,
      "outputs": [
        {
          "output_type": "execute_result",
          "data": {
            "text/plain": [
              "dtype('float64')"
            ]
          },
          "metadata": {
            "tags": []
          },
          "execution_count": 391
        }
      ]
    },
    {
      "cell_type": "code",
      "metadata": {
        "id": "IOnFhTTsbzFa",
        "outputId": "921768a0-7295-4333-8511-a21e86141cd1",
        "colab": {
          "base_uri": "https://localhost:8080/"
        }
      },
      "source": [
        "# Quiero ver la información de las columnas, con el tipo de categorías.\n",
        "# Genero un loop que itere sobre ellas, que excluya aquellas columnas con tipo numérico flotante.\n",
        "\n",
        "for columna in data:\n",
        "  if data[columna].dtypes ==\"float64\":\n",
        "    pass\n",
        "  else:\n",
        "    print(data[columna].unique().tolist())"
      ],
      "execution_count": null,
      "outputs": [
        {
          "output_type": "stream",
          "text": [
            "[2010, 2011, 2012, 2013, 2014, 2015, 2016, 2017, 2018, 2019, 2020]\n",
            "['Enero', 'Febrero', 'Marzo', 'Abril', 'Mayo', 'Junio', 'Julio', 'Agosto', 'Septiembre', 'Octubre', 'Noviembre', 'Diciembre']\n",
            "['Ciudad de Buenos Aires', 'Argentina']\n"
          ],
          "name": "stdout"
        }
      ]
    },
    {
      "cell_type": "code",
      "metadata": {
        "id": "ZmzEvbS7DFXD",
        "outputId": "74a6dbb0-0e38-40e3-e49e-08f220f5abd4",
        "colab": {
          "base_uri": "https://localhost:8080/"
        }
      },
      "source": [
        "# Ahora, supongamos que queremos excluir cualquier variable numérica.\n",
        "# En ese caso podemos utilizar otra condición que excluya números de tipo entero.\n",
        "\n",
        "for columna in data:\n",
        "  if data[columna].dtypes == \"float64\":\n",
        "    pass\n",
        "  elif data[columna].dtypes == \"int\": \n",
        "    pass\n",
        "  else:\n",
        "    print(data[columna].unique().tolist())\n",
        "\n",
        "# En este loop vemos como utilizamos los siguientes métodos \".dtypes\", \".unique()\", \".tolist()\" y \"print()\" para generar un programa que nos tire variables categóricas de una tabla."
      ],
      "execution_count": null,
      "outputs": [
        {
          "output_type": "stream",
          "text": [
            "['Enero', 'Febrero', 'Marzo', 'Abril', 'Mayo', 'Junio', 'Julio', 'Agosto', 'Septiembre', 'Octubre', 'Noviembre', 'Diciembre']\n",
            "['Ciudad de Buenos Aires', 'Argentina']\n"
          ],
          "name": "stdout"
        }
      ]
    },
    {
      "cell_type": "code",
      "metadata": {
        "id": "sqgurY82Xsgq",
        "outputId": "fc111b7b-714b-45e9-85f4-1eab90364842",
        "colab": {
          "base_uri": "https://localhost:8080/"
        }
      },
      "source": [
        "# Seguimos agregando funciones para que sea más explicativo el output que tenemos.\n",
        "\n",
        "for columna in data:\n",
        "  if data[columna].dtypes == \"float64\":\n",
        "    pass\n",
        "  elif data[columna].dtypes == \"int\": \n",
        "    pass\n",
        "  else:\n",
        "    print(data[columna].name,data[columna].unique().tolist())"
      ],
      "execution_count": null,
      "outputs": [
        {
          "output_type": "stream",
          "text": [
            "mes ['Enero', 'Febrero', 'Marzo', 'Abril', 'Mayo', 'Junio', 'Julio', 'Agosto', 'Septiembre', 'Octubre', 'Noviembre', 'Diciembre']\n",
            "administración ['Ciudad de Buenos Aires', 'Argentina']\n"
          ],
          "name": "stdout"
        }
      ]
    },
    {
      "cell_type": "code",
      "metadata": {
        "id": "gRo6GK7QFodE",
        "outputId": "805c2021-6809-4c69-b21c-2eb3a1989e79",
        "colab": {
          "base_uri": "https://localhost:8080/"
        }
      },
      "source": [
        "# Lo podemos hacer función y reutilizar.\n",
        "# Atención a la correcta escritura de los parámetros (Debemos detallar los argumentos genéricamente)\n",
        "# Dado que queremos ver una muestra de las categorías que tenemos, sólo le pedimos los primeros 5 elementos por columna.\n",
        "\n",
        "def categorias(base):\n",
        "  for columna in base:\n",
        "    if base[columna].dtypes == \"float64\":\n",
        "      pass\n",
        "    elif base[columna].dtypes == \"int\": \n",
        "      pass\n",
        "    else:\n",
        "       print(\"Muestra de categorías de la columna\",base[columna].name.upper(),base[columna].unique().tolist()[0:5],\"\\n\")\n",
        "       \n",
        "  print(\"De cada columna, muestra hasta 5 categorías de la variable\")\n",
        "\n",
        "categorias(data)"
      ],
      "execution_count": null,
      "outputs": [
        {
          "output_type": "stream",
          "text": [
            "Muestra de categorías de la columna MES ['Enero', 'Febrero', 'Marzo', 'Abril', 'Mayo'] \n",
            "\n",
            "Muestra de categorías de la columna ADMINISTRACIÓN ['Ciudad de Buenos Aires', 'Argentina'] \n",
            "\n",
            "De cada columna, muestra hasta 5 categorías de la variable\n"
          ],
          "name": "stdout"
        }
      ]
    },
    {
      "cell_type": "code",
      "metadata": {
        "id": "TbUOeya6F7YC"
      },
      "source": [
        "# Apartado rápido: Vamos a testear nuestra función con un nuevo dataset.\n",
        "\n",
        "# Importamos el un nuevo csv de establecimientos educativos. \n",
        "# Esta vez vamos a utilizar un archivo \".xlsx\" - mejor conocido como excel - para trabajar sobre él. \n",
        "establecimientos_educativos_excel = \"http://cdn.buenosaires.gob.ar/datosabiertos/datasets/establecimientos-educativos/establecimientos-educativos.xlsx\"\n",
        "establecimientos = pd.read_excel(establecimientos_educativos_excel)\n",
        "\n",
        "establecimientos_1 = pd.read_csv(\"http://cdn.buenosaires.gob.ar/datosabiertos/datasets/establecimientos-educativos/establecimientos-educativos.csv\")"
      ],
      "execution_count": null,
      "outputs": []
    },
    {
      "cell_type": "code",
      "metadata": {
        "id": "WHfZfChYaWyB",
        "outputId": "da3dbea0-e8d1-412f-c816-7fb9e0b7095c",
        "colab": {
          "base_uri": "https://localhost:8080/",
          "height": 271
        }
      },
      "source": [
        "# Imprimimos por pantalla el resultado y vamos a ver nuestro dataframe con datos del excel cargado. \n",
        "establecimientos[0:2]"
      ],
      "execution_count": null,
      "outputs": [
        {
          "output_type": "execute_result",
          "data": {
            "text/html": [
              "<div>\n",
              "<style scoped>\n",
              "    .dataframe tbody tr th:only-of-type {\n",
              "        vertical-align: middle;\n",
              "    }\n",
              "\n",
              "    .dataframe tbody tr th {\n",
              "        vertical-align: top;\n",
              "    }\n",
              "\n",
              "    .dataframe thead th {\n",
              "        text-align: right;\n",
              "    }\n",
              "</style>\n",
              "<table border=\"1\" class=\"dataframe\">\n",
              "  <thead>\n",
              "    <tr style=\"text-align: right;\">\n",
              "      <th></th>\n",
              "      <th>long</th>\n",
              "      <th>lat</th>\n",
              "      <th>objectid</th>\n",
              "      <th>cui</th>\n",
              "      <th>cueanexo</th>\n",
              "      <th>cue</th>\n",
              "      <th>anexo</th>\n",
              "      <th>sector</th>\n",
              "      <th>dom_edific</th>\n",
              "      <th>dom_establ</th>\n",
              "      <th>nombre_estab</th>\n",
              "      <th>nombre_abrev</th>\n",
              "      <th>telefono</th>\n",
              "      <th>email</th>\n",
              "      <th>codpost</th>\n",
              "      <th>pagina_web</th>\n",
              "      <th>nivmod</th>\n",
              "      <th>nivelmodal</th>\n",
              "      <th>depfun</th>\n",
              "      <th>de</th>\n",
              "      <th>calle_nombre</th>\n",
              "      <th>calle_altura</th>\n",
              "      <th>comunas</th>\n",
              "      <th>barrio</th>\n",
              "      <th>codigo_postal</th>\n",
              "      <th>codigo_postal_argentino</th>\n",
              "      <th>areaprogra</th>\n",
              "      <th>estado</th>\n",
              "      <th>point_x</th>\n",
              "      <th>point_y</th>\n",
              "      <th>tipest</th>\n",
              "    </tr>\n",
              "  </thead>\n",
              "  <tbody>\n",
              "    <tr>\n",
              "      <th>0</th>\n",
              "      <td>-58.512702</td>\n",
              "      <td>-34.600586</td>\n",
              "      <td>1</td>\n",
              "      <td>200794</td>\n",
              "      <td>20046500</td>\n",
              "      <td>200465</td>\n",
              "      <td>0</td>\n",
              "      <td>1</td>\n",
              "      <td>Mercedes 4002</td>\n",
              "      <td>Mercedes 4002</td>\n",
              "      <td>Centro Educativo de Nivel Secundario N° 65</td>\n",
              "      <td>CENS 65</td>\n",
              "      <td>4501-9054</td>\n",
              "      <td>deaa_cens65_de1@bue.edu.ar</td>\n",
              "      <td>C1419</td>\n",
              "      <td>http://www.buenosaires.gob.ar/educacion/estudi...</td>\n",
              "      <td>SecAdu</td>\n",
              "      <td>Nivel Secundario de Jóvenes y Adultos</td>\n",
              "      <td>Dir de Educación del Adulto y del Adolescente</td>\n",
              "      <td>17</td>\n",
              "      <td>Mercedes</td>\n",
              "      <td>4002.0</td>\n",
              "      <td>11</td>\n",
              "      <td>VILLA DEVOTO</td>\n",
              "      <td>1419.0</td>\n",
              "      <td>C1419BGJ</td>\n",
              "      <td>12 - HOSP ZUBIZARRETA</td>\n",
              "      <td>1</td>\n",
              "      <td>95468.3835</td>\n",
              "      <td>103180.9301</td>\n",
              "      <td>Centro Educativo de Nivel Secundario</td>\n",
              "    </tr>\n",
              "    <tr>\n",
              "      <th>1</th>\n",
              "      <td>-58.409572</td>\n",
              "      <td>-34.627545</td>\n",
              "      <td>2</td>\n",
              "      <td>202368</td>\n",
              "      <td>20146700</td>\n",
              "      <td>201467</td>\n",
              "      <td>0</td>\n",
              "      <td>2</td>\n",
              "      <td>Constitución 3156</td>\n",
              "      <td>Constitución 3156</td>\n",
              "      <td>Inst. 9 de Julio</td>\n",
              "      <td>I 9 de Julio</td>\n",
              "      <td>4931-9299</td>\n",
              "      <td>institutoprivado9dejulio@yahoo.com.ar</td>\n",
              "      <td>C1254</td>\n",
              "      <td>http://www.buenosaires.gob.ar/areas/educacion/...</td>\n",
              "      <td>SecCom</td>\n",
              "      <td>Nivel Secundario Común</td>\n",
              "      <td>Dir Gral de Educación de Gestión Privada</td>\n",
              "      <td>6</td>\n",
              "      <td>Constitución</td>\n",
              "      <td>3156.0</td>\n",
              "      <td>3</td>\n",
              "      <td>SAN CRISTOBAL</td>\n",
              "      <td>1254.0</td>\n",
              "      <td>C1254ABB</td>\n",
              "      <td>08 - HOSP RAMOS MEJIA</td>\n",
              "      <td>1</td>\n",
              "      <td>104926.8283</td>\n",
              "      <td>100190.0717</td>\n",
              "      <td>Instituto Educativo Incorporado a la Enseñanza...</td>\n",
              "    </tr>\n",
              "  </tbody>\n",
              "</table>\n",
              "</div>"
            ],
            "text/plain": [
              "        long  ...                                             tipest\n",
              "0 -58.512702  ...               Centro Educativo de Nivel Secundario\n",
              "1 -58.409572  ...  Instituto Educativo Incorporado a la Enseñanza...\n",
              "\n",
              "[2 rows x 31 columns]"
            ]
          },
          "metadata": {
            "tags": []
          },
          "execution_count": 398
        }
      ]
    },
    {
      "cell_type": "code",
      "metadata": {
        "id": "cncvqewfa8L9",
        "outputId": "7f51d518-c01d-482b-dc18-d1fa63ad621d",
        "colab": {
          "base_uri": "https://localhost:8080/",
          "height": 271
        }
      },
      "source": [
        "# Imprimos por pantalla el resultado y vemos que son los mismos datos.\n",
        "establecimientos_1[0:2]"
      ],
      "execution_count": null,
      "outputs": [
        {
          "output_type": "execute_result",
          "data": {
            "text/html": [
              "<div>\n",
              "<style scoped>\n",
              "    .dataframe tbody tr th:only-of-type {\n",
              "        vertical-align: middle;\n",
              "    }\n",
              "\n",
              "    .dataframe tbody tr th {\n",
              "        vertical-align: top;\n",
              "    }\n",
              "\n",
              "    .dataframe thead th {\n",
              "        text-align: right;\n",
              "    }\n",
              "</style>\n",
              "<table border=\"1\" class=\"dataframe\">\n",
              "  <thead>\n",
              "    <tr style=\"text-align: right;\">\n",
              "      <th></th>\n",
              "      <th>long</th>\n",
              "      <th>lat</th>\n",
              "      <th>objectid</th>\n",
              "      <th>cui</th>\n",
              "      <th>cueanexo</th>\n",
              "      <th>cue</th>\n",
              "      <th>anexo</th>\n",
              "      <th>sector</th>\n",
              "      <th>dom_edific</th>\n",
              "      <th>dom_establ</th>\n",
              "      <th>nombre_estab</th>\n",
              "      <th>nombre_abrev</th>\n",
              "      <th>telefono</th>\n",
              "      <th>email</th>\n",
              "      <th>codpost</th>\n",
              "      <th>pagina_web</th>\n",
              "      <th>nivmod</th>\n",
              "      <th>nivelmodal</th>\n",
              "      <th>depfun</th>\n",
              "      <th>de</th>\n",
              "      <th>calle_nombre</th>\n",
              "      <th>calle_altura</th>\n",
              "      <th>comunas</th>\n",
              "      <th>barrio</th>\n",
              "      <th>codigo_postal</th>\n",
              "      <th>codigo_postal_argentino</th>\n",
              "      <th>areaprogra</th>\n",
              "      <th>estado</th>\n",
              "      <th>point_x</th>\n",
              "      <th>point_y</th>\n",
              "      <th>tipest</th>\n",
              "    </tr>\n",
              "  </thead>\n",
              "  <tbody>\n",
              "    <tr>\n",
              "      <th>0</th>\n",
              "      <td>-58.512702</td>\n",
              "      <td>-34.600586</td>\n",
              "      <td>1</td>\n",
              "      <td>200794</td>\n",
              "      <td>20046500</td>\n",
              "      <td>200465</td>\n",
              "      <td>0</td>\n",
              "      <td>1</td>\n",
              "      <td>Mercedes 4002</td>\n",
              "      <td>Mercedes 4002</td>\n",
              "      <td>Centro Educativo de Nivel Secundario N° 65</td>\n",
              "      <td>CENS 65</td>\n",
              "      <td>4501-9054</td>\n",
              "      <td>deaa_cens65_de1@bue.edu.ar</td>\n",
              "      <td>C1419</td>\n",
              "      <td>http://www.buenosaires.gob.ar/educacion/estudi...</td>\n",
              "      <td>SecAdu</td>\n",
              "      <td>Nivel Secundario de Jóvenes y Adultos</td>\n",
              "      <td>Dir de Educación del Adulto y del Adolescente</td>\n",
              "      <td>17.0</td>\n",
              "      <td>Mercedes</td>\n",
              "      <td>4002.0</td>\n",
              "      <td>11.0</td>\n",
              "      <td>VILLA DEVOTO</td>\n",
              "      <td>1419.0</td>\n",
              "      <td>C1419BGJ</td>\n",
              "      <td>12 - HOSP ZUBIZARRETA</td>\n",
              "      <td>1</td>\n",
              "      <td>95468.3835</td>\n",
              "      <td>103180.9301</td>\n",
              "      <td>Centro Educativo de Nivel Secundario</td>\n",
              "    </tr>\n",
              "    <tr>\n",
              "      <th>1</th>\n",
              "      <td>-58.409572</td>\n",
              "      <td>-34.627545</td>\n",
              "      <td>2</td>\n",
              "      <td>202368</td>\n",
              "      <td>20146700</td>\n",
              "      <td>201467</td>\n",
              "      <td>0</td>\n",
              "      <td>2</td>\n",
              "      <td>Constitución 3156</td>\n",
              "      <td>Constitución 3156</td>\n",
              "      <td>Inst. 9 de Julio</td>\n",
              "      <td>I 9 de Julio</td>\n",
              "      <td>4931-9299</td>\n",
              "      <td>institutoprivado9dejulio@yahoo.com.ar</td>\n",
              "      <td>C1254</td>\n",
              "      <td>http://www.buenosaires.gob.ar/areas/educacion/...</td>\n",
              "      <td>SecCom</td>\n",
              "      <td>Nivel Secundario Común</td>\n",
              "      <td>Dir Gral de Educación de Gestión Privada</td>\n",
              "      <td>6.0</td>\n",
              "      <td>Constitución</td>\n",
              "      <td>3156.0</td>\n",
              "      <td>3.0</td>\n",
              "      <td>SAN CRISTOBAL</td>\n",
              "      <td>1254.0</td>\n",
              "      <td>C1254ABB</td>\n",
              "      <td>08 - HOSP RAMOS MEJIA</td>\n",
              "      <td>1</td>\n",
              "      <td>104926.8283</td>\n",
              "      <td>100190.0717</td>\n",
              "      <td>Instituto Educativo Incorporado a la Enseñanza...</td>\n",
              "    </tr>\n",
              "  </tbody>\n",
              "</table>\n",
              "</div>"
            ],
            "text/plain": [
              "        long  ...                                             tipest\n",
              "0 -58.512702  ...               Centro Educativo de Nivel Secundario\n",
              "1 -58.409572  ...  Instituto Educativo Incorporado a la Enseñanza...\n",
              "\n",
              "[2 rows x 31 columns]"
            ]
          },
          "metadata": {
            "tags": []
          },
          "execution_count": 399
        }
      ]
    },
    {
      "cell_type": "code",
      "metadata": {
        "id": "DDTjpE7VVlKN",
        "outputId": "cecb552f-e8c9-4ab4-d7e3-f66823f5c21e",
        "colab": {
          "base_uri": "https://localhost:8080/"
        }
      },
      "source": [
        "# Veamos la forma de nuestra tabla alternativa\n",
        "establecimientos.shape"
      ],
      "execution_count": null,
      "outputs": [
        {
          "output_type": "execute_result",
          "data": {
            "text/plain": [
              "(2828, 31)"
            ]
          },
          "metadata": {
            "tags": []
          },
          "execution_count": 400
        }
      ]
    },
    {
      "cell_type": "code",
      "metadata": {
        "id": "sQFizRuGVtha",
        "outputId": "6735c79d-3773-4906-c457-2dc9f0ac4cfe",
        "colab": {
          "base_uri": "https://localhost:8080/"
        }
      },
      "source": [
        "# Probamos nuestra función.\n",
        "categorias(establecimientos)"
      ],
      "execution_count": null,
      "outputs": [
        {
          "output_type": "stream",
          "text": [
            "Muestra de categorías de la columna DOM_EDIFIC ['Mercedes 4002', 'Constitución 3156', 'Blanco Encalada 3479', 'Avda. Gral. Las Heras 2670', 'Obrero Roberto Núñez 4355'] \n",
            "\n",
            "Muestra de categorías de la columna DOM_ESTABL ['Mercedes 4002', 'Constitución 3156', 'Blanco Encalada 3471', 'Avda. Gral. Las Heras 2670', 'Obrero Roberto Núñez 4355'] \n",
            "\n",
            "Muestra de categorías de la columna NOMBRE_ESTAB ['Centro Educativo de Nivel Secundario N° 65', 'Inst. 9 de Julio', 'Escuela Infantil N° 06/10° Madre Eufrasia Iaconis', 'Escuela Infantil N° 08/01°', 'Jardín de Infantes Nucleado C (EPCjc 11/02°)'] \n",
            "\n",
            "Muestra de categorías de la columna NOMBRE_ABREV ['CENS 65', 'I 9 de Julio', 'EI 06/10', 'EI 08/01', 'JIN C-03 (11)'] \n",
            "\n",
            "Muestra de categorías de la columna TELEFONO ['4501-9054', '4931-9299', '4545-3354', '4804-9003', '4867-2749'] \n",
            "\n",
            "Muestra de categorías de la columna EMAIL ['deaa_cens65_de1@bue.edu.ar', 'institutoprivado9dejulio@yahoo.com.ar', 'ei6_10@yahoo.com.ar', 'dei_ei8de1@bue.edu.ar / escuelainfantil8de1@gmail.com', 'dei_jinc17_de2@bue.edu.ar'] \n",
            "\n",
            "Muestra de categorías de la columna CODPOST ['C1419', 'C1254', 'C1430', 'C1425', 'C1429'] \n",
            "\n",
            "Muestra de categorías de la columna PAGINA_WEB ['http://www.buenosaires.gob.ar/educacion/estudiantes/adultos/secundaria', 'http://www.buenosaires.gob.ar/areas/educacion/gestion_privada/index.php?menu_id=19676', 'http://www.buenosaires.gob.ar/educacion/estudiantes/inicial?menu_id=9759', 'http://www.buenosaires.gob.ar/educacion/estudiantes/secundario/contacto?menu_id=18231', 'http://www.buenosaires.gob.ar/educacion/estudiantes/primario?menu_id=9760'] \n",
            "\n",
            "Muestra de categorías de la columna NIVMOD ['SecAdu', 'SecCom', 'IniCom', 'OSECom', 'PriCom'] \n",
            "\n",
            "Muestra de categorías de la columna NIVELMODAL ['Nivel Secundario de Jóvenes y Adultos', 'Nivel Secundario Común', 'Nivel Inicial Común', 'Otros Servicios Educativos de la modalidad Común', 'Nivel Primario Común'] \n",
            "\n",
            "Muestra de categorías de la columna DEPFUN ['Dir de Educación del Adulto y del Adolescente', 'Dir Gral de Educación de Gestión Privada', 'Dir de Educación Inicial', 'Dir de Educación Media', 'GO Registro de Institutos Educativos Asistenciales'] \n",
            "\n",
            "Muestra de categorías de la columna CALLE_NOMBRE ['Mercedes ', 'Constitución ', 'Blanco Encalada ', 'Avda. Gral. Las Heras ', 'Obrero Roberto Nú'] \n",
            "\n",
            "Muestra de categorías de la columna BARRIO ['VILLA DEVOTO', 'SAN CRISTOBAL', 'BELGRANO', 'RECOLETA', 'ALMAGRO'] \n",
            "\n",
            "Muestra de categorías de la columna CODIGO_POSTAL_ARGENTINO ['C1419BGJ', 'C1254ABB', 'C1430BNC', 'C1425ASQ', 'C1182AAA'] \n",
            "\n",
            "Muestra de categorías de la columna AREAPROGRA ['12 - HOSP ZUBIZARRETA', '08 - HOSP RAMOS MEJIA', '07 - HOSP PIROVANO', '04 - HOSP FERNANDEZ', '03 - HOSP DURAND'] \n",
            "\n",
            "Muestra de categorías de la columna TIPEST ['Centro Educativo de Nivel Secundario', 'Instituto Educativo Incorporado a la Enseñanza Oficial', 'Escuela Infantil', 'Jardín de Infantes Nucleado', 'Colegio'] \n",
            "\n",
            "De cada columna, muestra hasta 5 categorías de la variable\n"
          ],
          "name": "stdout"
        }
      ]
    },
    {
      "cell_type": "markdown",
      "metadata": {
        "id": "6x_LWXG5bAI-"
      },
      "source": [
        "Vemos finalmente que sólo nos da muestras de las variables categóricas, las cuales almacena en listas con los elementos en formato *string*\n",
        "\n",
        "*Nota 5* | La forma en que la función pudo trabajar correctamente fue a partir de darle un marco genérico a los elementos."
      ]
    },
    {
      "cell_type": "code",
      "metadata": {
        "id": "JARSpQj7bTId",
        "outputId": "d6aeb2dd-2df2-44bd-e392-b4a238b15e25",
        "colab": {
          "base_uri": "https://localhost:8080/"
        }
      },
      "source": [
        "# Ejemplo de la función escrita incorrectamente - no modificada -. \n",
        "\n",
        "# Esta fue mi loop original. \n",
        "for columna in data:\n",
        "    if data[columna].dtypes == \"float64\":\n",
        "      pass\n",
        "    elif data[columna].dtypes == \"int\": \n",
        "      pass\n",
        "    else:\n",
        "      print(data[columna].name,data[columna].unique().tolist())"
      ],
      "execution_count": null,
      "outputs": [
        {
          "output_type": "stream",
          "text": [
            "mes ['Enero', 'Febrero', 'Marzo', 'Abril', 'Mayo', 'Junio', 'Julio', 'Agosto', 'Septiembre', 'Octubre', 'Noviembre', 'Diciembre']\n",
            "administración ['Ciudad de Buenos Aires', 'Argentina']\n"
          ],
          "name": "stdout"
        }
      ]
    },
    {
      "cell_type": "code",
      "metadata": {
        "id": "_rRs8RD2bt8C"
      },
      "source": [
        "# Para paquetizar la función, tengo que definirla y pasarle el parámetro.\n",
        "# La defino, y le digo que \"base\" es el argumento con el cual va a trabajar.\n",
        "\n",
        "def categorias_1(base):\n",
        "  for columna in data:\n",
        "    if data[columna].dtypes == \"float64\":\n",
        "      pass\n",
        "    elif data[columna].dtypes == \"int\": \n",
        "      pass\n",
        "    else:\n",
        "      print(data[columna].name,data[columna].unique().tolist())\n",
        "\n",
        "# Cuando ejecuto la celda, no sucede nada dado que sóólo definí la función."
      ],
      "execution_count": null,
      "outputs": []
    },
    {
      "cell_type": "code",
      "metadata": {
        "id": "p9FCqmPdcS1W",
        "outputId": "1800f015-887a-43ca-eb1e-92b98ed7489e",
        "colab": {
          "base_uri": "https://localhost:8080/"
        }
      },
      "source": [
        "# Ahora, vamos a testear nuestra función.\n",
        "categorias_1(establecimientos)\n",
        "\n",
        "#¿Qué sucedió?"
      ],
      "execution_count": null,
      "outputs": [
        {
          "output_type": "stream",
          "text": [
            "mes ['Enero', 'Febrero', 'Marzo', 'Abril', 'Mayo', 'Junio', 'Julio', 'Agosto', 'Septiembre', 'Octubre', 'Noviembre', 'Diciembre']\n",
            "administración ['Ciudad de Buenos Aires', 'Argentina']\n"
          ],
          "name": "stdout"
        }
      ]
    },
    {
      "cell_type": "markdown",
      "metadata": {
        "id": "59T3up2_cd46"
      },
      "source": [
        "Dado que no modifique el funcionamiento interno de la función definida, siguió operando con la información de la tabla original - *data* - y no con la información de la base *establecimientos* que le pasamos como parámetro. Para evitar esta situación, al momento de definir una función debemos escribir correctamente los argumentos en el cuerpo de nuestro código. \n",
        "\n",
        "En este caso, reemplazar *data* por *base* para que realice exactamente las mismas operacione sobre el dataframe que le pasemos como argumento.\n",
        "\n",
        "--"
      ]
    },
    {
      "cell_type": "markdown",
      "metadata": {
        "id": "TUpGD8GOd4Bx"
      },
      "source": [
        "Ahora queremos avanzar un poco más en las variables nominales y sus categorías captando la frecuencia de aparición en la tabla.\n",
        "\n",
        "Nuevamente, podemos copiar parte nuestro código anterior y la lógica condicional construida para aplicarla."
      ]
    },
    {
      "cell_type": "code",
      "metadata": {
        "id": "_s8kbOVHb6JO",
        "outputId": "e010121b-8bd0-4ff8-c26d-9248cf28d173",
        "colab": {
          "base_uri": "https://localhost:8080/"
        }
      },
      "source": [
        "for columna in data:\n",
        "  if data[columna].dtypes ==\"float64\":\n",
        "    continue\n",
        "  else:\n",
        "    print(\"\\n\",\"Columna:\",data[columna].name.upper(),\"\\n\",data[columna].value_counts())\n",
        "    \n",
        "# Utilizamos nuevos métodos para emprolijar nuestro output. (\".upper()\",\".value_counts()\")"
      ],
      "execution_count": null,
      "outputs": [
        {
          "output_type": "stream",
          "text": [
            "\n",
            " Columna: AÑO \n",
            " 2020    24\n",
            "2019    24\n",
            "2018    24\n",
            "2017    24\n",
            "2016    24\n",
            "2015    24\n",
            "2014    24\n",
            "2013    24\n",
            "2012    24\n",
            "2011    24\n",
            "2010    24\n",
            "Name: año, dtype: int64\n",
            "\n",
            " Columna: MES \n",
            " Octubre       22\n",
            "Noviembre     22\n",
            "Marzo         22\n",
            "Julio         22\n",
            "Abril         22\n",
            "Junio         22\n",
            "Septiembre    22\n",
            "Febrero       22\n",
            "Enero         22\n",
            "Agosto        22\n",
            "Mayo          22\n",
            "Diciembre     22\n",
            "Name: mes, dtype: int64\n",
            "\n",
            " Columna: ADMINISTRACIÓN \n",
            " Argentina                 132\n",
            "Ciudad de Buenos Aires    132\n",
            "Name: administración, dtype: int64\n"
          ],
          "name": "stdout"
        }
      ]
    },
    {
      "cell_type": "code",
      "metadata": {
        "id": "4Y3Q0dktiD1-"
      },
      "source": [
        "# Paquetizamos nuestro código para reutilizarlo en una función.\n",
        "\n",
        "def frecuencia_categorias(base):\n",
        "  for columna in base:\n",
        "    if base[columna].dtypes ==\"float64\":\n",
        "      continue\n",
        "    elif base[columna].dtypes ==\"int\":\n",
        "      continue\n",
        "    else:\n",
        "      print(\"\\n\",\"Columna:\",base[columna].name.upper(),\"\\n\",base[columna].value_counts())"
      ],
      "execution_count": null,
      "outputs": []
    },
    {
      "cell_type": "code",
      "metadata": {
        "id": "RIkC5Yf8iv-a",
        "outputId": "6a402b91-7c8a-4319-9a12-0f6d0c6f904a",
        "colab": {
          "base_uri": "https://localhost:8080/"
        }
      },
      "source": [
        "#Testeamos nuestra función con la tabla de educativos. \n",
        "\n",
        "frecuencia_categorias(establecimientos)"
      ],
      "execution_count": null,
      "outputs": [
        {
          "output_type": "stream",
          "text": [
            "\n",
            " Columna: DOM_EDIFIC \n",
            " Rondeau 2751                12\n",
            "Rio Cuarto y Montesquieu    10\n",
            "Avda. Entre Ríos 757         7\n",
            "Corrales 3420 / 3450         7\n",
            "Martínez Castro 3061         7\n",
            "                            ..\n",
            "Avda. Tilcara 3178           1\n",
            "Avda. Nazca 750              1\n",
            "Olaya 1565                   1\n",
            "Moldes 1854                  1\n",
            "Cullen 5193                  1\n",
            "Name: dom_edific, Length: 1866, dtype: int64\n",
            "\n",
            " Columna: DOM_ESTABL \n",
            " Rio Cuarto y Montesquieu - Avda. Gral. Iriarte alt. 3501    10\n",
            "Cátulo Castillo 2750                                         8\n",
            "Avda. Entre Ríos 757                                         7\n",
            "San Nicolás 588                                              6\n",
            "Saraza 470                                                   5\n",
            "                                                            ..\n",
            "Darregueyra 2369                                             1\n",
            "Avda. Asamblea 153                                           1\n",
            "Pujol 644                                                    1\n",
            "Avda. Gral. Fernández de la Cruz 5430                        1\n",
            "Pergamino 2882                                               1\n",
            "Name: dom_establ, Length: 1999, dtype: int64\n",
            "\n",
            " Columna: NOMBRE_ESTAB \n",
            " Centro de Formación Profesional N° 10 Raúl Scalabrini Ortiz (anexo) - SEC    6\n",
            "Centro de Formación Profesional N° 19 (a)                                    6\n",
            "Inst. María Auxiliadora                                                      5\n",
            "Inst. Ntra. Sra. de la Misericordia                                          5\n",
            "Inst. San José                                                               4\n",
            "                                                                            ..\n",
            "Esc. Primaria Común N° 08 Judith y Demetrio Demarchi                         1\n",
            "Jardín de Infantes Nucleado B (EPCjc 02/13°)                                 1\n",
            "Centro Educativo Complementario de Idiomas Extranjeros N° 18                 1\n",
            "Escuela Hogar Dr. Miguel V. Loureyro                                         1\n",
            "Inst. Dr. Herzl                                                              1\n",
            "Name: nombre_estab, Length: 2755, dtype: int64\n",
            "\n",
            " Columna: NOMBRE_ABREV \n",
            " EPjc 03                                16\n",
            "EPjc 11                                16\n",
            "EPjc 01                                14\n",
            "EPjc 23                                14\n",
            "EPjc 18                                13\n",
            "                                       ..\n",
            "CENP 56                                 1\n",
            "CAIyJ San Telmo                         1\n",
            "I Ntra Sra de la Divina Providencia     1\n",
            "Image Campus                            1\n",
            "I JB Berthier                           1\n",
            "Name: nombre_abrev, Length: 2258, dtype: int64\n",
            "\n",
            " Columna: TELEFONO \n",
            " 4300-7915               72\n",
            "4672-2684               60\n",
            "4342-5685/2384INT628    36\n",
            "S/D                     29\n",
            "4343-5591 INT 605/7     22\n",
            "                        ..\n",
            "4687-1510                1\n",
            "4501-2716                1\n",
            "1561908366               1\n",
            "4638-6213                1\n",
            "4307-1210                1\n",
            "Name: telefono, Length: 2131, dtype: int64\n",
            "\n",
            " Columna: EMAIL \n",
            " paebyt@gmail.com                           72\n",
            "adu_centros@yahoo.com.ar                   57\n",
            "S/D                                        51\n",
            "inclusioneducativa@bue.edu.ar              27\n",
            "vocacionales2010@yahoo.com.ar              24\n",
            "                                           ..\n",
            "stamaria568@hotmail.com                     1\n",
            "esc30de9@gmail.com/dep_epc30@bue.edu.ar     1\n",
            "liceo1de2@gmail.com                         1\n",
            "info@iag.com.ar                             1\n",
            "dei_jinc16_de17@bue.edu.ar                  1\n",
            "Name: email, Length: 2316, dtype: int64\n",
            "\n",
            " Columna: CODPOST \n",
            " C1406    172\n",
            "C1437    169\n",
            "C1407    161\n",
            "C1439    147\n",
            "C1425    136\n",
            "        ... \n",
            "C1172      1\n",
            "C1285      1\n",
            "C1190      1\n",
            "C1187      1\n",
            "C1263      1\n",
            "Name: codpost, Length: 268, dtype: int64\n",
            "\n",
            " Columna: PAGINA_WEB \n",
            " http://www.buenosaires.gob.ar/areas/educacion/gestion_privada/index.php?menu_id=19676       769\n",
            "http://www.buenosaires.gob.ar/educacion/estudiantes/primario?menu_id=9760                   498\n",
            "http://www.buenosaires.gob.ar/educacion/estudiantes/inicial?menu_id=9759                    404\n",
            "http://www.buenosaires.gob.ar/areas/educacion/gestion_privada/riae.php?menu_id=23314        236\n",
            "http://www.buenosaires.gob.ar/educacion/estudiantes/adultos/primaria?menu_id=12643          213\n",
            "http://www.buenosaires.gob.ar/educacion/educacionytrabajo?menu_id=20091                     134\n",
            "http://www.buenosaires.gob.ar/educacion/estudiantes/secundario/contacto?menu_id=18231       107\n",
            "http://www.buenosaires.gob.ar/educacion/estudiantes/adultos/secundaria                       94\n",
            "http://www.buenosaires.gob.ar/areas/educacion/dgie/clubes_infantiles.php?menu_id=31761       81\n",
            "http://www.buenosaires.gob.ar/areas/educacion/niveles/art/?menu_id=9765                      55\n",
            "http://www.buenosaires.gob.ar/areas/educacion/niveles/adultos/oferta.php?menu_id=12643       53\n",
            "http://www.buenosaires.gob.ar/educacion/estudiantes/especial                                 51\n",
            "http://www.buenosaires.gob.ar/educacion/estudiantes/secundario/tecnica                       38\n",
            "http://www.buenosaires.gob.ar/educacion/estudiantes/terciario/formacion-tecnica-superior     33\n",
            "http://www.buenosaires.gob.ar/areas/educacion/docentes/superior/index.php?menu_id=20596      28\n",
            "S/D                                                                                          20\n",
            "http://www.buenosaires.gob.ar/areas/cultura/dg_ens_art/?menu_id=334                          11\n",
            "http://www.buenosaires.gob.ar/educacion/escuelademaestros                                     3\n",
            "Name: pagina_web, dtype: int64\n",
            "\n",
            " Columna: NIVMOD \n",
            " IniCom                                                  484\n",
            "PriCom                                                  459\n",
            "OSECom                                                  433\n",
            "IniCom - PriCom - SecCom                                259\n",
            "SNUCom                                                  169\n",
            "SecCom                                                  157\n",
            "PriAdu - OSEAdu                                         153\n",
            "SecAdu                                                  152\n",
            "IniCom - PriCom                                         121\n",
            "OSECom - OSEAdu                                          91\n",
            "OSEAdu                                                   60\n",
            "PriAdu                                                   59\n",
            "SNUCom - OSEAdu                                          34\n",
            "IniCom - PriCom - SecCom - SNUCom                        23\n",
            "IniEsp - PriEsp                                          19\n",
            "PriEsp                                                   17\n",
            "SecCom - SecAdu                                          17\n",
            "PriEsp - OSEEsp                                          17\n",
            "IniEsp - PriEsp - OSEEsp                                 15\n",
            "SNUCom - OSECom                                          12\n",
            "PriAdu - SecAdu                                           9\n",
            "PriCom - SecCom                                           8\n",
            "SecCom - SNUCom - OSECom                                  7\n",
            "SecCom - SNUCom                                           6\n",
            "IniCom - PriCom - SecCom - SecAdu                         5\n",
            "OSEEsp                                                    5\n",
            "SecAdu - SNUCom                                           3\n",
            "IniCom - PriCom - PriAdu - SecCom                         3\n",
            "PriCom - SecCom - SNUCom                                  3\n",
            "SecCom - OSEAdu                                           3\n",
            "SecCom - SecAdu - SNUCom                                  3\n",
            "IniCom - OSECom                                           3\n",
            "IniCom - SNUCom                                           2\n",
            "IniCom - PriCom - PriAdu                                  2\n",
            "IniCom - PriCom - PriEsp - OSECom                         1\n",
            "IniEsp                                                    1\n",
            "IniCom - PriCom - SecCom - PriAdu - SecAdu                1\n",
            "IniEsp - PriEsp - SecEsp - OSEEsp                         1\n",
            "SecAdu - SNUCom - OSEAdu                                  1\n",
            "IniCom - PriCom  - PriEsp - SecCom - SecEsp - SNUCom      1\n",
            "IniEsp - PriEsp - SecCom                                  1\n",
            "SecCom - SecAdu - SNUCom - OSECom                         1\n",
            "PriEsp - SecEsp                                           1\n",
            "IniEsp - PriEsp - SecAdu - OSEEsp                         1\n",
            "SecCom - OSECom                                           1\n",
            "IniCom - PriCom - SecCom - SecAdu - SNUCom                1\n",
            "IniCom - SecCom                                           1\n",
            "SecCom - OSECom - OSEAdu                                  1\n",
            "SecCom - SNUCom - OSECom - OSEAdu                         1\n",
            "Name: nivmod, dtype: int64\n",
            "\n",
            " Columna: NIVELMODAL \n",
            " Nivel Inicial Común                                                                                                                                          483\n",
            "Nivel Primario Común                                                                                                                                         459\n",
            "Otros Servicios Educativos de la modalidad Común                                                                                                             433\n",
            "Nivel Inicial, Primario y Secundario Común                                                                                                                   259\n",
            "Nivel Superior No Universitario Común                                                                                                                        169\n",
            "Nivel Secundario Común                                                                                                                                       157\n",
            "Nivel Primario de Jóvenes y Adultos - Otros Servicios Educativos de la modalidad de Jóvenes y Adultos                                                        153\n",
            "Nivel Secundario de Jóvenes y Adultos                                                                                                                        152\n",
            "Nivel Inicial y Primario Común                                                                                                                               121\n",
            "Otros Servicios Educativos de las modalidades Común y de Jóvenes y Adultos                                                                                    90\n",
            "Otros Servicios Educativos de la modalidad de Jóvenes y Adultos                                                                                               60\n",
            "Nivel Primario de Jóvenes y Adultos                                                                                                                           59\n",
            "Nivel Superior No Universitario Común - Otros Servicios Educativos de la modalidad de Jóvenes y Adultos                                                       34\n",
            "Nivel Inicial, Primario, Secundario y Superior No Universitario Común                                                                                         22\n",
            "Nivel Inicial y Primario Especial                                                                                                                             19\n",
            "Nivel Primario Especial - Otros Servicios Educativos de la modalidad Especial                                                                                 17\n",
            "Nivel Primario Especial                                                                                                                                       17\n",
            "Nivel Secundario Común - Nivel Secundario de Jóvenes y Adultos                                                                                                16\n",
            "Nivel Inicial y Primario Especial - Otros Servicios Educativos de la modalidad Especial                                                                       15\n",
            "Nivel Superior No Universitario Común - Otros Servicios Educativos de la modalidad Común                                                                      12\n",
            "Nivel Primario y Secundario de Jóvenes y Adultos                                                                                                               9\n",
            "Nivel Primario y Secundario Común                                                                                                                              8\n",
            "Nivel Secundario Común - Nivel Superior No Universitario Común - Otros Servicios Educativos de la modalidad Común                                              7\n",
            "Nivel Secundario y Superior No Universitario Común                                                                                                             6\n",
            "Otros Servicios Educativos de la modalidad Especial                                                                                                            5\n",
            "Nivel Inicial, Primario y Secundario Común - Nivel Secundario de Jóvenes y Adultos                                                                             4\n",
            "Nivel Inicial Común - Otros Servicios Educativos de la modalidad Común                                                                                         3\n",
            "Nivel Secundario y Superior No Universitario Común - Nivel Secundario de Jóvenes y Adultos                                                                     3\n",
            "Nivel Inicial, Primario y Secundario Común - Nivel Primario de Jóvenes y Adultos                                                                               3\n",
            "Nivel Secundario de Jóvenes y Adultos - Nivel Superior No Universitario Común                                                                                  3\n",
            "Nivel Primario, Secundario y Superior No Universitario Común                                                                                                   3\n",
            "Nivel Secundario Común - Otros Servicios Educativos de la modalidad de Jóvenes y Adultos                                                                       3\n",
            "Nivel Inicial y Superior No Universitario Común                                                                                                                2\n",
            "Nivel Inicial y Primario Común - Nivel Primario de Jóvenes y Adultos                                                                                           2\n",
            "Nivel Secundario Común - Nivel Superior No Universitario Común - Otros Servicios Educativos de las modalidadades Común y de Jóvenes y Adultos                  1\n",
            "Nivel Secundario Común - Nivel Secundario de Jóvenes y Adultos - Nivel Superior No Universitario Común - Otros Servicios Educativos de la modalidad Común      1\n",
            "Nivel Inicial y Secundario Común                                                                                                                               1\n",
            "Nivel Inicial y Primario Especial - Nivel Secundario de Jóvenes y Adultos - Otros Servicios Educativos de la modalidad Especial                                1\n",
            "Nivel Secundario de Jóvenes y Adultos - Nivel Superior No Universitario Común - Otros Servicios Educativos de la modalidad de Jóvenes y Adultos                1\n",
            "Nivel Inicial, Primario, Secundario y Terciario No Universitario Común                                                                                         1\n",
            "Nivel Inicial y Primario Especial - Nivel Secundario Común                                                                                                     1\n",
            "Nivel Inicial y Primario Común - Nivel Primario Especial - Otros Servicios Educativos de la modalidad Común                                                    1\n",
            "Nivel Inicial, Primario, Secundario  y Superior No Universitario Común - Nivel Primario y Secundario Especial                                                  1\n",
            "Nivel Primario y Secundario Especial                                                                                                                           1\n",
            "Nivel Secundario Común - Otros Servicios Educativos de la modalidad Común                                                                                      1\n",
            "Nivel Inicial, Primario, Secundario y Superior No Universitario Común - Nivel Secundario de Jóvenes y Adultos                                                  1\n",
            "Nivel Inicial, Primario y Secundario Común - Nivel Primario y Secundario de Jóvenes y Adultos                                                                  1\n",
            "Nivel Inicial                                                                                                                                                  1\n",
            "Nivel Secundario Común - Otros Servicios Educativos de las modalidadades Común y de Jóvenes y Adultos                                                          1\n",
            "Nivel Inicial, Primario, Secundario Común - Nivel Secundario de Jóvenes y Adultos                                                                              1\n",
            "Nivel Secundario Común -Nivel Secundario de Jóvenes y Adultos                                                                                                  1\n",
            "Otros Servicios Educativos de la modalidad Común - Otros Servicios Educativos de la modalidad de Jóvenes y Adultos                                             1\n",
            "Nivel Inicial, Primario y Secundario Especial - Otros Servicios Educativos de la modalidad Especial                                                            1\n",
            "Nivel Inicial Especial                                                                                                                                         1\n",
            "Name: nivelmodal, dtype: int64\n",
            "\n",
            " Columna: DEPFUN \n",
            " Dir Gral de Educación de Gestión Privada                        752\n",
            "Dir de Educación Primaria                                       497\n",
            "Dir de Educación Inicial                                        413\n",
            "Dir de Educación del Adulto y del Adolescente                   357\n",
            "GO Registro de Institutos Educativos Asistenciales              248\n",
            "GO de Formación Laboral                                         136\n",
            "Dir de Educación Media                                          106\n",
            "Subsecretaría de Coordinación Pedagógica y Equidad Educativa     77\n",
            "Dir de Educación Artística                                       54\n",
            "Dir de Educación Especial                                        51\n",
            "Dir de Educación Técnica                                         39\n",
            "Dir de Formación Técnica Superior                                34\n",
            "Gobierno Nacional                                                19\n",
            "Dir de Formación Docente                                         16\n",
            "Ministerio de Cultura                                            11\n",
            "Dirección de Escuelas Normales                                    6\n",
            "GO y Adminustración de Institutos de Formación Docente            6\n",
            "Dirección General Escuela de Maestros                             3\n",
            "Ministerio de Salud                                               2\n",
            "Ministerio de Justicia y Seguridad                                1\n",
            "Name: depfun, dtype: int64\n",
            "\n",
            " Columna: CALLE_NOMBRE \n",
            " Avda. Rivadavia             33\n",
            "Villa                       30\n",
            "Cnel. Ramón L. Falcón       21\n",
            "Avda. San Juan              21\n",
            "Juncal                      19\n",
            "                            ..\n",
            "Ulrico Schmidl               1\n",
            "Boulogne Sur Mer             1\n",
            "Panamá                       1\n",
            "Martínez Castro y Pje. F     1\n",
            "Gral. Enrique Martínez       1\n",
            "Name: calle_nombre, Length: 766, dtype: int64\n",
            "\n",
            " Columna: BARRIO \n",
            " PALERMO              170\n",
            "BALVANERA            161\n",
            "CABALLITO            145\n",
            "ALMAGRO              141\n",
            "FLORES               138\n",
            "VILLA LUGANO         129\n",
            "RECOLETA             114\n",
            "BARRACAS             105\n",
            "BELGRANO             104\n",
            "VILLA URQUIZA         82\n",
            "VILLA SOLDATI         73\n",
            "VILLA DEVOTO          72\n",
            "SAN NICOLAS           68\n",
            "MATADEROS             67\n",
            "VILLA CRESPO          65\n",
            "PARQUE PATRICIOS      62\n",
            "RETIRO                61\n",
            "MONTSERRAT            58\n",
            "SAN CRISTOBAL         57\n",
            "LINIERS               54\n",
            "NUEVA POMPEYA         54\n",
            "BOCA                  53\n",
            "NUÑEZ                 52\n",
            "FLORESTA              52\n",
            "SAAVEDRA              50\n",
            "COLEGIALES            47\n",
            "PARQUE CHACABUCO      46\n",
            "VILLA DEL PARQUE      45\n",
            "CONSTITUCION          45\n",
            "PARQUE AVELLANEDA     44\n",
            "MONTE CASTRO          36\n",
            "SAN TELMO             36\n",
            "CHACARITA             35\n",
            "VILLA GRAL. MITRE     35\n",
            "BOEDO                 33\n",
            "VILLA PUEYRREDON      32\n",
            "VELEZ SARSFIELD       31\n",
            "VILLA LURO            27\n",
            "PATERNAL              26\n",
            "VILLA SANTA RITA      24\n",
            "AGRONOMIA             20\n",
            "VILLA RIACHUELO       18\n",
            "VILLA ORTUZAR         14\n",
            "VILLA REAL            13\n",
            "VERSALLES             11\n",
            "COGHLAN               10\n",
            "PARQUE CHAS            9\n",
            "PUERTO MADERO          4\n",
            "Name: barrio, dtype: int64\n",
            "\n",
            " Columna: CODIGO_POSTAL_ARGENTINO \n",
            " C1170AAB    9\n",
            "C1261ACJ    9\n",
            "C1437CHE    8\n",
            "C1080ABB    7\n",
            "C1155AAA    6\n",
            "           ..\n",
            "C1417EWI    1\n",
            "C1407JAS    1\n",
            "C1151AAN    1\n",
            "C1429AVP    1\n",
            "C1107ADQ    1\n",
            "Name: codigo_postal_argentino, Length: 1727, dtype: int64\n",
            "\n",
            " Columna: AREAPROGRA \n",
            " 07 - HOSP PIROVANO           349\n",
            "08 - HOSP RAMOS MEJIA        338\n",
            "04 - HOSP FERNANDEZ          326\n",
            "06 - HOSP PIÑERO             314\n",
            "03 - HOSP DURAND             299\n",
            "09 - HOSP SANTOJANNI         246\n",
            "02 - HOSP ARGERICH           225\n",
            "05 - HOSP PENNA              196\n",
            "01 - HOSP ALVAREZ            195\n",
            "11 - HOSP VELEZ SARSFIELD    126\n",
            "10 - HOSP TORNU              109\n",
            "12 - HOSP ZUBIZARRETA        105\n",
            "Name: areaprogra, dtype: int64\n",
            "\n",
            " Columna: TIPEST \n",
            " Instituto Educativo Incorporado a la Enseñanza Oficial                           752\n",
            "Escuela de Jornada Completa                                                      273\n",
            "Jardín de Infantes Nucleado                                                      231\n",
            "Instituto Educativo Asistencial No Incorporado a la Enseñanza Oficial            215\n",
            "Escuela de Jornada Simple                                                        174\n",
            "Centro Educativo de Nivel Secundario                                              94\n",
            "Escuela Primaria para Adultos                                                     81\n",
            "Centro de Formación Profesional                                                   76\n",
            "Programa de Alfabetización, Educación Básica y Trabajo para Jóvenes y Adultos     72\n",
            "Jardín de Infantes Integral                                                       68\n",
            "Centro Educativo de Nivel Primario                                                58\n",
            "Escuela Superior de Educación Artística                                           51\n",
            "Jardín de Infantes Común                                                          50\n",
            "Escuela Infantil                                                                  45\n",
            "Centro de Educación No Formal                                                     45\n",
            "Centro de Actividades Infantiles y Juveniles                                      40\n",
            "Escuela Técnica                                                                   39\n",
            "Primera Infancia                                                                  37\n",
            "Escuela de Comercio                                                               35\n",
            "Instituto de Educación Superior (Formación Técnica)                               33\n",
            "Instituto Educativo Asistencial no Incorporado a la Enseñanza Oficial             33\n",
            "Escuela de Educación Media                                                        28\n",
            "Escuela de Educación Especial                                                     26\n",
            "Centro Educativo Complementario de Idioma Extranjero                              25\n",
            "Unidad de Gestión Educativa Experimental                                          22\n",
            "No Corresponde - Gob Nac                                                          19\n",
            "Colegio                                                                           19\n",
            "Jardín Maternal                                                                   19\n",
            "Escuela de Integración Interdisciplinaria                                         17\n",
            "Escuela Normal Superior                                                           16\n",
            "Escuela de Música - Primaria                                                      15\n",
            "Centro de Formación Profesional (Privado)                                         14\n",
            "Cursos Especiales en Centros Educativos                                           12\n",
            "Liceo                                                                             12\n",
            "No Corresponde - Cultura                                                          11\n",
            "Programa en Contextos de Encierro                                                  9\n",
            "Bachillerato Popular de Jóvenes y Adultos                                          8\n",
            "Escuela de Reingreso                                                               8\n",
            "Centro Educativo Complementario de Educación Plástica                              7\n",
            "Instituto de Formación Docente Multinivel                                          6\n",
            "Instituto de Educación Superior de Formación Docente                               6\n",
            "Ciclo Básico de Formación Ocupacional                                              4\n",
            "Centro Educ. Complementario de Natación                                            3\n",
            "Escuela Hospitalaria                                                               3\n",
            "Escuela de Maestros                                                                3\n",
            "Centro Educativo para Niños en Tiempos y Espacios Singulares                       2\n",
            "No Corresponde (Salud)                                                             2\n",
            "Bachillerato con Orientacion Artistica                                             2\n",
            "Escuela Domiciliaria                                                               2\n",
            "Escuela de Teatro                                                                  1\n",
            "Centro Educativo para Niños en tiempos y espacios singulares                       1\n",
            "No Corresponde (Justicia y Seguridad)                                              1\n",
            "Bachillerato a Distancia Adultos 2000                                              1\n",
            "Escuela de la Joya                                                                 1\n",
            "Instituto Conveniado no Incorporado a la Enseñanza Oficial                         1\n",
            "Name: tipest, dtype: int64\n"
          ],
          "name": "stdout"
        }
      ]
    },
    {
      "cell_type": "markdown",
      "metadata": {
        "id": "N4p4752uz-UY"
      },
      "source": [
        "### **Filtrando y modificando tablas.**"
      ]
    },
    {
      "cell_type": "markdown",
      "metadata": {
        "id": "j4epUWpr0PWr"
      },
      "source": [
        "A fin de poder trabajar con información un poco más específica, vamos a filtrar y generar nuevas tablas basadas en nuestra tabla original."
      ]
    },
    {
      "cell_type": "code",
      "metadata": {
        "id": "smuklvy_JGU1",
        "outputId": "6563801c-2d5e-48ed-b567-70e71fabe909",
        "colab": {
          "base_uri": "https://localhost:8080/"
        }
      },
      "source": [
        "#Filtramos para ver qué tipo de administración tenemos.\n",
        "data[\"administración\"].unique()"
      ],
      "execution_count": null,
      "outputs": [
        {
          "output_type": "execute_result",
          "data": {
            "text/plain": [
              "array(['Ciudad de Buenos Aires', 'Argentina'], dtype=object)"
            ]
          },
          "metadata": {
            "tags": []
          },
          "execution_count": 411
        }
      ]
    },
    {
      "cell_type": "markdown",
      "metadata": {
        "id": "TGjNjkIY0i0g"
      },
      "source": [
        "Como queremos trabajar solamente con datos de la Ciudad, sólo vamos a filtrar por columna de la Ciudad."
      ]
    },
    {
      "cell_type": "code",
      "metadata": {
        "id": "vojp7hn5CZAq",
        "outputId": "d4512745-2dd8-45e8-9ff4-d213048eb52f",
        "colab": {
          "base_uri": "https://localhost:8080/",
          "height": 424
        }
      },
      "source": [
        "#Generamos una nueva variable, en la cual filtramos los datos condicionales de la Columna con el valorde la Ciudad.\n",
        "data_caba = data[data[\"administración\"]==\"Ciudad de Buenos Aires\"]\n",
        "\n",
        "#Imprimimos para ver nuestra data.\n",
        "data_caba"
      ],
      "execution_count": null,
      "outputs": [
        {
          "output_type": "execute_result",
          "data": {
            "text/html": [
              "<div>\n",
              "<style scoped>\n",
              "    .dataframe tbody tr th:only-of-type {\n",
              "        vertical-align: middle;\n",
              "    }\n",
              "\n",
              "    .dataframe tbody tr th {\n",
              "        vertical-align: top;\n",
              "    }\n",
              "\n",
              "    .dataframe thead th {\n",
              "        text-align: right;\n",
              "    }\n",
              "</style>\n",
              "<table border=\"1\" class=\"dataframe\">\n",
              "  <thead>\n",
              "    <tr style=\"text-align: right;\">\n",
              "      <th></th>\n",
              "      <th>año</th>\n",
              "      <th>mes</th>\n",
              "      <th>administración</th>\n",
              "      <th>cantidad_vehículos</th>\n",
              "    </tr>\n",
              "  </thead>\n",
              "  <tbody>\n",
              "    <tr>\n",
              "      <th>0</th>\n",
              "      <td>2010</td>\n",
              "      <td>Enero</td>\n",
              "      <td>Ciudad de Buenos Aires</td>\n",
              "      <td>1094202.0</td>\n",
              "    </tr>\n",
              "    <tr>\n",
              "      <th>1</th>\n",
              "      <td>2010</td>\n",
              "      <td>Febrero</td>\n",
              "      <td>Ciudad de Buenos Aires</td>\n",
              "      <td>1106044.0</td>\n",
              "    </tr>\n",
              "    <tr>\n",
              "      <th>2</th>\n",
              "      <td>2010</td>\n",
              "      <td>Marzo</td>\n",
              "      <td>Ciudad de Buenos Aires</td>\n",
              "      <td>1113739.0</td>\n",
              "    </tr>\n",
              "    <tr>\n",
              "      <th>3</th>\n",
              "      <td>2010</td>\n",
              "      <td>Abril</td>\n",
              "      <td>Ciudad de Buenos Aires</td>\n",
              "      <td>1123774.0</td>\n",
              "    </tr>\n",
              "    <tr>\n",
              "      <th>4</th>\n",
              "      <td>2010</td>\n",
              "      <td>Mayo</td>\n",
              "      <td>Ciudad de Buenos Aires</td>\n",
              "      <td>1132885.0</td>\n",
              "    </tr>\n",
              "    <tr>\n",
              "      <th>...</th>\n",
              "      <td>...</td>\n",
              "      <td>...</td>\n",
              "      <td>...</td>\n",
              "      <td>...</td>\n",
              "    </tr>\n",
              "    <tr>\n",
              "      <th>247</th>\n",
              "      <td>2020</td>\n",
              "      <td>Agosto</td>\n",
              "      <td>Ciudad de Buenos Aires</td>\n",
              "      <td>NaN</td>\n",
              "    </tr>\n",
              "    <tr>\n",
              "      <th>248</th>\n",
              "      <td>2020</td>\n",
              "      <td>Septiembre</td>\n",
              "      <td>Ciudad de Buenos Aires</td>\n",
              "      <td>NaN</td>\n",
              "    </tr>\n",
              "    <tr>\n",
              "      <th>249</th>\n",
              "      <td>2020</td>\n",
              "      <td>Octubre</td>\n",
              "      <td>Ciudad de Buenos Aires</td>\n",
              "      <td>NaN</td>\n",
              "    </tr>\n",
              "    <tr>\n",
              "      <th>250</th>\n",
              "      <td>2020</td>\n",
              "      <td>Noviembre</td>\n",
              "      <td>Ciudad de Buenos Aires</td>\n",
              "      <td>NaN</td>\n",
              "    </tr>\n",
              "    <tr>\n",
              "      <th>251</th>\n",
              "      <td>2020</td>\n",
              "      <td>Diciembre</td>\n",
              "      <td>Ciudad de Buenos Aires</td>\n",
              "      <td>NaN</td>\n",
              "    </tr>\n",
              "  </tbody>\n",
              "</table>\n",
              "<p>132 rows × 4 columns</p>\n",
              "</div>"
            ],
            "text/plain": [
              "      año         mes          administración  cantidad_vehículos\n",
              "0    2010       Enero  Ciudad de Buenos Aires           1094202.0\n",
              "1    2010     Febrero  Ciudad de Buenos Aires           1106044.0\n",
              "2    2010       Marzo  Ciudad de Buenos Aires           1113739.0\n",
              "3    2010       Abril  Ciudad de Buenos Aires           1123774.0\n",
              "4    2010        Mayo  Ciudad de Buenos Aires           1132885.0\n",
              "..    ...         ...                     ...                 ...\n",
              "247  2020      Agosto  Ciudad de Buenos Aires                 NaN\n",
              "248  2020  Septiembre  Ciudad de Buenos Aires                 NaN\n",
              "249  2020     Octubre  Ciudad de Buenos Aires                 NaN\n",
              "250  2020   Noviembre  Ciudad de Buenos Aires                 NaN\n",
              "251  2020   Diciembre  Ciudad de Buenos Aires                 NaN\n",
              "\n",
              "[132 rows x 4 columns]"
            ]
          },
          "metadata": {
            "tags": []
          },
          "execution_count": 412
        }
      ]
    },
    {
      "cell_type": "code",
      "metadata": {
        "id": "F1xJev4F0_8h",
        "outputId": "28261b87-f9b7-49f3-e571-866810766d5f",
        "colab": {
          "base_uri": "https://localhost:8080/"
        }
      },
      "source": [
        "#Utilizamos nuestra función para ver \n",
        "\n",
        "categorias(data_caba)"
      ],
      "execution_count": null,
      "outputs": [
        {
          "output_type": "stream",
          "text": [
            "Muestra de categorías de la columna MES ['Enero', 'Febrero', 'Marzo', 'Abril', 'Mayo'] \n",
            "\n",
            "Muestra de categorías de la columna ADMINISTRACIÓN ['Ciudad de Buenos Aires'] \n",
            "\n",
            "De cada columna, muestra hasta 5 categorías de la variable\n"
          ],
          "name": "stdout"
        }
      ]
    },
    {
      "cell_type": "code",
      "metadata": {
        "id": "ilEsSFyOJBjO",
        "outputId": "74a15499-bb60-449e-ede8-7276d4c028e3",
        "colab": {
          "base_uri": "https://localhost:8080/",
          "height": 206
        }
      },
      "source": [
        "# Miremos la tabla filtrada que nos quedó nuevamente. \n",
        "# Si observamos, se sigue manteniendo el índice inicial. Podemos resetearlo para que quede prolijo.\n",
        "\n",
        "data_caba[10:15]"
      ],
      "execution_count": null,
      "outputs": [
        {
          "output_type": "execute_result",
          "data": {
            "text/html": [
              "<div>\n",
              "<style scoped>\n",
              "    .dataframe tbody tr th:only-of-type {\n",
              "        vertical-align: middle;\n",
              "    }\n",
              "\n",
              "    .dataframe tbody tr th {\n",
              "        vertical-align: top;\n",
              "    }\n",
              "\n",
              "    .dataframe thead th {\n",
              "        text-align: right;\n",
              "    }\n",
              "</style>\n",
              "<table border=\"1\" class=\"dataframe\">\n",
              "  <thead>\n",
              "    <tr style=\"text-align: right;\">\n",
              "      <th></th>\n",
              "      <th>año</th>\n",
              "      <th>mes</th>\n",
              "      <th>administración</th>\n",
              "      <th>cantidad_vehículos</th>\n",
              "    </tr>\n",
              "  </thead>\n",
              "  <tbody>\n",
              "    <tr>\n",
              "      <th>10</th>\n",
              "      <td>2010</td>\n",
              "      <td>Noviembre</td>\n",
              "      <td>Ciudad de Buenos Aires</td>\n",
              "      <td>1192963.0</td>\n",
              "    </tr>\n",
              "    <tr>\n",
              "      <th>11</th>\n",
              "      <td>2010</td>\n",
              "      <td>Diciembre</td>\n",
              "      <td>Ciudad de Buenos Aires</td>\n",
              "      <td>1203331.0</td>\n",
              "    </tr>\n",
              "    <tr>\n",
              "      <th>24</th>\n",
              "      <td>2011</td>\n",
              "      <td>Enero</td>\n",
              "      <td>Ciudad de Buenos Aires</td>\n",
              "      <td>1212025.0</td>\n",
              "    </tr>\n",
              "    <tr>\n",
              "      <th>25</th>\n",
              "      <td>2011</td>\n",
              "      <td>Febrero</td>\n",
              "      <td>Ciudad de Buenos Aires</td>\n",
              "      <td>1227727.0</td>\n",
              "    </tr>\n",
              "    <tr>\n",
              "      <th>26</th>\n",
              "      <td>2011</td>\n",
              "      <td>Marzo</td>\n",
              "      <td>Ciudad de Buenos Aires</td>\n",
              "      <td>1237515.0</td>\n",
              "    </tr>\n",
              "  </tbody>\n",
              "</table>\n",
              "</div>"
            ],
            "text/plain": [
              "     año        mes          administración  cantidad_vehículos\n",
              "10  2010  Noviembre  Ciudad de Buenos Aires           1192963.0\n",
              "11  2010  Diciembre  Ciudad de Buenos Aires           1203331.0\n",
              "24  2011      Enero  Ciudad de Buenos Aires           1212025.0\n",
              "25  2011    Febrero  Ciudad de Buenos Aires           1227727.0\n",
              "26  2011      Marzo  Ciudad de Buenos Aires           1237515.0"
            ]
          },
          "metadata": {
            "tags": []
          },
          "execution_count": 414
        }
      ]
    },
    {
      "cell_type": "code",
      "metadata": {
        "id": "c98VmV5d_3yT",
        "outputId": "dd30c9d2-1895-4473-d04e-840640d5a3d7",
        "colab": {
          "base_uri": "https://localhost:8080/",
          "height": 511
        }
      },
      "source": [
        "# Utilizamos el método \".reset_index()\" con  el argumento \"True\" en el parámetro \"Inplace=\" para que lo haga en la tabla original.\n",
        "data_caba.reset_index(inplace=True)\n",
        "\n",
        "#Borramos una columna de index que nos quedará suelta por ahí\n",
        "data_caba.drop(columns=\"index\",inplace=True)\n",
        "\n",
        "data_caba"
      ],
      "execution_count": null,
      "outputs": [
        {
          "output_type": "stream",
          "text": [
            "/usr/local/lib/python3.6/dist-packages/pandas/core/frame.py:4169: SettingWithCopyWarning: \n",
            "A value is trying to be set on a copy of a slice from a DataFrame\n",
            "\n",
            "See the caveats in the documentation: https://pandas.pydata.org/pandas-docs/stable/user_guide/indexing.html#returning-a-view-versus-a-copy\n",
            "  errors=errors,\n"
          ],
          "name": "stderr"
        },
        {
          "output_type": "execute_result",
          "data": {
            "text/html": [
              "<div>\n",
              "<style scoped>\n",
              "    .dataframe tbody tr th:only-of-type {\n",
              "        vertical-align: middle;\n",
              "    }\n",
              "\n",
              "    .dataframe tbody tr th {\n",
              "        vertical-align: top;\n",
              "    }\n",
              "\n",
              "    .dataframe thead th {\n",
              "        text-align: right;\n",
              "    }\n",
              "</style>\n",
              "<table border=\"1\" class=\"dataframe\">\n",
              "  <thead>\n",
              "    <tr style=\"text-align: right;\">\n",
              "      <th></th>\n",
              "      <th>año</th>\n",
              "      <th>mes</th>\n",
              "      <th>administración</th>\n",
              "      <th>cantidad_vehículos</th>\n",
              "    </tr>\n",
              "  </thead>\n",
              "  <tbody>\n",
              "    <tr>\n",
              "      <th>0</th>\n",
              "      <td>2010</td>\n",
              "      <td>Enero</td>\n",
              "      <td>Ciudad de Buenos Aires</td>\n",
              "      <td>1094202.0</td>\n",
              "    </tr>\n",
              "    <tr>\n",
              "      <th>1</th>\n",
              "      <td>2010</td>\n",
              "      <td>Febrero</td>\n",
              "      <td>Ciudad de Buenos Aires</td>\n",
              "      <td>1106044.0</td>\n",
              "    </tr>\n",
              "    <tr>\n",
              "      <th>2</th>\n",
              "      <td>2010</td>\n",
              "      <td>Marzo</td>\n",
              "      <td>Ciudad de Buenos Aires</td>\n",
              "      <td>1113739.0</td>\n",
              "    </tr>\n",
              "    <tr>\n",
              "      <th>3</th>\n",
              "      <td>2010</td>\n",
              "      <td>Abril</td>\n",
              "      <td>Ciudad de Buenos Aires</td>\n",
              "      <td>1123774.0</td>\n",
              "    </tr>\n",
              "    <tr>\n",
              "      <th>4</th>\n",
              "      <td>2010</td>\n",
              "      <td>Mayo</td>\n",
              "      <td>Ciudad de Buenos Aires</td>\n",
              "      <td>1132885.0</td>\n",
              "    </tr>\n",
              "    <tr>\n",
              "      <th>...</th>\n",
              "      <td>...</td>\n",
              "      <td>...</td>\n",
              "      <td>...</td>\n",
              "      <td>...</td>\n",
              "    </tr>\n",
              "    <tr>\n",
              "      <th>127</th>\n",
              "      <td>2020</td>\n",
              "      <td>Agosto</td>\n",
              "      <td>Ciudad de Buenos Aires</td>\n",
              "      <td>NaN</td>\n",
              "    </tr>\n",
              "    <tr>\n",
              "      <th>128</th>\n",
              "      <td>2020</td>\n",
              "      <td>Septiembre</td>\n",
              "      <td>Ciudad de Buenos Aires</td>\n",
              "      <td>NaN</td>\n",
              "    </tr>\n",
              "    <tr>\n",
              "      <th>129</th>\n",
              "      <td>2020</td>\n",
              "      <td>Octubre</td>\n",
              "      <td>Ciudad de Buenos Aires</td>\n",
              "      <td>NaN</td>\n",
              "    </tr>\n",
              "    <tr>\n",
              "      <th>130</th>\n",
              "      <td>2020</td>\n",
              "      <td>Noviembre</td>\n",
              "      <td>Ciudad de Buenos Aires</td>\n",
              "      <td>NaN</td>\n",
              "    </tr>\n",
              "    <tr>\n",
              "      <th>131</th>\n",
              "      <td>2020</td>\n",
              "      <td>Diciembre</td>\n",
              "      <td>Ciudad de Buenos Aires</td>\n",
              "      <td>NaN</td>\n",
              "    </tr>\n",
              "  </tbody>\n",
              "</table>\n",
              "<p>132 rows × 4 columns</p>\n",
              "</div>"
            ],
            "text/plain": [
              "      año         mes          administración  cantidad_vehículos\n",
              "0    2010       Enero  Ciudad de Buenos Aires           1094202.0\n",
              "1    2010     Febrero  Ciudad de Buenos Aires           1106044.0\n",
              "2    2010       Marzo  Ciudad de Buenos Aires           1113739.0\n",
              "3    2010       Abril  Ciudad de Buenos Aires           1123774.0\n",
              "4    2010        Mayo  Ciudad de Buenos Aires           1132885.0\n",
              "..    ...         ...                     ...                 ...\n",
              "127  2020      Agosto  Ciudad de Buenos Aires                 NaN\n",
              "128  2020  Septiembre  Ciudad de Buenos Aires                 NaN\n",
              "129  2020     Octubre  Ciudad de Buenos Aires                 NaN\n",
              "130  2020   Noviembre  Ciudad de Buenos Aires                 NaN\n",
              "131  2020   Diciembre  Ciudad de Buenos Aires                 NaN\n",
              "\n",
              "[132 rows x 4 columns]"
            ]
          },
          "metadata": {
            "tags": []
          },
          "execution_count": 415
        }
      ]
    },
    {
      "cell_type": "code",
      "metadata": {
        "id": "oRlUoDrGB6Ji",
        "outputId": "764381a6-8824-450e-f4d0-facc239cd883",
        "colab": {
          "base_uri": "https://localhost:8080/"
        }
      },
      "source": [
        "# Como en este caso tuvimos valores nulos, decidimos sacarlos de la escena porque no nos aportaban información.\n",
        "data_caba.dropna(inplace=True)"
      ],
      "execution_count": null,
      "outputs": [
        {
          "output_type": "stream",
          "text": [
            "/usr/local/lib/python3.6/dist-packages/ipykernel_launcher.py:2: SettingWithCopyWarning: \n",
            "A value is trying to be set on a copy of a slice from a DataFrame\n",
            "\n",
            "See the caveats in the documentation: https://pandas.pydata.org/pandas-docs/stable/user_guide/indexing.html#returning-a-view-versus-a-copy\n",
            "  \n"
          ],
          "name": "stderr"
        }
      ]
    },
    {
      "cell_type": "code",
      "metadata": {
        "id": "6QQT5N9DLELk",
        "outputId": "60400b2f-0140-47c6-bb6f-08667c6a4f34",
        "colab": {
          "base_uri": "https://localhost:8080/",
          "height": 424
        }
      },
      "source": [
        "data_caba"
      ],
      "execution_count": null,
      "outputs": [
        {
          "output_type": "execute_result",
          "data": {
            "text/html": [
              "<div>\n",
              "<style scoped>\n",
              "    .dataframe tbody tr th:only-of-type {\n",
              "        vertical-align: middle;\n",
              "    }\n",
              "\n",
              "    .dataframe tbody tr th {\n",
              "        vertical-align: top;\n",
              "    }\n",
              "\n",
              "    .dataframe thead th {\n",
              "        text-align: right;\n",
              "    }\n",
              "</style>\n",
              "<table border=\"1\" class=\"dataframe\">\n",
              "  <thead>\n",
              "    <tr style=\"text-align: right;\">\n",
              "      <th></th>\n",
              "      <th>año</th>\n",
              "      <th>mes</th>\n",
              "      <th>administración</th>\n",
              "      <th>cantidad_vehículos</th>\n",
              "    </tr>\n",
              "  </thead>\n",
              "  <tbody>\n",
              "    <tr>\n",
              "      <th>0</th>\n",
              "      <td>2010</td>\n",
              "      <td>Enero</td>\n",
              "      <td>Ciudad de Buenos Aires</td>\n",
              "      <td>1094202.0</td>\n",
              "    </tr>\n",
              "    <tr>\n",
              "      <th>1</th>\n",
              "      <td>2010</td>\n",
              "      <td>Febrero</td>\n",
              "      <td>Ciudad de Buenos Aires</td>\n",
              "      <td>1106044.0</td>\n",
              "    </tr>\n",
              "    <tr>\n",
              "      <th>2</th>\n",
              "      <td>2010</td>\n",
              "      <td>Marzo</td>\n",
              "      <td>Ciudad de Buenos Aires</td>\n",
              "      <td>1113739.0</td>\n",
              "    </tr>\n",
              "    <tr>\n",
              "      <th>3</th>\n",
              "      <td>2010</td>\n",
              "      <td>Abril</td>\n",
              "      <td>Ciudad de Buenos Aires</td>\n",
              "      <td>1123774.0</td>\n",
              "    </tr>\n",
              "    <tr>\n",
              "      <th>4</th>\n",
              "      <td>2010</td>\n",
              "      <td>Mayo</td>\n",
              "      <td>Ciudad de Buenos Aires</td>\n",
              "      <td>1132885.0</td>\n",
              "    </tr>\n",
              "    <tr>\n",
              "      <th>...</th>\n",
              "      <td>...</td>\n",
              "      <td>...</td>\n",
              "      <td>...</td>\n",
              "      <td>...</td>\n",
              "    </tr>\n",
              "    <tr>\n",
              "      <th>121</th>\n",
              "      <td>2020</td>\n",
              "      <td>Febrero</td>\n",
              "      <td>Ciudad de Buenos Aires</td>\n",
              "      <td>1544593.0</td>\n",
              "    </tr>\n",
              "    <tr>\n",
              "      <th>122</th>\n",
              "      <td>2020</td>\n",
              "      <td>Marzo</td>\n",
              "      <td>Ciudad de Buenos Aires</td>\n",
              "      <td>1545574.0</td>\n",
              "    </tr>\n",
              "    <tr>\n",
              "      <th>123</th>\n",
              "      <td>2020</td>\n",
              "      <td>Abril</td>\n",
              "      <td>Ciudad de Buenos Aires</td>\n",
              "      <td>1544191.0</td>\n",
              "    </tr>\n",
              "    <tr>\n",
              "      <th>124</th>\n",
              "      <td>2020</td>\n",
              "      <td>Mayo</td>\n",
              "      <td>Ciudad de Buenos Aires</td>\n",
              "      <td>1544747.0</td>\n",
              "    </tr>\n",
              "    <tr>\n",
              "      <th>125</th>\n",
              "      <td>2020</td>\n",
              "      <td>Junio</td>\n",
              "      <td>Ciudad de Buenos Aires</td>\n",
              "      <td>1548383.0</td>\n",
              "    </tr>\n",
              "  </tbody>\n",
              "</table>\n",
              "<p>126 rows × 4 columns</p>\n",
              "</div>"
            ],
            "text/plain": [
              "      año      mes          administración  cantidad_vehículos\n",
              "0    2010    Enero  Ciudad de Buenos Aires           1094202.0\n",
              "1    2010  Febrero  Ciudad de Buenos Aires           1106044.0\n",
              "2    2010    Marzo  Ciudad de Buenos Aires           1113739.0\n",
              "3    2010    Abril  Ciudad de Buenos Aires           1123774.0\n",
              "4    2010     Mayo  Ciudad de Buenos Aires           1132885.0\n",
              "..    ...      ...                     ...                 ...\n",
              "121  2020  Febrero  Ciudad de Buenos Aires           1544593.0\n",
              "122  2020    Marzo  Ciudad de Buenos Aires           1545574.0\n",
              "123  2020    Abril  Ciudad de Buenos Aires           1544191.0\n",
              "124  2020     Mayo  Ciudad de Buenos Aires           1544747.0\n",
              "125  2020    Junio  Ciudad de Buenos Aires           1548383.0\n",
              "\n",
              "[126 rows x 4 columns]"
            ]
          },
          "metadata": {
            "tags": []
          },
          "execution_count": 418
        }
      ]
    },
    {
      "cell_type": "code",
      "metadata": {
        "id": "gjaEs-ckDEIa",
        "outputId": "ea40dbd8-69f6-458f-bbd3-4f61b80beea9",
        "colab": {
          "base_uri": "https://localhost:8080/",
          "height": 511
        }
      },
      "source": [
        "# Ahora queremos modificar un valor, dado que nos queda muy largo \"Ciudad Autónoma de Buenos Aires\"\n",
        "# Utilizamos la función \"replace\" para modificar un valor específico. Nuevamente usamos el parámetro \"inplace\" para pedirle que lo haga sobre la tabla original.\n",
        " \n",
        "data_caba.replace(to_replace=\"Ciudad de Buenos Aires\",\n",
        "                  value=\"CABA\",\n",
        "                  inplace=True)\n",
        "\n",
        "data_caba"
      ],
      "execution_count": null,
      "outputs": [
        {
          "output_type": "stream",
          "text": [
            "/usr/local/lib/python3.6/dist-packages/pandas/core/frame.py:4384: SettingWithCopyWarning: \n",
            "A value is trying to be set on a copy of a slice from a DataFrame\n",
            "\n",
            "See the caveats in the documentation: https://pandas.pydata.org/pandas-docs/stable/user_guide/indexing.html#returning-a-view-versus-a-copy\n",
            "  method=method,\n"
          ],
          "name": "stderr"
        },
        {
          "output_type": "execute_result",
          "data": {
            "text/html": [
              "<div>\n",
              "<style scoped>\n",
              "    .dataframe tbody tr th:only-of-type {\n",
              "        vertical-align: middle;\n",
              "    }\n",
              "\n",
              "    .dataframe tbody tr th {\n",
              "        vertical-align: top;\n",
              "    }\n",
              "\n",
              "    .dataframe thead th {\n",
              "        text-align: right;\n",
              "    }\n",
              "</style>\n",
              "<table border=\"1\" class=\"dataframe\">\n",
              "  <thead>\n",
              "    <tr style=\"text-align: right;\">\n",
              "      <th></th>\n",
              "      <th>año</th>\n",
              "      <th>mes</th>\n",
              "      <th>administración</th>\n",
              "      <th>cantidad_vehículos</th>\n",
              "    </tr>\n",
              "  </thead>\n",
              "  <tbody>\n",
              "    <tr>\n",
              "      <th>0</th>\n",
              "      <td>2010</td>\n",
              "      <td>Enero</td>\n",
              "      <td>CABA</td>\n",
              "      <td>1094202.0</td>\n",
              "    </tr>\n",
              "    <tr>\n",
              "      <th>1</th>\n",
              "      <td>2010</td>\n",
              "      <td>Febrero</td>\n",
              "      <td>CABA</td>\n",
              "      <td>1106044.0</td>\n",
              "    </tr>\n",
              "    <tr>\n",
              "      <th>2</th>\n",
              "      <td>2010</td>\n",
              "      <td>Marzo</td>\n",
              "      <td>CABA</td>\n",
              "      <td>1113739.0</td>\n",
              "    </tr>\n",
              "    <tr>\n",
              "      <th>3</th>\n",
              "      <td>2010</td>\n",
              "      <td>Abril</td>\n",
              "      <td>CABA</td>\n",
              "      <td>1123774.0</td>\n",
              "    </tr>\n",
              "    <tr>\n",
              "      <th>4</th>\n",
              "      <td>2010</td>\n",
              "      <td>Mayo</td>\n",
              "      <td>CABA</td>\n",
              "      <td>1132885.0</td>\n",
              "    </tr>\n",
              "    <tr>\n",
              "      <th>...</th>\n",
              "      <td>...</td>\n",
              "      <td>...</td>\n",
              "      <td>...</td>\n",
              "      <td>...</td>\n",
              "    </tr>\n",
              "    <tr>\n",
              "      <th>121</th>\n",
              "      <td>2020</td>\n",
              "      <td>Febrero</td>\n",
              "      <td>CABA</td>\n",
              "      <td>1544593.0</td>\n",
              "    </tr>\n",
              "    <tr>\n",
              "      <th>122</th>\n",
              "      <td>2020</td>\n",
              "      <td>Marzo</td>\n",
              "      <td>CABA</td>\n",
              "      <td>1545574.0</td>\n",
              "    </tr>\n",
              "    <tr>\n",
              "      <th>123</th>\n",
              "      <td>2020</td>\n",
              "      <td>Abril</td>\n",
              "      <td>CABA</td>\n",
              "      <td>1544191.0</td>\n",
              "    </tr>\n",
              "    <tr>\n",
              "      <th>124</th>\n",
              "      <td>2020</td>\n",
              "      <td>Mayo</td>\n",
              "      <td>CABA</td>\n",
              "      <td>1544747.0</td>\n",
              "    </tr>\n",
              "    <tr>\n",
              "      <th>125</th>\n",
              "      <td>2020</td>\n",
              "      <td>Junio</td>\n",
              "      <td>CABA</td>\n",
              "      <td>1548383.0</td>\n",
              "    </tr>\n",
              "  </tbody>\n",
              "</table>\n",
              "<p>126 rows × 4 columns</p>\n",
              "</div>"
            ],
            "text/plain": [
              "      año      mes administración  cantidad_vehículos\n",
              "0    2010    Enero           CABA           1094202.0\n",
              "1    2010  Febrero           CABA           1106044.0\n",
              "2    2010    Marzo           CABA           1113739.0\n",
              "3    2010    Abril           CABA           1123774.0\n",
              "4    2010     Mayo           CABA           1132885.0\n",
              "..    ...      ...            ...                 ...\n",
              "121  2020  Febrero           CABA           1544593.0\n",
              "122  2020    Marzo           CABA           1545574.0\n",
              "123  2020    Abril           CABA           1544191.0\n",
              "124  2020     Mayo           CABA           1544747.0\n",
              "125  2020    Junio           CABA           1548383.0\n",
              "\n",
              "[126 rows x 4 columns]"
            ]
          },
          "metadata": {
            "tags": []
          },
          "execution_count": 419
        }
      ]
    },
    {
      "cell_type": "code",
      "metadata": {
        "id": "iVrLYEOkDyAs",
        "outputId": "559f9c1d-4cba-4883-bf51-1c88c25f330b",
        "colab": {
          "base_uri": "https://localhost:8080/"
        }
      },
      "source": [
        "#Por último, vemos que los números están en formato float, cuando en realidad son números absolutos.\n",
        "data_caba[\"cantidad_vehículos\"].dtypes"
      ],
      "execution_count": null,
      "outputs": [
        {
          "output_type": "execute_result",
          "data": {
            "text/plain": [
              "dtype('float64')"
            ]
          },
          "metadata": {
            "tags": []
          },
          "execution_count": 420
        }
      ]
    },
    {
      "cell_type": "code",
      "metadata": {
        "id": "Bq3AMr65EAhr",
        "outputId": "df01cb70-3225-4bc2-9f24-1f9f1793d6d7",
        "colab": {
          "base_uri": "https://localhost:8080/",
          "height": 310
        }
      },
      "source": [
        "# Cambiamos el tipo de de dato numérico de la columna específica con el método \".astype\" y como argumento el tipo de dato que queremos \n",
        "data_caba[\"cantidad_vehículos\"] = data_caba[\"cantidad_vehículos\"].astype(int)\n",
        "\n",
        "data_caba[0:5]"
      ],
      "execution_count": null,
      "outputs": [
        {
          "output_type": "stream",
          "text": [
            "/usr/local/lib/python3.6/dist-packages/ipykernel_launcher.py:2: SettingWithCopyWarning: \n",
            "A value is trying to be set on a copy of a slice from a DataFrame.\n",
            "Try using .loc[row_indexer,col_indexer] = value instead\n",
            "\n",
            "See the caveats in the documentation: https://pandas.pydata.org/pandas-docs/stable/user_guide/indexing.html#returning-a-view-versus-a-copy\n",
            "  \n"
          ],
          "name": "stderr"
        },
        {
          "output_type": "execute_result",
          "data": {
            "text/html": [
              "<div>\n",
              "<style scoped>\n",
              "    .dataframe tbody tr th:only-of-type {\n",
              "        vertical-align: middle;\n",
              "    }\n",
              "\n",
              "    .dataframe tbody tr th {\n",
              "        vertical-align: top;\n",
              "    }\n",
              "\n",
              "    .dataframe thead th {\n",
              "        text-align: right;\n",
              "    }\n",
              "</style>\n",
              "<table border=\"1\" class=\"dataframe\">\n",
              "  <thead>\n",
              "    <tr style=\"text-align: right;\">\n",
              "      <th></th>\n",
              "      <th>año</th>\n",
              "      <th>mes</th>\n",
              "      <th>administración</th>\n",
              "      <th>cantidad_vehículos</th>\n",
              "    </tr>\n",
              "  </thead>\n",
              "  <tbody>\n",
              "    <tr>\n",
              "      <th>0</th>\n",
              "      <td>2010</td>\n",
              "      <td>Enero</td>\n",
              "      <td>CABA</td>\n",
              "      <td>1094202</td>\n",
              "    </tr>\n",
              "    <tr>\n",
              "      <th>1</th>\n",
              "      <td>2010</td>\n",
              "      <td>Febrero</td>\n",
              "      <td>CABA</td>\n",
              "      <td>1106044</td>\n",
              "    </tr>\n",
              "    <tr>\n",
              "      <th>2</th>\n",
              "      <td>2010</td>\n",
              "      <td>Marzo</td>\n",
              "      <td>CABA</td>\n",
              "      <td>1113739</td>\n",
              "    </tr>\n",
              "    <tr>\n",
              "      <th>3</th>\n",
              "      <td>2010</td>\n",
              "      <td>Abril</td>\n",
              "      <td>CABA</td>\n",
              "      <td>1123774</td>\n",
              "    </tr>\n",
              "    <tr>\n",
              "      <th>4</th>\n",
              "      <td>2010</td>\n",
              "      <td>Mayo</td>\n",
              "      <td>CABA</td>\n",
              "      <td>1132885</td>\n",
              "    </tr>\n",
              "  </tbody>\n",
              "</table>\n",
              "</div>"
            ],
            "text/plain": [
              "    año      mes administración  cantidad_vehículos\n",
              "0  2010    Enero           CABA             1094202\n",
              "1  2010  Febrero           CABA             1106044\n",
              "2  2010    Marzo           CABA             1113739\n",
              "3  2010    Abril           CABA             1123774\n",
              "4  2010     Mayo           CABA             1132885"
            ]
          },
          "metadata": {
            "tags": []
          },
          "execution_count": 421
        }
      ]
    },
    {
      "cell_type": "code",
      "metadata": {
        "id": "fKvR3cwVOo1p",
        "outputId": "98a46ccd-7108-4342-ee40-5d194f46be2c",
        "colab": {
          "base_uri": "https://localhost:8080/"
        }
      },
      "source": [
        "# Ahora generamos un loop para que nos imprima por pantalla determinados valores que queremos visualizar\n",
        "\n",
        "for i in data_caba.index:\n",
        "    print(\"En\",data_caba[\"año\"][i],\"había\",data_caba[\"cantidad_vehículos\"][i])"
      ],
      "execution_count": null,
      "outputs": [
        {
          "output_type": "stream",
          "text": [
            "En 2010 había 1094202\n",
            "En 2010 había 1106044\n",
            "En 2010 había 1113739\n",
            "En 2010 había 1123774\n",
            "En 2010 había 1132885\n",
            "En 2010 había 1142124\n",
            "En 2010 había 1152177\n",
            "En 2010 había 1162110\n",
            "En 2010 había 1172083\n",
            "En 2010 había 1183037\n",
            "En 2010 había 1192963\n",
            "En 2010 había 1203331\n",
            "En 2011 había 1212025\n",
            "En 2011 había 1227727\n",
            "En 2011 había 1237515\n",
            "En 2011 había 1247406\n",
            "En 2011 había 1249089\n",
            "En 2011 había 1253790\n",
            "En 2011 había 1254920\n",
            "En 2011 había 1256247\n",
            "En 2011 había 1268274\n",
            "En 2011 había 1271934\n",
            "En 2011 había 1271912\n",
            "En 2011 había 1275281\n",
            "En 2012 había 1280523\n",
            "En 2012 había 1283110\n",
            "En 2012 había 1290021\n",
            "En 2012 había 1294911\n",
            "En 2012 había 1297425\n",
            "En 2012 había 1302085\n",
            "En 2012 había 1308588\n",
            "En 2012 había 1308994\n",
            "En 2012 había 1306801\n",
            "En 2012 había 1295956\n",
            "En 2012 había 1256416\n",
            "En 2012 había 1323365\n",
            "En 2013 había 1336083\n",
            "En 2013 había 1340352\n",
            "En 2013 había 1354485\n",
            "En 2013 había 1353569\n",
            "En 2013 había 1359665\n",
            "En 2013 había 1366084\n",
            "En 2013 había 1372111\n",
            "En 2013 había 1377668\n",
            "En 2013 había 1383457\n",
            "En 2013 había 1390134\n",
            "En 2013 había 1395329\n",
            "En 2013 había 1398595\n",
            "En 2014 había 1407799\n",
            "En 2014 había 1410778\n",
            "En 2014 había 1411976\n",
            "En 2014 había 1413894\n",
            "En 2014 había 1416946\n",
            "En 2014 había 1416348\n",
            "En 2014 había 1420693\n",
            "En 2014 había 1419210\n",
            "En 2014 había 1424973\n",
            "En 2014 había 1426559\n",
            "En 2014 había 1426505\n",
            "En 2014 había 1424156\n",
            "En 2015 había 1427721\n",
            "En 2015 había 1425983\n",
            "En 2015 había 1430445\n",
            "En 2015 había 1426285\n",
            "En 2015 había 1433127\n",
            "En 2015 había 1435353\n",
            "En 2015 había 1437597\n",
            "En 2015 había 1438778\n",
            "En 2015 había 1441777\n",
            "En 2015 había 1443020\n",
            "En 2015 había 1444001\n",
            "En 2015 había 1439423\n",
            "En 2016 había 1444729\n",
            "En 2016 había 1445976\n",
            "En 2016 había 1395670\n",
            "En 2016 había 1451010\n",
            "En 2016 había 1454620\n",
            "En 2016 había 1457134\n",
            "En 2016 había 1460848\n",
            "En 2016 había 1463602\n",
            "En 2016 había 1467397\n",
            "En 2016 había 1470486\n",
            "En 2016 había 1472647\n",
            "En 2016 había 1468109\n",
            "En 2017 había 1477276\n",
            "En 2017 había 1480036\n",
            "En 2017 había 1479322\n",
            "En 2017 había 1486062\n",
            "En 2017 había 1488954\n",
            "En 2017 había 1492301\n",
            "En 2017 había 1495238\n",
            "En 2017 había 1498617\n",
            "En 2017 había 1501117\n",
            "En 2017 había 1503881\n",
            "En 2017 había 1506572\n",
            "En 2017 había 1506692\n",
            "En 2018 había 1512568\n",
            "En 2018 había 1515272\n",
            "En 2018 había 1519960\n",
            "En 2018 había 1524526\n",
            "En 2018 había 1529132\n",
            "En 2018 había 1530145\n",
            "En 2018 había 1532421\n",
            "En 2018 había 1535016\n",
            "En 2018 había 1536298\n",
            "En 2018 había 1538203\n",
            "En 2018 había 1539573\n",
            "En 2018 había 1539809\n",
            "En 2019 había 1542986\n",
            "En 2019 había 1529004\n",
            "En 2019 había 1534804\n",
            "En 2019 había 1543731\n",
            "En 2019 había 1543117\n",
            "En 2019 había 1543388\n",
            "En 2019 había 1545364\n",
            "En 2019 había 1545277\n",
            "En 2019 había 1545332\n",
            "En 2019 había 1544318\n",
            "En 2019 había 1543793\n",
            "En 2019 había 1544215\n",
            "En 2020 había 1545709\n",
            "En 2020 había 1544593\n",
            "En 2020 había 1545574\n",
            "En 2020 había 1544191\n",
            "En 2020 había 1544747\n",
            "En 2020 había 1548383\n"
          ],
          "name": "stdout"
        }
      ]
    },
    {
      "cell_type": "markdown",
      "metadata": {
        "id": "xwokt-UOP2Oz"
      },
      "source": [
        "Sin embargo, vemos en el loop que nos genera información repetida mes a mes que nos nos interesa evaluar. Buscamos quedaron solamente con información de dos meses (*enero y diciembre*)."
      ]
    },
    {
      "cell_type": "code",
      "metadata": {
        "id": "0Di--MkAHn67"
      },
      "source": [
        "#Creamos dos tablas de acuerdo a referencias mensuales.\n",
        "\n",
        "# Generamos una tabla con valores filtrados de enero.\n",
        "data_caba_enero = data_caba[data_caba[\"mes\"]==\"Enero\"]\n",
        "data_caba_enero\n",
        "\n",
        "# Generamos otra tabla con valor filtrados de diciembre. \n",
        "data_caba_diciembre = data_caba[data_caba[\"mes\"]==\"Diciembre\"]\n",
        "#data_caba_diciembre"
      ],
      "execution_count": null,
      "outputs": []
    },
    {
      "cell_type": "code",
      "metadata": {
        "id": "DVcmoIDWICUt"
      },
      "source": [
        "# Generamos una nueva tabla sólo con estos valores unificadas.\n",
        "data_caba_eyd = pd.concat([data_caba_enero,data_caba_diciembre],\n",
        "                          axis=0).reset_index()\n",
        "\n",
        "# Borramos la columna de index que nos queda colgada.\n",
        "data_caba_eyd.drop(columns=\"index\",inplace=True)"
      ],
      "execution_count": null,
      "outputs": []
    },
    {
      "cell_type": "code",
      "metadata": {
        "id": "gPwQ1zU1Ifbq",
        "outputId": "bff1f9dc-ace9-4cc4-c95f-c1992a2e52d2",
        "colab": {
          "base_uri": "https://localhost:8080/"
        }
      },
      "source": [
        "data_caba_eyd.shape"
      ],
      "execution_count": null,
      "outputs": [
        {
          "output_type": "execute_result",
          "data": {
            "text/plain": [
              "(21, 4)"
            ]
          },
          "metadata": {
            "tags": []
          },
          "execution_count": 429
        }
      ]
    },
    {
      "cell_type": "code",
      "metadata": {
        "id": "8CVK6btuMGjq",
        "outputId": "4add4ef1-77ed-4ac6-cc8b-54eb6a2133bf",
        "colab": {
          "base_uri": "https://localhost:8080/"
        }
      },
      "source": [
        "# Por último usemos un método para mejorar nuestro formato de impresión por pantalla.\n",
        "\n",
        "for i in data_caba_diciembre.index:\n",
        "  print((\"En {} de {} en CABA había un registro de {} autos\").format(data_caba_diciembre[\"mes\"][i],data_caba_diciembre[\"año\"][i],data_caba_diciembre[\"cantidad_vehículos\"][i]))"
      ],
      "execution_count": null,
      "outputs": [
        {
          "output_type": "stream",
          "text": [
            "En Diciembre de 2010 en CABA había un registro de 1203331 autos\n",
            "En Diciembre de 2011 en CABA había un registro de 1275281 autos\n",
            "En Diciembre de 2012 en CABA había un registro de 1323365 autos\n",
            "En Diciembre de 2013 en CABA había un registro de 1398595 autos\n",
            "En Diciembre de 2014 en CABA había un registro de 1424156 autos\n",
            "En Diciembre de 2015 en CABA había un registro de 1439423 autos\n",
            "En Diciembre de 2016 en CABA había un registro de 1468109 autos\n",
            "En Diciembre de 2017 en CABA había un registro de 1506692 autos\n",
            "En Diciembre de 2018 en CABA había un registro de 1539809 autos\n",
            "En Diciembre de 2019 en CABA había un registro de 1544215 autos\n"
          ],
          "name": "stdout"
        }
      ]
    },
    {
      "cell_type": "markdown",
      "metadata": {
        "id": "JL7iftXcRu5T"
      },
      "source": [
        "El camino de código que realizamos fue a fin de poder ir probando distintas *herramientas, métodos y funciones* que podemos ir creando en la medida que vamos trabajando con una base de datos. Nuestro objetivo de hoy fue modificar algunas cosas - por momento con poca usabilidad - para que puedan observar la flexibilidad del lenguaje a la hora de trabajar."
      ]
    },
    {
      "cell_type": "markdown",
      "metadata": {
        "id": "vW3PYRojTdmu"
      },
      "source": [
        "# **Twitter | Tweets de Alberto Fernandez.**\n"
      ]
    },
    {
      "cell_type": "markdown",
      "metadata": {
        "id": "JPh5X4i5gPcg"
      },
      "source": [
        "### **Instalamos e importamos los paquetes a utilizar.**"
      ]
    },
    {
      "cell_type": "code",
      "metadata": {
        "id": "fRGJ_EO9VYDu",
        "outputId": "476dd23d-d6f8-41e6-ee27-522934d73c5c",
        "colab": {
          "base_uri": "https://localhost:8080/"
        }
      },
      "source": [
        "!pip install tweepy"
      ],
      "execution_count": null,
      "outputs": [
        {
          "output_type": "stream",
          "text": [
            "Requirement already satisfied: tweepy in /usr/local/lib/python3.6/dist-packages (3.6.0)\n",
            "Requirement already satisfied: requests-oauthlib>=0.7.0 in /usr/local/lib/python3.6/dist-packages (from tweepy) (1.3.0)\n",
            "Requirement already satisfied: requests>=2.11.1 in /usr/local/lib/python3.6/dist-packages (from tweepy) (2.23.0)\n",
            "Requirement already satisfied: PySocks>=1.5.7 in /usr/local/lib/python3.6/dist-packages (from tweepy) (1.7.1)\n",
            "Requirement already satisfied: six>=1.10.0 in /usr/local/lib/python3.6/dist-packages (from tweepy) (1.15.0)\n",
            "Requirement already satisfied: oauthlib>=3.0.0 in /usr/local/lib/python3.6/dist-packages (from requests-oauthlib>=0.7.0->tweepy) (3.1.0)\n",
            "Requirement already satisfied: chardet<4,>=3.0.2 in /usr/local/lib/python3.6/dist-packages (from requests>=2.11.1->tweepy) (3.0.4)\n",
            "Requirement already satisfied: urllib3!=1.25.0,!=1.25.1,<1.26,>=1.21.1 in /usr/local/lib/python3.6/dist-packages (from requests>=2.11.1->tweepy) (1.24.3)\n",
            "Requirement already satisfied: certifi>=2017.4.17 in /usr/local/lib/python3.6/dist-packages (from requests>=2.11.1->tweepy) (2020.6.20)\n",
            "Requirement already satisfied: idna<3,>=2.5 in /usr/local/lib/python3.6/dist-packages (from requests>=2.11.1->tweepy) (2.10)\n"
          ],
          "name": "stdout"
        }
      ]
    },
    {
      "cell_type": "code",
      "metadata": {
        "id": "IC4hrx2hTib2"
      },
      "source": [
        "import pandas as pd \n",
        "import tweepy "
      ],
      "execution_count": null,
      "outputs": []
    },
    {
      "cell_type": "markdown",
      "metadata": {
        "id": "H5GkM4Mee-rK"
      },
      "source": [
        "### **¿Qué es una API? Seteando nuestras credenciales en Twitter.** \n"
      ]
    },
    {
      "cell_type": "markdown",
      "metadata": {
        "id": "ULtWAGrKhAb6"
      },
      "source": [
        "Es una interfaz de aplicaciones específicas que nos permite *consultar y extraer* programáticamente información del entorno.\n",
        "\n",
        "En ese sentido, el sistema nos pide algunas condiciones de autenticación para poder extraer información, validar nuestra identidad y explicitar las razones por las cuales queremos extraer información.\n",
        "\n",
        "En este caso, seguiremos los siguientes pasos:\n",
        "\n",
        "1. Creamos una cuenta de TwitterDeveloper.\n",
        "2. Una vez habilitada, generamos nuestra primer App de extracción.\n",
        "3. Generamos dos tokens para poder utilizar a la hora de validar nuestro acceso desde la consola.\n",
        "\n",
        "\n",
        "Links para crear las cuentas --> [Twitter Developer ](https://developer.twitter.com/en/dashboard)\n",
        "\n",
        "*Nota n* | En este caso, vamos a explorar desde mi interfaz de usuario. "
      ]
    },
    {
      "cell_type": "code",
      "metadata": {
        "id": "fidQF-STVQmJ"
      },
      "source": [
        "#Seteamos las 4 variables que vamos a necesitar para levantar la API que nos permitirá operar en Twitter.\n",
        "consumerKey = \"K3Z9OOsk7itx5PXCvPmU1Rp8T\"\n",
        "consumerSecret = \"1rYmibUVNHi4XjGtuT9IOxiPXcQUfs4cE5GjzBsos1e6LKpxtY\"\n",
        "accessToken = \"575131836-WQskSYThiSHszy9ydNY3HPVJtRkZEQBWe1wyJpCP\"\n",
        "accesTokenSecret = \"vLEv9FO4OcDkjC4U7DxN85vwYvCJj9JDvE11y1llfaHAD\"\n",
        "\n",
        "# Creamos el objeto de autenticación\n",
        "authenticate = tweepy.OAuthHandler(consumerKey,consumerSecret)\n",
        "\n",
        "# Seteamos el acceso de token de acuerdo a las variables que creamos previamente \n",
        "authenticate.set_access_token(accessToken,accesTokenSecret)\n",
        "\n",
        "# Creamos el objeto API, el cual llamaremos cada vez que escribamos para acceder. \n",
        "api = tweepy.API(authenticate,wait_on_rate_limit=True, wait_on_rate_limit_notify=True)"
      ],
      "execution_count": null,
      "outputs": []
    },
    {
      "cell_type": "markdown",
      "metadata": {
        "id": "BZFqwmwagaiS"
      },
      "source": [
        "### **Consulta de información de la cuenta de Alberto Fernández.**"
      ]
    },
    {
      "cell_type": "markdown",
      "metadata": {
        "id": "qtt7WaJsVk1m"
      },
      "source": [
        "En este caso, queremos hacer nuestra propia de base de datos de tweets de Alberto Fernandez con *Pandas y Tweepy.*\n",
        "\n",
        "Cuenta Oficial de Alberto Fernandez --> [@alferdez](https://twitter.com/alferdez?ref_src=twsrc%5Egoogle%7Ctwcamp%5Eserp%7Ctwgr%5Eauthor)\n",
        "\n",
        "¿Qué información nos puede interesar?\n",
        "\n",
        "  -  Sus tweets.\n",
        "  - Cantidad de seguidores.\n",
        "  - La performance de sus tweets medidas por favoritos y retweets."
      ]
    },
    {
      "cell_type": "code",
      "metadata": {
        "id": "fVYF3XG9VQfz"
      },
      "source": [
        "#Usaremos nuestro primer método de la librería Tweepy, el cual le damos el nombre de usuario, y se lo asignamos a una variable como valor\n",
        "user = api.get_user(\"alferdez\")"
      ],
      "execution_count": null,
      "outputs": []
    },
    {
      "cell_type": "code",
      "metadata": {
        "id": "ebbBtekDVQcx",
        "outputId": "7645fbee-0934-47f5-f6a3-18536d11a7be",
        "colab": {
          "base_uri": "https://localhost:8080/"
        }
      },
      "source": [
        "#Ahora ejecutemos un programa básico y simple con un print y un texto en función de este valor.\n",
        "print(\"La cuenta de Alberto Fernandez es\",user.screen_name)\n",
        "\n",
        "#Acá, usé otro método denominado \".screen_name\" de la librería Tweepy, el cual nos devuelve el nombre de usuario. "
      ],
      "execution_count": null,
      "outputs": [
        {
          "output_type": "stream",
          "text": [
            "La cuenta de Alberto Fernandez es alferdez\n"
          ],
          "name": "stdout"
        }
      ]
    },
    {
      "cell_type": "code",
      "metadata": {
        "id": "1VwCvJw_VQZ0",
        "outputId": "8fde3f6a-adae-4f40-cb13-e48664008714",
        "colab": {
          "base_uri": "https://localhost:8080/"
        }
      },
      "source": [
        "#Ahora, miren como con un simple programa escrito y estos dos métodos concatenados, obtengo información.\n",
        "for friend in user.followers():\n",
        "  print(friend.screen_name)"
      ],
      "execution_count": null,
      "outputs": [
        {
          "output_type": "stream",
          "text": [
            "_RocioLuna12\n",
            "AldoRancel\n",
            "toniccelli\n",
            "xagustinaailenx\n",
            "DepetrisLourdes\n",
            "Analia41891210\n",
            "EstebanCohen4\n",
            "Romi_detorres\n",
            "MrLivertyTrump\n",
            "Daiana92109919\n",
            "LuzMart56182434\n",
            "meliiisueldoo\n",
            "Santiagogug\n",
            "Gabriel03308129\n",
            "AriadnaAli4\n",
            "evamorena1011\n",
            "MercedesLezana\n",
            "Juan51634799\n",
            "ezequie19266371\n",
            "IrriVeron\n"
          ],
          "name": "stdout"
        }
      ]
    },
    {
      "cell_type": "code",
      "metadata": {
        "id": "p_WQMEoaVQW7"
      },
      "source": [
        "#También queremos saber cuantos seguidores tiene\n",
        "\n",
        "def seguidores_count_single(nombre):\n",
        "    user1 = api.get_user(nombre)\n",
        "    print(\"La cuenta\",user1.screen_name,\"tiene\",user1.followers_count,\"seguidores\")"
      ],
      "execution_count": null,
      "outputs": []
    },
    {
      "cell_type": "code",
      "metadata": {
        "id": "RDG1mvWlVQUc",
        "outputId": "d8c99fee-9ae1-4102-e92a-5e02bd8a8d18",
        "colab": {
          "base_uri": "https://localhost:8080/"
        }
      },
      "source": [
        "#Aplicamos la función que creamos, y nos queda un programa para cada vez que querramos saber esta información.\n",
        "seguidores_count_single(\"alferdez\")\n",
        "seguidores_count_single(\"mauriciomacri\")"
      ],
      "execution_count": null,
      "outputs": [
        {
          "output_type": "stream",
          "text": [
            "La cuenta alferdez tiene 1915929 seguidores\n",
            "La cuenta mauriciomacri tiene 5111825 seguidores\n"
          ],
          "name": "stdout"
        }
      ]
    },
    {
      "cell_type": "code",
      "metadata": {
        "id": "-EGvP7QTV75N"
      },
      "source": [
        "#Defino una lista de usuarios sobre los cuales quiero saber información\n",
        "#Miremos algunos referentes de Alberto Fernandez \n",
        "\n",
        "usuarios = [\"alferdez\",\n",
        "            \"SantiCafiero\",\n",
        "            \"CasaRosada\",\n",
        "            \"RossiAgustinOk\",\n",
        "            \"avanoliok\",\n",
        "            \"RCSalvarezza\",\n",
        "            \"MariaEBielsaOk\",\n",
        "            \"mmlosardo\",\n",
        "            \"LEBasterra\",\n",
        "            \"mariomeoni\",\n",
        "            \"juancabandie\",\n",
        "            \"martin_M_Guzman\",\n",
        "            \"EliGAlcorta\",\n",
        "            \"trottanico\",\n",
        "            \"FerEspinozaOk\"\n",
        "            ]"
      ],
      "execution_count": null,
      "outputs": []
    },
    {
      "cell_type": "code",
      "metadata": {
        "id": "zrWCRwt-V70g"
      },
      "source": [
        "#Potencio mi función original para que pueda procesar mas elementos. ¿Cómo hago esto? Con un bucle.\n",
        "\n",
        "def seguidores_count_multiple(nombres):\n",
        "    for nombre in nombres:\n",
        "      user1 = api.get_user(nombre)\n",
        "      print(\"La cuenta\",user1.screen_name,\"tiene\",user1.followers_count,\"seguidores\")"
      ],
      "execution_count": null,
      "outputs": []
    },
    {
      "cell_type": "code",
      "metadata": {
        "id": "SkLOENHoRjcQ",
        "outputId": "4740cbb9-bfd4-4baa-c005-2092d80f8df2",
        "colab": {
          "base_uri": "https://localhost:8080/"
        }
      },
      "source": [
        "seguidores_count_multiple(usuarios)"
      ],
      "execution_count": null,
      "outputs": [
        {
          "output_type": "stream",
          "text": [
            "La cuenta alferdez tiene 1915931 seguidores\n",
            "La cuenta SantiCafiero tiene 255996 seguidores\n",
            "La cuenta CasaRosada tiene 832697 seguidores\n",
            "La cuenta RossiAgustinOk tiene 223784 seguidores\n",
            "La cuenta avanoliok tiene 42166 seguidores\n",
            "La cuenta RCSalvarezza tiene 55935 seguidores\n",
            "La cuenta MariaEBielsaOk tiene 46658 seguidores\n",
            "La cuenta mmlosardo tiene 26600 seguidores\n",
            "La cuenta LEBasterra tiene 14002 seguidores\n",
            "La cuenta mariomeoni tiene 26891 seguidores\n",
            "La cuenta juancabandie tiene 240957 seguidores\n",
            "La cuenta Martin_M_Guzman tiene 174439 seguidores\n",
            "La cuenta EliGAlcorta tiene 56674 seguidores\n",
            "La cuenta trottanico tiene 123672 seguidores\n",
            "La cuenta FerEspinozaOK tiene 102627 seguidores\n"
          ],
          "name": "stdout"
        }
      ]
    },
    {
      "cell_type": "code",
      "metadata": {
        "id": "9fhWQr3xV7w0"
      },
      "source": [
        "#Nos traemos los últimos 100 tweets de Alberto Fernandez\n",
        "posteos = api.user_timeline(screen_name=\"alferdez\",count=1000,lang=\"es\",tweet_mode=\"extend\")"
      ],
      "execution_count": null,
      "outputs": []
    },
    {
      "cell_type": "code",
      "metadata": {
        "id": "unkyNb3YV7uR",
        "outputId": "0addcfce-134d-42a6-b4c7-0106e6bb27e7",
        "colab": {
          "base_uri": "https://localhost:8080/"
        }
      },
      "source": [
        "#Ya como sabrán, imprimo un comando para que sea legible.\n",
        "print(\"último tweet de Alberto Fernandez: \\n\")\n",
        "\n",
        "\n",
        "#Declaro una variable nueva para que sirva como \"contador\" en cada tweet \n",
        "i=1\n",
        "for tweet in posteos[0:10]:\n",
        "  print(str(i)+\")\",tweet.text,\"\\n\")\n",
        "  i=i+1"
      ],
      "execution_count": null,
      "outputs": [
        {
          "output_type": "stream",
          "text": [
            "último tweet de Alberto Fernandez: \n",
            "\n",
            "1) Somos la generación que no baja los brazos, que sigue invirtiendo, produciendo y generando trabajo. Y que en este m… https://t.co/3Q37o5JyrD \n",
            "\n",
            "2) Junto al gobernador @QuintelaRicardo inauguramos hoy la Central Arauco II del Parque Eólico Arauco en La Rioja, que… https://t.co/UzcFO2tMU6 \n",
            "\n",
            "3) RT @CasaRosada: EN VIVO | La Rioja - El presidente Alberto Fernández firma convenios y realiza anuncios. https://t.co/womcKnO5bb \n",
            "\n",
            "4) Fue muy grato haber participado hoy del encuentro virtual por los 15 años de la Corriente Nacional de la Militancia… https://t.co/dezop64bcD \n",
            "\n",
            "5) Hoy me reuní con los interventores del ENRE y del ENARGAS. Analizamos la situación de las tarifas. Observamos con p… https://t.co/T3acpUcMJB \n",
            "\n",
            "6) Esta mañana conversé por teléfono con el primer ministro de los Países Bajos, Mark Rutte (@MinPres), sobre la pande… https://t.co/lhpOqAsC8k \n",
            "\n",
            "7) RT @JuanZabaletaOK: El @hospitalposadas volvió a ponerse de pie gracias al compromiso y al trabajo de un gran equipo de profesionales encab… \n",
            "\n",
            "8) RT @gkatopodis: El presidente @alferdez me encomendó volver a darle a #VialidadNacional la jerarquía que nunca debió haber perdido.\n",
            "\n",
            "Gracia… \n",
            "\n",
            "9) RT @RossiAgustinOk: #17OctubreDesdeCasa| \"Este año el peronismo cumple 75 años. Estaremos ante el acto virtual más grande de la Argentina.… \n",
            "\n",
            "10) RT @RossiAgustinOk: La pandemia, como a todos, nos ha complicado. Pero no tengas dudas, que con el liderazgo del profesor @alferdez, los ar… \n",
            "\n"
          ],
          "name": "stdout"
        }
      ]
    },
    {
      "cell_type": "markdown",
      "metadata": {
        "id": "FZlXH_E_gycj"
      },
      "source": [
        "### **Creando una base de datos de tweets.**"
      ]
    },
    {
      "cell_type": "code",
      "metadata": {
        "id": "9RbSt9nyV7rB"
      },
      "source": [
        "#Creamos nuestro propio dataFrame con los tweets de Alberto:\n",
        "data_tweet = pd.DataFrame(data=[tweet.text for tweet in posteos],columns=[\"Tweets\"])"
      ],
      "execution_count": null,
      "outputs": []
    },
    {
      "cell_type": "code",
      "metadata": {
        "id": "P8TVFL9oVQCC",
        "outputId": "000d6f26-cc80-4e26-9fc9-6bf689fc5435",
        "colab": {
          "base_uri": "https://localhost:8080/",
          "height": 424
        }
      },
      "source": [
        "#Ahora, queremos ver qué construimos.\n",
        "#Sólo escribiendo data, podemos ver un ejemplo de las primeras filas. \n",
        "data_tweet"
      ],
      "execution_count": null,
      "outputs": [
        {
          "output_type": "execute_result",
          "data": {
            "text/html": [
              "<div>\n",
              "<style scoped>\n",
              "    .dataframe tbody tr th:only-of-type {\n",
              "        vertical-align: middle;\n",
              "    }\n",
              "\n",
              "    .dataframe tbody tr th {\n",
              "        vertical-align: top;\n",
              "    }\n",
              "\n",
              "    .dataframe thead th {\n",
              "        text-align: right;\n",
              "    }\n",
              "</style>\n",
              "<table border=\"1\" class=\"dataframe\">\n",
              "  <thead>\n",
              "    <tr style=\"text-align: right;\">\n",
              "      <th></th>\n",
              "      <th>Tweets</th>\n",
              "    </tr>\n",
              "  </thead>\n",
              "  <tbody>\n",
              "    <tr>\n",
              "      <th>0</th>\n",
              "      <td>Somos la generación que no baja los brazos, qu...</td>\n",
              "    </tr>\n",
              "    <tr>\n",
              "      <th>1</th>\n",
              "      <td>Junto al gobernador @QuintelaRicardo inauguram...</td>\n",
              "    </tr>\n",
              "    <tr>\n",
              "      <th>2</th>\n",
              "      <td>RT @CasaRosada: EN VIVO | La Rioja - El presid...</td>\n",
              "    </tr>\n",
              "    <tr>\n",
              "      <th>3</th>\n",
              "      <td>Fue muy grato haber participado hoy del encuen...</td>\n",
              "    </tr>\n",
              "    <tr>\n",
              "      <th>4</th>\n",
              "      <td>Hoy me reuní con los interventores del ENRE y ...</td>\n",
              "    </tr>\n",
              "    <tr>\n",
              "      <th>...</th>\n",
              "      <td>...</td>\n",
              "    </tr>\n",
              "    <tr>\n",
              "      <th>195</th>\n",
              "      <td>RT @alferdezprensa: 📺“Internet y la fibra ópti...</td>\n",
              "    </tr>\n",
              "    <tr>\n",
              "      <th>196</th>\n",
              "      <td>RT @alferdezprensa: 📺“Voy a hacer todos los es...</td>\n",
              "    </tr>\n",
              "    <tr>\n",
              "      <th>197</th>\n",
              "      <td>RT @alferdezprensa: 📺“Lo que nosotros pedimos ...</td>\n",
              "    </tr>\n",
              "    <tr>\n",
              "      <th>198</th>\n",
              "      <td>RT @alferdezprensa: 📺“Lo último que yo haría e...</td>\n",
              "    </tr>\n",
              "    <tr>\n",
              "      <th>199</th>\n",
              "      <td>RT @alferdezprensa: 📺“No se pueden permitir la...</td>\n",
              "    </tr>\n",
              "  </tbody>\n",
              "</table>\n",
              "<p>200 rows × 1 columns</p>\n",
              "</div>"
            ],
            "text/plain": [
              "                                                Tweets\n",
              "0    Somos la generación que no baja los brazos, qu...\n",
              "1    Junto al gobernador @QuintelaRicardo inauguram...\n",
              "2    RT @CasaRosada: EN VIVO | La Rioja - El presid...\n",
              "3    Fue muy grato haber participado hoy del encuen...\n",
              "4    Hoy me reuní con los interventores del ENRE y ...\n",
              "..                                                 ...\n",
              "195  RT @alferdezprensa: 📺“Internet y la fibra ópti...\n",
              "196  RT @alferdezprensa: 📺“Voy a hacer todos los es...\n",
              "197  RT @alferdezprensa: 📺“Lo que nosotros pedimos ...\n",
              "198  RT @alferdezprensa: 📺“Lo último que yo haría e...\n",
              "199  RT @alferdezprensa: 📺“No se pueden permitir la...\n",
              "\n",
              "[200 rows x 1 columns]"
            ]
          },
          "metadata": {
            "tags": []
          },
          "execution_count": 450
        }
      ]
    },
    {
      "cell_type": "code",
      "metadata": {
        "id": "CUn7r0PHWSZK"
      },
      "source": [
        "#Agregamos la columna \"Retweets\" a \"Data\" bajo la siguiente forma:\n",
        "data_tweet[\"Retweets\"] = [tweet.retweet_count for tweet in posteos]"
      ],
      "execution_count": null,
      "outputs": []
    },
    {
      "cell_type": "code",
      "metadata": {
        "id": "5Lc1G9PAWSV4"
      },
      "source": [
        "#Queremos más información. Queremos la cantidad de favoritos. \n",
        "data_tweet[\"Favoritos\"] = [tweet.favorite_count for tweet in posteos]"
      ],
      "execution_count": null,
      "outputs": []
    },
    {
      "cell_type": "code",
      "metadata": {
        "id": "9X6h0MVHWSS7"
      },
      "source": [
        "#Por último, queremos saber un poco más de metadata del tweet. Es decir, información sobre el elemento.\n",
        "#Queremos saber específicamente la fecha y horario en el cual fue publicado. \n",
        "data_tweet[\"Fecha\"] =[tweet.created_at for tweet in posteos]"
      ],
      "execution_count": null,
      "outputs": []
    },
    {
      "cell_type": "markdown",
      "metadata": {
        "id": "7ryCEKQXXRrg"
      },
      "source": [
        "Vemos que finalmente nos quedó una tabla con información de los últimos Tweets de Alberto Fernandez lista para ser procesada y analizada. \n",
        "\n",
        "A fin de poder generar una tabla que reordene de acuerdo a la performance de los tweets por favoritos..\n",
        "\n",
        "¿Qué hacemos? Tenemos una opción, que es ordenar nuestra tabla - la cual está como serie tmeporal actualmente - por cantidad de retweets.\n",
        "\n",
        "Como no queremos arruinar la que tenemos ordenada temporalmente, generamos una nueva. "
      ]
    },
    {
      "cell_type": "code",
      "metadata": {
        "id": "SZeBJnpjWSQ_",
        "outputId": "c8fb4e6f-b337-4751-939f-f987f5de6d82",
        "colab": {
          "base_uri": "https://localhost:8080/",
          "height": 363
        }
      },
      "source": [
        "#Creo una variable al cual le asigno como valor los tweets ordenados por cantidad de tweet.\n",
        "#El método \".sort_values\" opera sobre data ordenandola según el primer argumento que escribimos: \"Retweets\".\n",
        "#El segundo argumento, le dice que el orden es descendente, al declarar falso al orden ascendente.\n",
        "\n",
        "favoritos_mas_exitosos = data_tweet.sort_values(\"Favoritos\",ascending=False)\n",
        "\n",
        "favoritos_mas_exitosos[0:10]"
      ],
      "execution_count": null,
      "outputs": [
        {
          "output_type": "execute_result",
          "data": {
            "text/html": [
              "<div>\n",
              "<style scoped>\n",
              "    .dataframe tbody tr th:only-of-type {\n",
              "        vertical-align: middle;\n",
              "    }\n",
              "\n",
              "    .dataframe tbody tr th {\n",
              "        vertical-align: top;\n",
              "    }\n",
              "\n",
              "    .dataframe thead th {\n",
              "        text-align: right;\n",
              "    }\n",
              "</style>\n",
              "<table border=\"1\" class=\"dataframe\">\n",
              "  <thead>\n",
              "    <tr style=\"text-align: right;\">\n",
              "      <th></th>\n",
              "      <th>Tweets</th>\n",
              "      <th>Retweets</th>\n",
              "      <th>Favoritos</th>\n",
              "      <th>Fecha</th>\n",
              "    </tr>\n",
              "  </thead>\n",
              "  <tbody>\n",
              "    <tr>\n",
              "      <th>42</th>\n",
              "      <td>La penalización del aborto ha fracasado como p...</td>\n",
              "      <td>14894</td>\n",
              "      <td>82747</td>\n",
              "      <td>2020-09-28 22:43:49</td>\n",
              "    </tr>\n",
              "    <tr>\n",
              "      <th>163</th>\n",
              "      <td>Agradezco todas las muestras de preocupación y...</td>\n",
              "      <td>14172</td>\n",
              "      <td>73703</td>\n",
              "      <td>2020-09-09 21:10:08</td>\n",
              "    </tr>\n",
              "    <tr>\n",
              "      <th>31</th>\n",
              "      <td>Se nos fue Quino, uno de los artistas más gran...</td>\n",
              "      <td>3544</td>\n",
              "      <td>28375</td>\n",
              "      <td>2020-09-30 20:52:55</td>\n",
              "    </tr>\n",
              "    <tr>\n",
              "      <th>117</th>\n",
              "      <td>Hace 44 años la dictadura secuestraba y tortur...</td>\n",
              "      <td>5900</td>\n",
              "      <td>25576</td>\n",
              "      <td>2020-09-17 00:47:21</td>\n",
              "    </tr>\n",
              "    <tr>\n",
              "      <th>89</th>\n",
              "      <td>Estudiando, los y las jóvenes van consolidando...</td>\n",
              "      <td>2587</td>\n",
              "      <td>20751</td>\n",
              "      <td>2020-09-21 19:17:02</td>\n",
              "    </tr>\n",
              "    <tr>\n",
              "      <th>151</th>\n",
              "      <td>Agradezco a los gobernadores y las gobernadora...</td>\n",
              "      <td>4914</td>\n",
              "      <td>18533</td>\n",
              "      <td>2020-09-10 23:24:45</td>\n",
              "    </tr>\n",
              "    <tr>\n",
              "      <th>173</th>\n",
              "      <td>Desde @juntoscambioar han convocado al “diálog...</td>\n",
              "      <td>4660</td>\n",
              "      <td>15583</td>\n",
              "      <td>2020-09-08 18:58:38</td>\n",
              "    </tr>\n",
              "    <tr>\n",
              "      <th>139</th>\n",
              "      <td>Lo que estamos haciendo no es sembrar discordi...</td>\n",
              "      <td>3787</td>\n",
              "      <td>15428</td>\n",
              "      <td>2020-09-11 20:16:36</td>\n",
              "    </tr>\n",
              "    <tr>\n",
              "      <th>120</th>\n",
              "      <td>Un país federal no es en contra de nadie: es a...</td>\n",
              "      <td>3442</td>\n",
              "      <td>14297</td>\n",
              "      <td>2020-09-16 00:45:35</td>\n",
              "    </tr>\n",
              "    <tr>\n",
              "      <th>36</th>\n",
              "      <td>Mis sinceras condolencias a la familia del ins...</td>\n",
              "      <td>1848</td>\n",
              "      <td>13828</td>\n",
              "      <td>2020-09-29 11:33:43</td>\n",
              "    </tr>\n",
              "  </tbody>\n",
              "</table>\n",
              "</div>"
            ],
            "text/plain": [
              "                                                Tweets  ...               Fecha\n",
              "42   La penalización del aborto ha fracasado como p...  ... 2020-09-28 22:43:49\n",
              "163  Agradezco todas las muestras de preocupación y...  ... 2020-09-09 21:10:08\n",
              "31   Se nos fue Quino, uno de los artistas más gran...  ... 2020-09-30 20:52:55\n",
              "117  Hace 44 años la dictadura secuestraba y tortur...  ... 2020-09-17 00:47:21\n",
              "89   Estudiando, los y las jóvenes van consolidando...  ... 2020-09-21 19:17:02\n",
              "151  Agradezco a los gobernadores y las gobernadora...  ... 2020-09-10 23:24:45\n",
              "173  Desde @juntoscambioar han convocado al “diálog...  ... 2020-09-08 18:58:38\n",
              "139  Lo que estamos haciendo no es sembrar discordi...  ... 2020-09-11 20:16:36\n",
              "120  Un país federal no es en contra de nadie: es a...  ... 2020-09-16 00:45:35\n",
              "36   Mis sinceras condolencias a la familia del ins...  ... 2020-09-29 11:33:43\n",
              "\n",
              "[10 rows x 4 columns]"
            ]
          },
          "metadata": {
            "tags": []
          },
          "execution_count": 454
        }
      ]
    },
    {
      "cell_type": "code",
      "metadata": {
        "id": "2R45DfbSWSNF",
        "outputId": "2463b145-ebd6-4332-98f5-14b8c98feb86",
        "colab": {
          "base_uri": "https://localhost:8080/",
          "height": 17
        }
      },
      "source": [
        "#Importamos los métodos que utilizaremos\n",
        "from google.colab import files\n",
        "\n",
        "#Convertimos nuestro DataFrame en un archivo .csv y especificando entre paréntesis y comillas, el nombre que le queremos poner al archivo\n",
        "data_tweet.to_csv(\"Tweets de AF.csv\")\n",
        "\n",
        "#Escribimos el comando \"files.download\" para que descargue el archivo creado en nuestro disco local.\n",
        "files.download(\"Tweets de AF.csv\")"
      ],
      "execution_count": null,
      "outputs": [
        {
          "output_type": "display_data",
          "data": {
            "application/javascript": [
              "\n",
              "    async function download(id, filename, size) {\n",
              "      if (!google.colab.kernel.accessAllowed) {\n",
              "        return;\n",
              "      }\n",
              "      const div = document.createElement('div');\n",
              "      const label = document.createElement('label');\n",
              "      label.textContent = `Downloading \"${filename}\": `;\n",
              "      div.appendChild(label);\n",
              "      const progress = document.createElement('progress');\n",
              "      progress.max = size;\n",
              "      div.appendChild(progress);\n",
              "      document.body.appendChild(div);\n",
              "\n",
              "      const buffers = [];\n",
              "      let downloaded = 0;\n",
              "\n",
              "      const channel = await google.colab.kernel.comms.open(id);\n",
              "      // Send a message to notify the kernel that we're ready.\n",
              "      channel.send({})\n",
              "\n",
              "      for await (const message of channel.messages) {\n",
              "        // Send a message to notify the kernel that we're ready.\n",
              "        channel.send({})\n",
              "        if (message.buffers) {\n",
              "          for (const buffer of message.buffers) {\n",
              "            buffers.push(buffer);\n",
              "            downloaded += buffer.byteLength;\n",
              "            progress.value = downloaded;\n",
              "          }\n",
              "        }\n",
              "      }\n",
              "      const blob = new Blob(buffers, {type: 'application/binary'});\n",
              "      const a = document.createElement('a');\n",
              "      a.href = window.URL.createObjectURL(blob);\n",
              "      a.download = filename;\n",
              "      div.appendChild(a);\n",
              "      a.click();\n",
              "      div.remove();\n",
              "    }\n",
              "  "
            ],
            "text/plain": [
              "<IPython.core.display.Javascript object>"
            ]
          },
          "metadata": {
            "tags": []
          }
        },
        {
          "output_type": "display_data",
          "data": {
            "application/javascript": [
              "download(\"download_2d00f04c-e6e5-4ef9-9209-e05151612771\", \"Tweets de AF.csv\", 35019)"
            ],
            "text/plain": [
              "<IPython.core.display.Javascript object>"
            ]
          },
          "metadata": {
            "tags": []
          }
        }
      ]
    },
    {
      "cell_type": "code",
      "metadata": {
        "id": "f9jSHZf7WSKO",
        "outputId": "6d4c219d-6f95-4ac8-b24c-ea3faf434630",
        "colab": {
          "base_uri": "https://localhost:8080/",
          "height": 17
        }
      },
      "source": [
        "#Pero también lo queremos en archivo excel.\n",
        "\n",
        "#Convertimos nuestro DataFrame a un archivo .xlsx\n",
        "data_tweet.to_excel(\"Tweets de AF.xlsx\")\n",
        "\n",
        "#Escribimos nuevamente el comando de descarga y le pasamos el nombre de nuestro archivo.\n",
        "files.download(\"Tweets de AF.xlsx\")"
      ],
      "execution_count": null,
      "outputs": [
        {
          "output_type": "display_data",
          "data": {
            "application/javascript": [
              "\n",
              "    async function download(id, filename, size) {\n",
              "      if (!google.colab.kernel.accessAllowed) {\n",
              "        return;\n",
              "      }\n",
              "      const div = document.createElement('div');\n",
              "      const label = document.createElement('label');\n",
              "      label.textContent = `Downloading \"${filename}\": `;\n",
              "      div.appendChild(label);\n",
              "      const progress = document.createElement('progress');\n",
              "      progress.max = size;\n",
              "      div.appendChild(progress);\n",
              "      document.body.appendChild(div);\n",
              "\n",
              "      const buffers = [];\n",
              "      let downloaded = 0;\n",
              "\n",
              "      const channel = await google.colab.kernel.comms.open(id);\n",
              "      // Send a message to notify the kernel that we're ready.\n",
              "      channel.send({})\n",
              "\n",
              "      for await (const message of channel.messages) {\n",
              "        // Send a message to notify the kernel that we're ready.\n",
              "        channel.send({})\n",
              "        if (message.buffers) {\n",
              "          for (const buffer of message.buffers) {\n",
              "            buffers.push(buffer);\n",
              "            downloaded += buffer.byteLength;\n",
              "            progress.value = downloaded;\n",
              "          }\n",
              "        }\n",
              "      }\n",
              "      const blob = new Blob(buffers, {type: 'application/binary'});\n",
              "      const a = document.createElement('a');\n",
              "      a.href = window.URL.createObjectURL(blob);\n",
              "      a.download = filename;\n",
              "      div.appendChild(a);\n",
              "      a.click();\n",
              "      div.remove();\n",
              "    }\n",
              "  "
            ],
            "text/plain": [
              "<IPython.core.display.Javascript object>"
            ]
          },
          "metadata": {
            "tags": []
          }
        },
        {
          "output_type": "display_data",
          "data": {
            "application/javascript": [
              "download(\"download_f076c660-497d-44bd-8d38-bed91d1d3c69\", \"Tweets de AF.xlsx\", 23846)"
            ],
            "text/plain": [
              "<IPython.core.display.Javascript object>"
            ]
          },
          "metadata": {
            "tags": []
          }
        }
      ]
    },
    {
      "cell_type": "markdown",
      "metadata": {
        "id": "4SVv-s63iXqF"
      },
      "source": [
        "Recién buscamos explorar cómo podíamos estructurar un dataset sin tener uno, solamente conociendo y explorando las herramientas que podíamos utilizar de acuerdo al problema que teníamos. Generamos una base de datos desde 0 utilizando la *Caja de herramientas* adecuada combinandola con Pandas para poder tener finalmente nuestro CSV."
      ]
    }
  ]
}