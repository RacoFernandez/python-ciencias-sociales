{
  "nbformat": 4,
  "nbformat_minor": 0,
  "metadata": {
    "colab": {
      "name": "Clase IV - Python: Librerías principales - ejercicios",
      "provenance": [],
      "collapsed_sections": [
        "Hu_Wk02uu9yl",
        "-aNxvSILwCLO"
      ]
    },
    "kernelspec": {
      "name": "python3",
      "display_name": "Python 3"
    }
  },
  "cells": [
    {
      "cell_type": "markdown",
      "metadata": {
        "id": "ZA5HN5YFuxu0"
      },
      "source": [
        "## **Python: Librerías principales**"
      ]
    },
    {
      "cell_type": "markdown",
      "metadata": {
        "id": "Hu_Wk02uu9yl"
      },
      "source": [
        "### **Importando librerías**"
      ]
    },
    {
      "cell_type": "markdown",
      "metadata": {
        "id": "egeKNfIkvBwR"
      },
      "source": [
        "1- Importá toda la librería numpy abreviada\n",
        "\n",
        "*Hint*: Recordá la forma abreviada convencional."
      ]
    },
    {
      "cell_type": "code",
      "metadata": {
        "id": "qRDnUNBau8Ct"
      },
      "source": [
        "#Escribí el código acá."
      ],
      "execution_count": null,
      "outputs": []
    },
    {
      "cell_type": "markdown",
      "metadata": {
        "id": "eQ1pbY_AvY5-"
      },
      "source": [
        "2- Importá sólo el método *read_csv* de pandas."
      ]
    },
    {
      "cell_type": "code",
      "metadata": {
        "id": "MaKqw2H_vKYT"
      },
      "source": [
        "#Escribí el código acá."
      ],
      "execution_count": null,
      "outputs": []
    },
    {
      "cell_type": "markdown",
      "metadata": {
        "id": "It7aHZOlvruE"
      },
      "source": [
        "3- Importá el módulo .pyplot de Matplotlib."
      ]
    },
    {
      "cell_type": "code",
      "metadata": {
        "id": "eTuQCbIWvxeV"
      },
      "source": [
        "#Escribí el código acá."
      ],
      "execution_count": null,
      "outputs": []
    },
    {
      "cell_type": "markdown",
      "metadata": {
        "id": "lepgrAMVvzPD"
      },
      "source": [
        "4-Importá el módulo entero de Pandas abreviado."
      ]
    },
    {
      "cell_type": "code",
      "metadata": {
        "id": "sda7EPYdv3Cc"
      },
      "source": [
        "#Escribí el código acá."
      ],
      "execution_count": null,
      "outputs": []
    },
    {
      "cell_type": "markdown",
      "metadata": {
        "id": "XaPpQhBav5VA"
      },
      "source": [
        "5-Consultá información de los métodos y funciones de pandas."
      ]
    },
    {
      "cell_type": "markdown",
      "metadata": {
        "id": "-aNxvSILwCLO"
      },
      "source": [
        "### **Practicando vectores con Numpy.**"
      ]
    },
    {
      "cell_type": "markdown",
      "metadata": {
        "id": "aSbee4ZUwQeE"
      },
      "source": [
        "6- Crea dos arrays unidimensionales de 4 elementos cada uno."
      ]
    },
    {
      "cell_type": "code",
      "metadata": {
        "id": "289eJyRuv_8k"
      },
      "source": [
        "#Escribí el código acá."
      ],
      "execution_count": null,
      "outputs": []
    },
    {
      "cell_type": "markdown",
      "metadata": {
        "id": "DLhtLja5wYX6"
      },
      "source": [
        "7- Consultá la forma de cada vector creado.\n"
      ]
    },
    {
      "cell_type": "code",
      "metadata": {
        "id": "sr_TDIUcwcuc"
      },
      "source": [
        "#Escribí el código acá."
      ],
      "execution_count": null,
      "outputs": []
    },
    {
      "cell_type": "markdown",
      "metadata": {
        "id": "5WHnOrtVwept"
      },
      "source": [
        "8- Unificá ambos vectores es uno."
      ]
    },
    {
      "cell_type": "code",
      "metadata": {
        "id": "zKVR47q_w5-k"
      },
      "source": [
        "#Escribí el código acá."
      ],
      "execution_count": null,
      "outputs": []
    },
    {
      "cell_type": "markdown",
      "metadata": {
        "id": "WQx_s3vWwlWl"
      },
      "source": [
        "9-Ahora creá un vector de números del 1 al 1000 y reformalo en 5 dimensiones de 200 elementos por cada vector de la matriz reformada."
      ]
    },
    {
      "cell_type": "code",
      "metadata": {
        "id": "e8CAJu9qwdH1"
      },
      "source": [
        "#Escribí el código acá."
      ],
      "execution_count": null,
      "outputs": []
    },
    {
      "cell_type": "markdown",
      "metadata": {
        "id": "k8Jhd_kGw8Lm"
      },
      "source": [
        "10- Quedate solamente con los numeros pares de la matriz."
      ]
    },
    {
      "cell_type": "code",
      "metadata": {
        "id": "0FYaq69KxShu"
      },
      "source": [
        "#Escribí el código acá."
      ],
      "execution_count": null,
      "outputs": []
    },
    {
      "cell_type": "markdown",
      "metadata": {
        "id": "HQye_JkoyMvJ"
      },
      "source": [
        "11-Ahora crea una máscara booleana con la condición anterior.\n",
        "\n",
        "*Hint*: Es menos código que el anterior."
      ]
    },
    {
      "cell_type": "code",
      "metadata": {
        "id": "ZcnUYA0IyVUL"
      },
      "source": [
        "#Escribí el código acá."
      ],
      "execution_count": null,
      "outputs": []
    },
    {
      "cell_type": "markdown",
      "metadata": {
        "id": "LpL9VE8qyXlr"
      },
      "source": [
        "12- Ahora quedate con el primer vector de números."
      ]
    },
    {
      "cell_type": "code",
      "metadata": {
        "id": "GjmbiSbnyXP1"
      },
      "source": [
        "#Escribí el código acá."
      ],
      "execution_count": null,
      "outputs": []
    },
    {
      "cell_type": "markdown",
      "metadata": {
        "id": "tAu2bH55yxdJ"
      },
      "source": [
        "13- Quedate con los vectores ubicados en la 4°, 6° y 9° posición de la matriz."
      ]
    },
    {
      "cell_type": "code",
      "metadata": {
        "id": "emOVqVFPyWMW"
      },
      "source": [
        "#Escribí el código acá."
      ],
      "execution_count": null,
      "outputs": []
    },
    {
      "cell_type": "markdown",
      "metadata": {
        "id": "Kj4cPYZTy-Ni"
      },
      "source": [
        "14-Quedate con los números de la cuarta posición de los vectores anteriores.\n",
        "\n",
        "*Hint*: [ : , ]"
      ]
    },
    {
      "cell_type": "code",
      "metadata": {
        "id": "dcWpS3JRzIHN"
      },
      "source": [
        "#Escribí el código acá."
      ],
      "execution_count": null,
      "outputs": []
    },
    {
      "cell_type": "markdown",
      "metadata": {
        "id": "nn1VLwQ1zLCm"
      },
      "source": [
        "15- Por último, generá un nueva matriz de números aleatorios enteros que vayan de 1000 a 2000, de 50 números, reformando en 5 dimensiones de 10 elementos cada vector.\n",
        "\n",
        "*Hint:* Creás una variable y los valores los creás con métodos vistos en Numpy."
      ]
    },
    {
      "cell_type": "code",
      "metadata": {
        "id": "bytYEq9uzvtN"
      },
      "source": [
        "#Escribí el código acá."
      ],
      "execution_count": null,
      "outputs": []
    },
    {
      "cell_type": "markdown",
      "metadata": {
        "id": "HXK3_wg00ELN"
      },
      "source": [
        "### **Tablas en Pandas.**"
      ]
    },
    {
      "cell_type": "markdown",
      "metadata": {
        "id": "SK5ci-KM0I5U"
      },
      "source": [
        "16- Creá un DataFrame vacío. "
      ]
    },
    {
      "cell_type": "code",
      "metadata": {
        "id": "ywBIjyHn0GpP"
      },
      "source": [
        "#Escribí el código acá."
      ],
      "execution_count": null,
      "outputs": []
    },
    {
      "cell_type": "markdown",
      "metadata": {
        "id": "eNwOqrk00Txc"
      },
      "source": [
        "17- Creá una columna de 10 nombres con el nombre de la columna \"Persona\".\n",
        "\n",
        "*Hint:* Podés usar una lista para almacenar valores."
      ]
    },
    {
      "cell_type": "code",
      "metadata": {
        "id": "9FQlj9Ei0TJd"
      },
      "source": [
        "#Escribí el código acá."
      ],
      "execution_count": null,
      "outputs": []
    },
    {
      "cell_type": "markdown",
      "metadata": {
        "id": "JjIinfA10wju"
      },
      "source": [
        "18- Agregá una columna que sea la edad, generando valores aleatorios que vayan desde el 20 al 40.\n",
        "\n",
        "*Hint:* Recordá que deben tener la misma extensión."
      ]
    },
    {
      "cell_type": "code",
      "metadata": {
        "id": "y1NqJb550-Os"
      },
      "source": [
        "#Escribí el código acá."
      ],
      "execution_count": null,
      "outputs": []
    },
    {
      "cell_type": "markdown",
      "metadata": {
        "id": "g-IYL01w1MNM"
      },
      "source": [
        "19- Agregá otra columna que sea salario, de números aleatorios que vayan desde 15000 hasta 20000"
      ]
    },
    {
      "cell_type": "code",
      "metadata": {
        "id": "zupnwc6i19Oj"
      },
      "source": [
        "#Escribí el código acá."
      ],
      "execution_count": null,
      "outputs": []
    },
    {
      "cell_type": "markdown",
      "metadata": {
        "id": "mHPC40Wp1-f1"
      },
      "source": [
        "20- Ahora quedate sólo con las columnas de Persona y salario."
      ]
    },
    {
      "cell_type": "code",
      "metadata": {
        "id": "uI8e-QFk2wqO"
      },
      "source": [
        "#Escribí el código acá."
      ],
      "execution_count": null,
      "outputs": []
    },
    {
      "cell_type": "markdown",
      "metadata": {
        "id": "DsBKG8Ut25l2"
      },
      "source": [
        "21- De la columna de salario, quedate con aquellas que sean mayores a 25.000"
      ]
    },
    {
      "cell_type": "code",
      "metadata": {
        "id": "ZNL5W5AC2_FU"
      },
      "source": [
        "#Escribí el código acá."
      ],
      "execution_count": null,
      "outputs": []
    },
    {
      "cell_type": "markdown",
      "metadata": {
        "id": "AzyDNBuS3Acc"
      },
      "source": [
        "22- De la columna edad, generá una máscara booleana con edades mayores a 30."
      ]
    },
    {
      "cell_type": "code",
      "metadata": {
        "id": "Au_7zSNG2_i7"
      },
      "source": [
        "#Escribí el código acá."
      ],
      "execution_count": null,
      "outputs": []
    },
    {
      "cell_type": "markdown",
      "metadata": {
        "id": "ClYjlFKJ3Pe2"
      },
      "source": [
        "23- Por último, quedate con las dos primeras filas completas de la tabla."
      ]
    },
    {
      "cell_type": "code",
      "metadata": {
        "id": "eESeIzDu3WFH"
      },
      "source": [
        "#Escribí el código acá."
      ],
      "execution_count": null,
      "outputs": []
    },
    {
      "cell_type": "markdown",
      "metadata": {
        "id": "OJvtdoMx3XUz"
      },
      "source": [
        "24- Quedate sólo con las dos primeras filas completas, pero con la columna Edad.\n",
        "\n",
        "Hint: .loc y slicing."
      ]
    },
    {
      "cell_type": "code",
      "metadata": {
        "id": "3sLxqxAB3f6R"
      },
      "source": [
        "#Escribí el código acá."
      ],
      "execution_count": null,
      "outputs": []
    },
    {
      "cell_type": "markdown",
      "metadata": {
        "id": "L_H0c88F3hK2"
      },
      "source": [
        "25- Ahora, generá una nueva tabla con los datos que filtraste en el ejercicio anterior."
      ]
    },
    {
      "cell_type": "code",
      "metadata": {
        "id": "gER1ouHG3oPD"
      },
      "source": [
        "#Escribí el código acá."
      ],
      "execution_count": null,
      "outputs": []
    },
    {
      "cell_type": "markdown",
      "metadata": {
        "id": "rXi8ybKt3vEv"
      },
      "source": [
        "### **Gráficos con Matplotlib.**"
      ]
    },
    {
      "cell_type": "markdown",
      "metadata": {
        "id": "nuweWv534YU0"
      },
      "source": [
        "1- Escribí un programa que dibuje una línea recta en el eje X, y tenga su función en el eje Y.\n",
        "\n",
        "*Hint*: Definí valores numéricos en el eje X, hacé una función matemática en el eje Y. (Y=F(x))"
      ]
    },
    {
      "cell_type": "code",
      "metadata": {
        "id": "oNVV1vOl3wtB"
      },
      "source": [
        "#Escribí el código acá."
      ],
      "execution_count": null,
      "outputs": []
    },
    {
      "cell_type": "markdown",
      "metadata": {
        "id": "N4R5QPfZ40CG"
      },
      "source": [
        "2- A ese programa que escribiste, agregale un título."
      ]
    },
    {
      "cell_type": "code",
      "metadata": {
        "id": "RgL2ZCc94zVA"
      },
      "source": [
        "#Escribí el código acá."
      ],
      "execution_count": null,
      "outputs": []
    },
    {
      "cell_type": "markdown",
      "metadata": {
        "id": "GzPrlvPq45St"
      },
      "source": [
        "3- Ahora agregale una grilla de fondo y modifica el tamaño del gráfico."
      ]
    },
    {
      "cell_type": "code",
      "metadata": {
        "id": "iaPPxMHD5FAb"
      },
      "source": [
        "#Escribí el código acá."
      ],
      "execution_count": null,
      "outputs": []
    },
    {
      "cell_type": "markdown",
      "metadata": {
        "id": "MgAngjkF5GKB"
      },
      "source": [
        "4- Graficá un histograma que tenga de eje X el nombre de las personas, de la tabla creada anteriormente y de eje Y el sueldo percibido."
      ]
    },
    {
      "cell_type": "code",
      "metadata": {
        "id": "ItC3JAk25ZJx"
      },
      "source": [
        "#Escribí el código acá."
      ],
      "execution_count": null,
      "outputs": []
    },
    {
      "cell_type": "markdown",
      "metadata": {
        "id": "WoPECwtU5aBO"
      },
      "source": [
        "5- Modificá el gráfico anterior en la escala Y para que se vea sólo a partir de 20000."
      ]
    },
    {
      "cell_type": "code",
      "metadata": {
        "id": "z6u4ANmV5jTs"
      },
      "source": [
        "#Escribí el código acá."
      ],
      "execution_count": null,
      "outputs": []
    }
  ]
}