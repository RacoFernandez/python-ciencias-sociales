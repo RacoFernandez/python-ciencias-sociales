{
  "nbformat": 4,
  "nbformat_minor": 0,
  "metadata": {
    "colab": {
      "name": "Clase I - Ejercicios - PCSyH",
      "provenance": [],
      "collapsed_sections": [],
      "toc_visible": true
    },
    "kernelspec": {
      "name": "python3",
      "display_name": "Python 3"
    }
  },
  "cells": [
    {
      "cell_type": "markdown",
      "metadata": {
        "id": "mJA3vG2DCMs2",
        "colab_type": "text"
      },
      "source": [
        "# **Ejercicios - Python: sintaxis básica I**\n"
      ]
    },
    {
      "cell_type": "markdown",
      "metadata": {
        "id": "-hrdx46yCMn6",
        "colab_type": "text"
      },
      "source": [
        "## **Asignación de valores.**"
      ]
    },
    {
      "cell_type": "markdown",
      "metadata": {
        "id": "wSFuLTbRCMrJ",
        "colab_type": "text"
      },
      "source": [
        "1- Crea una variable con un valor cadena. \n",
        "\n",
        "2- Imprimí esa variable por pantalla"
      ]
    },
    {
      "cell_type": "code",
      "metadata": {
        "id": "rErNwhr2CiRW",
        "colab_type": "code",
        "colab": {}
      },
      "source": [
        "#Escribí el código acá"
      ],
      "execution_count": 1,
      "outputs": []
    },
    {
      "cell_type": "markdown",
      "metadata": {
        "id": "MeGDyqQ7CMk6",
        "colab_type": "text"
      },
      "source": [
        "3- La variable que creaste, reescribila con un valor numérico entero.\n",
        "\n",
        "4- Imprimí su valor por pantalla."
      ]
    },
    {
      "cell_type": "code",
      "metadata": {
        "id": "GmMIFW8_CszP",
        "colab_type": "code",
        "colab": {}
      },
      "source": [
        "#Escribí el código acáá "
      ],
      "execution_count": null,
      "outputs": []
    },
    {
      "cell_type": "markdown",
      "metadata": {
        "id": "24mQUsLtC2xE",
        "colab_type": "text"
      },
      "source": [
        "5- Escribí una nueva variable con una lista vacía. "
      ]
    },
    {
      "cell_type": "code",
      "metadata": {
        "id": "_bRd1F7fC_Xd",
        "colab_type": "code",
        "colab": {}
      },
      "source": [
        "#Escribí el código acá"
      ],
      "execution_count": 2,
      "outputs": []
    },
    {
      "cell_type": "markdown",
      "metadata": {
        "id": "EWovRR0kDGUq",
        "colab_type": "text"
      },
      "source": [
        "6- A tu nueva variable de listas, asignale 5 valores del mismo tipo.\n",
        "\n",
        "7- Imprimí la lista por pantalla. \n",
        "\n",
        "(*Recordá que hay dos formas para imprimir un valor por pantalla, una es con un método, y la otra es escribiendo solamente el nombre de la variable*)"
      ]
    },
    {
      "cell_type": "code",
      "metadata": {
        "id": "x0Tvda3YDC0B",
        "colab_type": "code",
        "colab": {}
      },
      "source": [
        "#Escribí el código acá"
      ],
      "execution_count": null,
      "outputs": []
    },
    {
      "cell_type": "markdown",
      "metadata": {
        "id": "mCI0h0xKDVFK",
        "colab_type": "text"
      },
      "source": [
        "8- Ahora, agregale un valor de diferente tipo a tu lista creada."
      ]
    },
    {
      "cell_type": "code",
      "metadata": {
        "id": "N0p6f-0XDqLk",
        "colab_type": "code",
        "colab": {}
      },
      "source": [
        "#Escribí el código acá"
      ],
      "execution_count": null,
      "outputs": []
    },
    {
      "cell_type": "markdown",
      "metadata": {
        "id": "QJemOXLHDuAB",
        "colab_type": "text"
      },
      "source": [
        "9- Crea un diccionario vacío."
      ]
    },
    {
      "cell_type": "code",
      "metadata": {
        "id": "ImdJyYRqD0J8",
        "colab_type": "code",
        "colab": {}
      },
      "source": [
        "#Escribí el código acá"
      ],
      "execution_count": null,
      "outputs": []
    },
    {
      "cell_type": "markdown",
      "metadata": {
        "id": "te7zd6gVD1nq",
        "colab_type": "text"
      },
      "source": [
        "10- Al diccionario que creaste, sumale tres elementos con 2 pares claves valor que imagines que podrías almacenar.\n",
        "\n",
        "(*Ejemplo: nombre y edad de una persona*)"
      ]
    },
    {
      "cell_type": "code",
      "metadata": {
        "id": "i3glqcGaEIUx",
        "colab_type": "code",
        "colab": {}
      },
      "source": [
        ""
      ],
      "execution_count": null,
      "outputs": []
    },
    {
      "cell_type": "markdown",
      "metadata": {
        "id": "ZBe7NPL2EL6X",
        "colab_type": "text"
      },
      "source": [
        "## **Operaciones.**"
      ]
    },
    {
      "cell_type": "markdown",
      "metadata": {
        "id": "wcOnsCscEW8K",
        "colab_type": "text"
      },
      "source": [
        "1- Escribí 3 variables numéricas de *un* valor entero cada una."
      ]
    },
    {
      "cell_type": "code",
      "metadata": {
        "id": "eI6qUeUrEP-Y",
        "colab_type": "code",
        "colab": {}
      },
      "source": [
        "#Escribí código acá."
      ],
      "execution_count": 3,
      "outputs": []
    },
    {
      "cell_type": "markdown",
      "metadata": {
        "id": "B2ld3HAQFADS",
        "colab_type": "text"
      },
      "source": [
        "2- Escribí una ecuación matemática simple con los tres valores que de un resultado positivo.\n",
        "\n",
        "(*Somos cientistas sociales, pero sabemos plantear relaciones lógicas*)"
      ]
    },
    {
      "cell_type": "code",
      "metadata": {
        "id": "bbiGyde5E7vz",
        "colab_type": "code",
        "colab": {}
      },
      "source": [
        "#Escribí código acá."
      ],
      "execution_count": null,
      "outputs": []
    },
    {
      "cell_type": "markdown",
      "metadata": {
        "id": "56I9iwOyFUVr",
        "colab_type": "text"
      },
      "source": [
        "3- Con las primeras dos variables numéricas, construí dos demostraciones con operadores lógicos que quieras comprobar.\n",
        "\n",
        "*Hint*: mayor que, menor que, igual que, distinto que.\n"
      ]
    },
    {
      "cell_type": "code",
      "metadata": {
        "id": "7N83xfiOF20e",
        "colab_type": "code",
        "colab": {}
      },
      "source": [
        "#Escribí código acá."
      ],
      "execution_count": null,
      "outputs": []
    },
    {
      "cell_type": "markdown",
      "metadata": {
        "id": "KQTaNMCoF6TX",
        "colab_type": "text"
      },
      "source": [
        "4- Imprimí por pantalla los valores, con dos elementos: uno texto que explique o referencia lo que hacés, y el resultado final.\n",
        "\n",
        "(*Piensen en un resultado en lo que imprima por pantalla*)"
      ]
    },
    {
      "cell_type": "code",
      "metadata": {
        "id": "LCaoxdwIGIiI",
        "colab_type": "code",
        "colab": {}
      },
      "source": [
        "#Escribí código acá."
      ],
      "execution_count": null,
      "outputs": []
    },
    {
      "cell_type": "markdown",
      "metadata": {
        "id": "UUm_7WQqGVIi",
        "colab_type": "text"
      },
      "source": [
        "5- Crea una lista de 5 números enteros."
      ]
    },
    {
      "cell_type": "code",
      "metadata": {
        "id": "EwXYtmDHGbu8",
        "colab_type": "code",
        "colab": {}
      },
      "source": [
        "#Escribí código acá."
      ],
      "execution_count": null,
      "outputs": []
    },
    {
      "cell_type": "markdown",
      "metadata": {
        "id": "qP35oiKuGdor",
        "colab_type": "text"
      },
      "source": [
        "6- Consultá el 4° elemento de la lista."
      ]
    },
    {
      "cell_type": "code",
      "metadata": {
        "id": "_ewK-gluGgIu",
        "colab_type": "code",
        "colab": {}
      },
      "source": [
        "#Escribí código acá."
      ],
      "execution_count": null,
      "outputs": []
    },
    {
      "cell_type": "markdown",
      "metadata": {
        "id": "VmLUiW-ZGg1u",
        "colab_type": "text"
      },
      "source": [
        "7- Ahora consulta el 5° elemento de la lista."
      ]
    },
    {
      "cell_type": "code",
      "metadata": {
        "id": "8U2ytufsGlrI",
        "colab_type": "code",
        "colab": {}
      },
      "source": [
        "#Escribí código acá."
      ],
      "execution_count": null,
      "outputs": []
    },
    {
      "cell_type": "markdown",
      "metadata": {
        "id": "dpCIEcogGzlW",
        "colab_type": "text"
      },
      "source": [
        "8- Al diccionario que creaste en el apartado anterior, consultá el valor de la segunda clave."
      ]
    },
    {
      "cell_type": "code",
      "metadata": {
        "id": "BxaD0RPkG6eo",
        "colab_type": "code",
        "colab": {}
      },
      "source": [
        "#Escribí código acá."
      ],
      "execution_count": null,
      "outputs": []
    },
    {
      "cell_type": "markdown",
      "metadata": {
        "id": "4sSl6gI5G7St",
        "colab_type": "text"
      },
      "source": [
        "9- Crea dos tuplas con 2 valores cada una."
      ]
    },
    {
      "cell_type": "code",
      "metadata": {
        "id": "k31-1KPuHCOa",
        "colab_type": "code",
        "colab": {}
      },
      "source": [
        "#Escribí código acá."
      ],
      "execution_count": null,
      "outputs": []
    },
    {
      "cell_type": "markdown",
      "metadata": {
        "id": "LOJDvtAzHEoT",
        "colab_type": "text"
      },
      "source": [
        "10- Generá una nueva variable tupla en donde estén sumadas las tuplas anteriores."
      ]
    },
    {
      "cell_type": "code",
      "metadata": {
        "id": "9qeWizYPHESy",
        "colab_type": "code",
        "colab": {}
      },
      "source": [
        "#Escribí código acá."
      ],
      "execution_count": 6,
      "outputs": []
    },
    {
      "cell_type": "markdown",
      "metadata": {
        "id": "v31BoUZ2HZFl",
        "colab_type": "text"
      },
      "source": [
        "## **¿Dónde está el error?**"
      ]
    },
    {
      "cell_type": "code",
      "metadata": {
        "id": "7oQ49TDAHcdE",
        "colab_type": "code",
        "colab": {}
      },
      "source": [
        "#En este código quiero imprimir por pantalla la oración \"Hola Python\"\n",
        "print(Hola Python)\n",
        "\n",
        "#En esta línea escribí el código correcto. \n"
      ],
      "execution_count": null,
      "outputs": []
    },
    {
      "cell_type": "code",
      "metadata": {
        "id": "-rGlWjJcHv5p",
        "colab_type": "code",
        "colab": {}
      },
      "source": [
        "#En este código quiero crear una variable numérica entera.\n",
        "variable_numerica = \"3450\"\n",
        "\n",
        "#En esta línea escribí el código correcto. \n"
      ],
      "execution_count": null,
      "outputs": []
    },
    {
      "cell_type": "code",
      "metadata": {
        "id": "8HURH_B7HmDP",
        "colab_type": "code",
        "colab": {}
      },
      "source": [
        "#En este código quiero crear una tupla con valores diferentes.\n",
        "tupla_1 = (1,2,34hola)\n",
        "\n",
        "#En esta línea escribí el código correcto.\n"
      ],
      "execution_count": null,
      "outputs": []
    },
    {
      "cell_type": "code",
      "metadata": {
        "id": "C65xHtrWIMBU",
        "colab_type": "code",
        "colab": {}
      },
      "source": [
        "#En este código quiero crear una tupla con valores.\n",
        "tupla 2 = (1,2,3,57)\n",
        "\n",
        "#En esta línea escribí el código correcto.\n"
      ],
      "execution_count": null,
      "outputs": []
    },
    {
      "cell_type": "code",
      "metadata": {
        "id": "CHuBPqxzIWRL",
        "colab_type": "code",
        "colab": {}
      },
      "source": [
        "#En este código quiero crear un diccionario con tres valores.\n",
        "diccionario = {\"Juan\":2,\n",
        "               \"Martin:3\",\n",
        "               \"Mariana\":2}\n",
        "\n",
        "#En esta línea escribí el código correcto.\n"
      ],
      "execution_count": null,
      "outputs": []
    },
    {
      "cell_type": "code",
      "metadata": {
        "id": "hre-ja7GI58Q",
        "colab_type": "code",
        "colab": {}
      },
      "source": [
        "#En este cóódigo creo una lista de valores diferentes.\n",
        "lista = [1,2xx,3,4]\n",
        "\n",
        "#En esta línea escribí el código correcto.\n"
      ],
      "execution_count": null,
      "outputs": []
    }
  ]
}